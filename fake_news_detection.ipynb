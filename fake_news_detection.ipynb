{
  "nbformat": 4,
  "nbformat_minor": 0,
  "metadata": {
    "colab": {
      "name": "fake_news_detection.ipynb",
      "provenance": [],
      "collapsed_sections": [],
      "include_colab_link": true
    },
    "kernelspec": {
      "name": "python3",
      "display_name": "Python 3"
    },
    "language_info": {
      "name": "python"
    },
    "accelerator": "GPU",
    "gpuClass": "standard"
  },
  "cells": [
    {
      "cell_type": "markdown",
      "metadata": {
        "id": "view-in-github",
        "colab_type": "text"
      },
      "source": [
        "<a href=\"https://colab.research.google.com/github/BillyBSig/DTS-Final-Assignment/blob/main/fake_news_detection.ipynb\" target=\"_parent\"><img src=\"https://colab.research.google.com/assets/colab-badge.svg\" alt=\"Open In Colab\"/></a>"
      ]
    },
    {
      "cell_type": "markdown",
      "source": [
        "# Machine Learning, Deep Learning and BERT comparison for Fake News\n",
        "\n",
        "**Latar Belakang Masalah**\n",
        "\n",
        "Berita palsu telah menunjukkan pengaruhnya di berbagai bidang selama beberapa tahun terakhir. Beberapa di antaranya adalah fake news berpengaruh terhadap kemenangan yang diraih Donald Trump atas Hillary Clinton dalam pemilihan umum presiden Amerika Serikat pada tahun 2016 (Allcott dan Gentzkow, 2017). Star News membuat berita palsu mengenai percakapan yang direkam antara aktor Salman Khan dan aktris Aishwarya Rai yang terbukti sukses menarik perhatian publik ke Star TV (Thussu, 2007). Juga ada sebuah artikel lama mengenai kebangkrutan perusahaan induk United Airlines yang muncul kembali di internet dengan tanpa adanya waktu penerbitan dan secara keliru dipercayai sebagai berita baru tentang pengajuan kebangkrutan oleh perusahaan tersebut, sehingga mengakibatkan harga saham United Airlines dengan cepat jatuh sebesar 76 persen sebelum Nasdaq menghentikan trading (Carvalho et al, 2011).\n",
        "\n",
        "**Mengapa Berita fake news perlu diselesaikan**\n",
        "\n",
        "Banyak beredarnya berita palsu yang seakan mampu mempengaruhi pembaca sehingga mengarahkan pada ketidakbenaran sebuah informasi. Hal ini merupakan alasan yang mengawali tim kami dalam berinisiatif untuk mencari metode berupa solusi sesuai dengan permasalahan ini melalui Machine Learning"
      ],
      "metadata": {
        "id": "pMhCPdtQVz5X"
      }
    },
    {
      "cell_type": "markdown",
      "source": [
        "**Fake News Detection**\n",
        "\n",
        "note:\n",
        "- fake = 1\n",
        "\n",
        "- not fake (real) = 0"
      ],
      "metadata": {
        "id": "IJNhEi5ge6ip"
      }
    },
    {
      "cell_type": "code",
      "source": [
        "from google.colab import drive\n",
        "drive.mount('/content/drive')"
      ],
      "metadata": {
        "colab": {
          "base_uri": "https://localhost:8080/"
        },
        "id": "JF7F9xR6BLPM",
        "outputId": "89231c6a-0024-43d7-d9ef-229658974722"
      },
      "execution_count": null,
      "outputs": [
        {
          "output_type": "stream",
          "name": "stdout",
          "text": [
            "Mounted at /content/drive\n"
          ]
        }
      ]
    },
    {
      "cell_type": "code",
      "execution_count": null,
      "metadata": {
        "id": "v-RcSzSh6p9t"
      },
      "outputs": [],
      "source": [
        "PATH = r\"/content/drive/MyDrive/Fakenews/\""
      ]
    },
    {
      "cell_type": "markdown",
      "source": [
        "### Data Preparation"
      ],
      "metadata": {
        "id": "bMXSAGEIr8_X"
      }
    },
    {
      "cell_type": "markdown",
      "source": [
        "####**Data Loading**"
      ],
      "metadata": {
        "id": "IVSgRn3er3Y4"
      }
    },
    {
      "cell_type": "code",
      "source": [
        "import pandas as pd\n",
        "pd.options.mode.chained_assignment = None  # default is 'warn'"
      ],
      "metadata": {
        "id": "twc4me9t6yZa"
      },
      "execution_count": null,
      "outputs": []
    },
    {
      "cell_type": "markdown",
      "source": [
        "**dataset Real News (not fake)**"
      ],
      "metadata": {
        "id": "nsBamCtL2KvJ"
      }
    },
    {
      "cell_type": "code",
      "source": [
        "# load dataset: Real news data\n",
        "df_true = pd.read_csv(PATH + 'True.csv')\n",
        "\n",
        "# data preview\n",
        "display(df_true.head(3))\n",
        "df_true.shape"
      ],
      "metadata": {
        "colab": {
          "base_uri": "https://localhost:8080/",
          "height": 161
        },
        "id": "h_08U2U479Cg",
        "outputId": "313c42d6-5344-4abc-8abd-1e8246e581bc"
      },
      "execution_count": null,
      "outputs": [
        {
          "output_type": "display_data",
          "data": {
            "text/plain": [
              "                                               title  \\\n",
              "0  As U.S. budget fight looms, Republicans flip t...   \n",
              "1  U.S. military to accept transgender recruits o...   \n",
              "2  Senior U.S. Republican senator: 'Let Mr. Muell...   \n",
              "\n",
              "                                                text       subject  \\\n",
              "0  WASHINGTON (Reuters) - The head of a conservat...  politicsNews   \n",
              "1  WASHINGTON (Reuters) - Transgender people will...  politicsNews   \n",
              "2  WASHINGTON (Reuters) - The special counsel inv...  politicsNews   \n",
              "\n",
              "                 date  \n",
              "0  December 31, 2017   \n",
              "1  December 29, 2017   \n",
              "2  December 31, 2017   "
            ],
            "text/html": [
              "\n",
              "  <div id=\"df-093b7509-aff4-48de-830a-51d8526642ce\">\n",
              "    <div class=\"colab-df-container\">\n",
              "      <div>\n",
              "<style scoped>\n",
              "    .dataframe tbody tr th:only-of-type {\n",
              "        vertical-align: middle;\n",
              "    }\n",
              "\n",
              "    .dataframe tbody tr th {\n",
              "        vertical-align: top;\n",
              "    }\n",
              "\n",
              "    .dataframe thead th {\n",
              "        text-align: right;\n",
              "    }\n",
              "</style>\n",
              "<table border=\"1\" class=\"dataframe\">\n",
              "  <thead>\n",
              "    <tr style=\"text-align: right;\">\n",
              "      <th></th>\n",
              "      <th>title</th>\n",
              "      <th>text</th>\n",
              "      <th>subject</th>\n",
              "      <th>date</th>\n",
              "    </tr>\n",
              "  </thead>\n",
              "  <tbody>\n",
              "    <tr>\n",
              "      <th>0</th>\n",
              "      <td>As U.S. budget fight looms, Republicans flip t...</td>\n",
              "      <td>WASHINGTON (Reuters) - The head of a conservat...</td>\n",
              "      <td>politicsNews</td>\n",
              "      <td>December 31, 2017</td>\n",
              "    </tr>\n",
              "    <tr>\n",
              "      <th>1</th>\n",
              "      <td>U.S. military to accept transgender recruits o...</td>\n",
              "      <td>WASHINGTON (Reuters) - Transgender people will...</td>\n",
              "      <td>politicsNews</td>\n",
              "      <td>December 29, 2017</td>\n",
              "    </tr>\n",
              "    <tr>\n",
              "      <th>2</th>\n",
              "      <td>Senior U.S. Republican senator: 'Let Mr. Muell...</td>\n",
              "      <td>WASHINGTON (Reuters) - The special counsel inv...</td>\n",
              "      <td>politicsNews</td>\n",
              "      <td>December 31, 2017</td>\n",
              "    </tr>\n",
              "  </tbody>\n",
              "</table>\n",
              "</div>\n",
              "      <button class=\"colab-df-convert\" onclick=\"convertToInteractive('df-093b7509-aff4-48de-830a-51d8526642ce')\"\n",
              "              title=\"Convert this dataframe to an interactive table.\"\n",
              "              style=\"display:none;\">\n",
              "        \n",
              "  <svg xmlns=\"http://www.w3.org/2000/svg\" height=\"24px\"viewBox=\"0 0 24 24\"\n",
              "       width=\"24px\">\n",
              "    <path d=\"M0 0h24v24H0V0z\" fill=\"none\"/>\n",
              "    <path d=\"M18.56 5.44l.94 2.06.94-2.06 2.06-.94-2.06-.94-.94-2.06-.94 2.06-2.06.94zm-11 1L8.5 8.5l.94-2.06 2.06-.94-2.06-.94L8.5 2.5l-.94 2.06-2.06.94zm10 10l.94 2.06.94-2.06 2.06-.94-2.06-.94-.94-2.06-.94 2.06-2.06.94z\"/><path d=\"M17.41 7.96l-1.37-1.37c-.4-.4-.92-.59-1.43-.59-.52 0-1.04.2-1.43.59L10.3 9.45l-7.72 7.72c-.78.78-.78 2.05 0 2.83L4 21.41c.39.39.9.59 1.41.59.51 0 1.02-.2 1.41-.59l7.78-7.78 2.81-2.81c.8-.78.8-2.07 0-2.86zM5.41 20L4 18.59l7.72-7.72 1.47 1.35L5.41 20z\"/>\n",
              "  </svg>\n",
              "      </button>\n",
              "      \n",
              "  <style>\n",
              "    .colab-df-container {\n",
              "      display:flex;\n",
              "      flex-wrap:wrap;\n",
              "      gap: 12px;\n",
              "    }\n",
              "\n",
              "    .colab-df-convert {\n",
              "      background-color: #E8F0FE;\n",
              "      border: none;\n",
              "      border-radius: 50%;\n",
              "      cursor: pointer;\n",
              "      display: none;\n",
              "      fill: #1967D2;\n",
              "      height: 32px;\n",
              "      padding: 0 0 0 0;\n",
              "      width: 32px;\n",
              "    }\n",
              "\n",
              "    .colab-df-convert:hover {\n",
              "      background-color: #E2EBFA;\n",
              "      box-shadow: 0px 1px 2px rgba(60, 64, 67, 0.3), 0px 1px 3px 1px rgba(60, 64, 67, 0.15);\n",
              "      fill: #174EA6;\n",
              "    }\n",
              "\n",
              "    [theme=dark] .colab-df-convert {\n",
              "      background-color: #3B4455;\n",
              "      fill: #D2E3FC;\n",
              "    }\n",
              "\n",
              "    [theme=dark] .colab-df-convert:hover {\n",
              "      background-color: #434B5C;\n",
              "      box-shadow: 0px 1px 3px 1px rgba(0, 0, 0, 0.15);\n",
              "      filter: drop-shadow(0px 1px 2px rgba(0, 0, 0, 0.3));\n",
              "      fill: #FFFFFF;\n",
              "    }\n",
              "  </style>\n",
              "\n",
              "      <script>\n",
              "        const buttonEl =\n",
              "          document.querySelector('#df-093b7509-aff4-48de-830a-51d8526642ce button.colab-df-convert');\n",
              "        buttonEl.style.display =\n",
              "          google.colab.kernel.accessAllowed ? 'block' : 'none';\n",
              "\n",
              "        async function convertToInteractive(key) {\n",
              "          const element = document.querySelector('#df-093b7509-aff4-48de-830a-51d8526642ce');\n",
              "          const dataTable =\n",
              "            await google.colab.kernel.invokeFunction('convertToInteractive',\n",
              "                                                     [key], {});\n",
              "          if (!dataTable) return;\n",
              "\n",
              "          const docLinkHtml = 'Like what you see? Visit the ' +\n",
              "            '<a target=\"_blank\" href=https://colab.research.google.com/notebooks/data_table.ipynb>data table notebook</a>'\n",
              "            + ' to learn more about interactive tables.';\n",
              "          element.innerHTML = '';\n",
              "          dataTable['output_type'] = 'display_data';\n",
              "          await google.colab.output.renderOutput(dataTable, element);\n",
              "          const docLink = document.createElement('div');\n",
              "          docLink.innerHTML = docLinkHtml;\n",
              "          element.appendChild(docLink);\n",
              "        }\n",
              "      </script>\n",
              "    </div>\n",
              "  </div>\n",
              "  "
            ]
          },
          "metadata": {}
        },
        {
          "output_type": "execute_result",
          "data": {
            "text/plain": [
              "(21417, 4)"
            ]
          },
          "metadata": {},
          "execution_count": 4
        }
      ]
    },
    {
      "cell_type": "code",
      "source": [
        "# add label\n",
        "df_true['label'] = 0\n",
        "df_true.head(3)"
      ],
      "metadata": {
        "colab": {
          "base_uri": "https://localhost:8080/",
          "height": 143
        },
        "id": "gb0lXtyIe3TE",
        "outputId": "4e60f168-07b9-48a5-bacb-ba2ab1d2d3ab"
      },
      "execution_count": null,
      "outputs": [
        {
          "output_type": "execute_result",
          "data": {
            "text/plain": [
              "                                               title  \\\n",
              "0  As U.S. budget fight looms, Republicans flip t...   \n",
              "1  U.S. military to accept transgender recruits o...   \n",
              "2  Senior U.S. Republican senator: 'Let Mr. Muell...   \n",
              "\n",
              "                                                text       subject  \\\n",
              "0  WASHINGTON (Reuters) - The head of a conservat...  politicsNews   \n",
              "1  WASHINGTON (Reuters) - Transgender people will...  politicsNews   \n",
              "2  WASHINGTON (Reuters) - The special counsel inv...  politicsNews   \n",
              "\n",
              "                 date  label  \n",
              "0  December 31, 2017       0  \n",
              "1  December 29, 2017       0  \n",
              "2  December 31, 2017       0  "
            ],
            "text/html": [
              "\n",
              "  <div id=\"df-9378ce18-0c63-45ec-ad8d-f6c57e1301ab\">\n",
              "    <div class=\"colab-df-container\">\n",
              "      <div>\n",
              "<style scoped>\n",
              "    .dataframe tbody tr th:only-of-type {\n",
              "        vertical-align: middle;\n",
              "    }\n",
              "\n",
              "    .dataframe tbody tr th {\n",
              "        vertical-align: top;\n",
              "    }\n",
              "\n",
              "    .dataframe thead th {\n",
              "        text-align: right;\n",
              "    }\n",
              "</style>\n",
              "<table border=\"1\" class=\"dataframe\">\n",
              "  <thead>\n",
              "    <tr style=\"text-align: right;\">\n",
              "      <th></th>\n",
              "      <th>title</th>\n",
              "      <th>text</th>\n",
              "      <th>subject</th>\n",
              "      <th>date</th>\n",
              "      <th>label</th>\n",
              "    </tr>\n",
              "  </thead>\n",
              "  <tbody>\n",
              "    <tr>\n",
              "      <th>0</th>\n",
              "      <td>As U.S. budget fight looms, Republicans flip t...</td>\n",
              "      <td>WASHINGTON (Reuters) - The head of a conservat...</td>\n",
              "      <td>politicsNews</td>\n",
              "      <td>December 31, 2017</td>\n",
              "      <td>0</td>\n",
              "    </tr>\n",
              "    <tr>\n",
              "      <th>1</th>\n",
              "      <td>U.S. military to accept transgender recruits o...</td>\n",
              "      <td>WASHINGTON (Reuters) - Transgender people will...</td>\n",
              "      <td>politicsNews</td>\n",
              "      <td>December 29, 2017</td>\n",
              "      <td>0</td>\n",
              "    </tr>\n",
              "    <tr>\n",
              "      <th>2</th>\n",
              "      <td>Senior U.S. Republican senator: 'Let Mr. Muell...</td>\n",
              "      <td>WASHINGTON (Reuters) - The special counsel inv...</td>\n",
              "      <td>politicsNews</td>\n",
              "      <td>December 31, 2017</td>\n",
              "      <td>0</td>\n",
              "    </tr>\n",
              "  </tbody>\n",
              "</table>\n",
              "</div>\n",
              "      <button class=\"colab-df-convert\" onclick=\"convertToInteractive('df-9378ce18-0c63-45ec-ad8d-f6c57e1301ab')\"\n",
              "              title=\"Convert this dataframe to an interactive table.\"\n",
              "              style=\"display:none;\">\n",
              "        \n",
              "  <svg xmlns=\"http://www.w3.org/2000/svg\" height=\"24px\"viewBox=\"0 0 24 24\"\n",
              "       width=\"24px\">\n",
              "    <path d=\"M0 0h24v24H0V0z\" fill=\"none\"/>\n",
              "    <path d=\"M18.56 5.44l.94 2.06.94-2.06 2.06-.94-2.06-.94-.94-2.06-.94 2.06-2.06.94zm-11 1L8.5 8.5l.94-2.06 2.06-.94-2.06-.94L8.5 2.5l-.94 2.06-2.06.94zm10 10l.94 2.06.94-2.06 2.06-.94-2.06-.94-.94-2.06-.94 2.06-2.06.94z\"/><path d=\"M17.41 7.96l-1.37-1.37c-.4-.4-.92-.59-1.43-.59-.52 0-1.04.2-1.43.59L10.3 9.45l-7.72 7.72c-.78.78-.78 2.05 0 2.83L4 21.41c.39.39.9.59 1.41.59.51 0 1.02-.2 1.41-.59l7.78-7.78 2.81-2.81c.8-.78.8-2.07 0-2.86zM5.41 20L4 18.59l7.72-7.72 1.47 1.35L5.41 20z\"/>\n",
              "  </svg>\n",
              "      </button>\n",
              "      \n",
              "  <style>\n",
              "    .colab-df-container {\n",
              "      display:flex;\n",
              "      flex-wrap:wrap;\n",
              "      gap: 12px;\n",
              "    }\n",
              "\n",
              "    .colab-df-convert {\n",
              "      background-color: #E8F0FE;\n",
              "      border: none;\n",
              "      border-radius: 50%;\n",
              "      cursor: pointer;\n",
              "      display: none;\n",
              "      fill: #1967D2;\n",
              "      height: 32px;\n",
              "      padding: 0 0 0 0;\n",
              "      width: 32px;\n",
              "    }\n",
              "\n",
              "    .colab-df-convert:hover {\n",
              "      background-color: #E2EBFA;\n",
              "      box-shadow: 0px 1px 2px rgba(60, 64, 67, 0.3), 0px 1px 3px 1px rgba(60, 64, 67, 0.15);\n",
              "      fill: #174EA6;\n",
              "    }\n",
              "\n",
              "    [theme=dark] .colab-df-convert {\n",
              "      background-color: #3B4455;\n",
              "      fill: #D2E3FC;\n",
              "    }\n",
              "\n",
              "    [theme=dark] .colab-df-convert:hover {\n",
              "      background-color: #434B5C;\n",
              "      box-shadow: 0px 1px 3px 1px rgba(0, 0, 0, 0.15);\n",
              "      filter: drop-shadow(0px 1px 2px rgba(0, 0, 0, 0.3));\n",
              "      fill: #FFFFFF;\n",
              "    }\n",
              "  </style>\n",
              "\n",
              "      <script>\n",
              "        const buttonEl =\n",
              "          document.querySelector('#df-9378ce18-0c63-45ec-ad8d-f6c57e1301ab button.colab-df-convert');\n",
              "        buttonEl.style.display =\n",
              "          google.colab.kernel.accessAllowed ? 'block' : 'none';\n",
              "\n",
              "        async function convertToInteractive(key) {\n",
              "          const element = document.querySelector('#df-9378ce18-0c63-45ec-ad8d-f6c57e1301ab');\n",
              "          const dataTable =\n",
              "            await google.colab.kernel.invokeFunction('convertToInteractive',\n",
              "                                                     [key], {});\n",
              "          if (!dataTable) return;\n",
              "\n",
              "          const docLinkHtml = 'Like what you see? Visit the ' +\n",
              "            '<a target=\"_blank\" href=https://colab.research.google.com/notebooks/data_table.ipynb>data table notebook</a>'\n",
              "            + ' to learn more about interactive tables.';\n",
              "          element.innerHTML = '';\n",
              "          dataTable['output_type'] = 'display_data';\n",
              "          await google.colab.output.renderOutput(dataTable, element);\n",
              "          const docLink = document.createElement('div');\n",
              "          docLink.innerHTML = docLinkHtml;\n",
              "          element.appendChild(docLink);\n",
              "        }\n",
              "      </script>\n",
              "    </div>\n",
              "  </div>\n",
              "  "
            ]
          },
          "metadata": {},
          "execution_count": 5
        }
      ]
    },
    {
      "cell_type": "code",
      "source": [
        "# start dan end date\n",
        "df_true.date.sort_values()"
      ],
      "metadata": {
        "colab": {
          "base_uri": "https://localhost:8080/"
        },
        "id": "SyPFu_D80mY7",
        "outputId": "0d9239f2-b89f-4a02-e4b1-550fc0333ac6"
      },
      "execution_count": null,
      "outputs": [
        {
          "output_type": "execute_result",
          "data": {
            "text/plain": [
              "10099        April 1, 2016 \n",
              "10019        April 1, 2016 \n",
              "10020        April 1, 2016 \n",
              "10092        April 1, 2016 \n",
              "10094        April 1, 2016 \n",
              "                ...        \n",
              "20543    September 9, 2017 \n",
              "20542    September 9, 2017 \n",
              "20540    September 9, 2017 \n",
              "20555    September 9, 2017 \n",
              "20549    September 9, 2017 \n",
              "Name: date, Length: 21417, dtype: object"
            ]
          },
          "metadata": {},
          "execution_count": 6
        }
      ]
    },
    {
      "cell_type": "code",
      "source": [
        "# list of subjects/tema berita\n",
        "df_true.subject.value_counts()"
      ],
      "metadata": {
        "colab": {
          "base_uri": "https://localhost:8080/"
        },
        "id": "540uEbx41TaO",
        "outputId": "79c5d4c6-1997-4792-8da1-a384c5765409"
      },
      "execution_count": null,
      "outputs": [
        {
          "output_type": "execute_result",
          "data": {
            "text/plain": [
              "politicsNews    11272\n",
              "worldnews       10145\n",
              "Name: subject, dtype: int64"
            ]
          },
          "metadata": {},
          "execution_count": 7
        }
      ]
    },
    {
      "cell_type": "code",
      "source": [
        "import matplotlib.pyplot as plt\n",
        "import seaborn as sns"
      ],
      "metadata": {
        "id": "uhJ8uRElLbs_"
      },
      "execution_count": null,
      "outputs": []
    },
    {
      "cell_type": "code",
      "source": [
        "#true dataset subject value counts\n",
        "true_subject_counts = df_true.subject.value_counts()\n",
        "#true subject count visualization\n",
        "plt.figure(figsize=(10,4), dpi=100)\n",
        "sns.barplot(x = true_subject_counts.index, y=true_subject_counts.values)\n",
        "plt.title('Subject True News Counts');"
      ],
      "metadata": {
        "colab": {
          "base_uri": "https://localhost:8080/",
          "height": 385
        },
        "id": "v521AtGDLFbn",
        "outputId": "2c0cc395-7ce5-4069-e1ac-ec8982369d3f"
      },
      "execution_count": null,
      "outputs": [
        {
          "output_type": "display_data",
          "data": {
            "text/plain": [
              "<Figure size 1000x400 with 1 Axes>"
            ],
            "image/png": "[encoded data removed]"
          },
          "metadata": {
            "needs_background": "light"
          }
        }
      ]
    },
    {
      "cell_type": "markdown",
      "source": [
        "**Analisis** : Informasi Real news (berita benar) terdiri dari dua topik berita yaitu politic news (berita politik) dan world news (berita dunia). Proporsi kedua topik ini tidak jau berbeda dengan politics news 11.272 berita dan world news 10.145 berita."
      ],
      "metadata": {
        "id": "0YzxM7CALlrP"
      }
    },
    {
      "cell_type": "markdown",
      "source": [
        "**dataset Fake News**"
      ],
      "metadata": {
        "id": "Yty0fJkL2Spp"
      }
    },
    {
      "cell_type": "code",
      "source": [
        "# load dataset: Fake news data\n",
        "df_fake = pd.read_csv(PATH + 'Fake.csv')\n",
        "\n",
        "# data preview\n",
        "display(df_fake.head(3))\n",
        "df_fake.shape"
      ],
      "metadata": {
        "colab": {
          "base_uri": "https://localhost:8080/",
          "height": 161
        },
        "id": "Zu2vyfsR6zms",
        "outputId": "bfe6b6e7-7acc-4c08-8d5d-5a0cee08272f"
      },
      "execution_count": null,
      "outputs": [
        {
          "output_type": "display_data",
          "data": {
            "text/plain": [
              "                                               title  \\\n",
              "0   Donald Trump Sends Out Embarrassing New Year’...   \n",
              "1   Drunk Bragging Trump Staffer Started Russian ...   \n",
              "2   Sheriff David Clarke Becomes An Internet Joke...   \n",
              "\n",
              "                                                text subject  \\\n",
              "0  Donald Trump just couldn t wish all Americans ...    News   \n",
              "1  House Intelligence Committee Chairman Devin Nu...    News   \n",
              "2  On Friday, it was revealed that former Milwauk...    News   \n",
              "\n",
              "                date  \n",
              "0  December 31, 2017  \n",
              "1  December 31, 2017  \n",
              "2  December 30, 2017  "
            ],
            "text/html": [
              "\n",
              "  <div id=\"df-d694bfc2-f415-4677-8906-becb9588e912\">\n",
              "    <div class=\"colab-df-container\">\n",
              "      <div>\n",
              "<style scoped>\n",
              "    .dataframe tbody tr th:only-of-type {\n",
              "        vertical-align: middle;\n",
              "    }\n",
              "\n",
              "    .dataframe tbody tr th {\n",
              "        vertical-align: top;\n",
              "    }\n",
              "\n",
              "    .dataframe thead th {\n",
              "        text-align: right;\n",
              "    }\n",
              "</style>\n",
              "<table border=\"1\" class=\"dataframe\">\n",
              "  <thead>\n",
              "    <tr style=\"text-align: right;\">\n",
              "      <th></th>\n",
              "      <th>title</th>\n",
              "      <th>text</th>\n",
              "      <th>subject</th>\n",
              "      <th>date</th>\n",
              "    </tr>\n",
              "  </thead>\n",
              "  <tbody>\n",
              "    <tr>\n",
              "      <th>0</th>\n",
              "      <td>Donald Trump Sends Out Embarrassing New Year’...</td>\n",
              "      <td>Donald Trump just couldn t wish all Americans ...</td>\n",
              "      <td>News</td>\n",
              "      <td>December 31, 2017</td>\n",
              "    </tr>\n",
              "    <tr>\n",
              "      <th>1</th>\n",
              "      <td>Drunk Bragging Trump Staffer Started Russian ...</td>\n",
              "      <td>House Intelligence Committee Chairman Devin Nu...</td>\n",
              "      <td>News</td>\n",
              "      <td>December 31, 2017</td>\n",
              "    </tr>\n",
              "    <tr>\n",
              "      <th>2</th>\n",
              "      <td>Sheriff David Clarke Becomes An Internet Joke...</td>\n",
              "      <td>On Friday, it was revealed that former Milwauk...</td>\n",
              "      <td>News</td>\n",
              "      <td>December 30, 2017</td>\n",
              "    </tr>\n",
              "  </tbody>\n",
              "</table>\n",
              "</div>\n",
              "      <button class=\"colab-df-convert\" onclick=\"convertToInteractive('df-d694bfc2-f415-4677-8906-becb9588e912')\"\n",
              "              title=\"Convert this dataframe to an interactive table.\"\n",
              "              style=\"display:none;\">\n",
              "        \n",
              "  <svg xmlns=\"http://www.w3.org/2000/svg\" height=\"24px\"viewBox=\"0 0 24 24\"\n",
              "       width=\"24px\">\n",
              "    <path d=\"M0 0h24v24H0V0z\" fill=\"none\"/>\n",
              "    <path d=\"M18.56 5.44l.94 2.06.94-2.06 2.06-.94-2.06-.94-.94-2.06-.94 2.06-2.06.94zm-11 1L8.5 8.5l.94-2.06 2.06-.94-2.06-.94L8.5 2.5l-.94 2.06-2.06.94zm10 10l.94 2.06.94-2.06 2.06-.94-2.06-.94-.94-2.06-.94 2.06-2.06.94z\"/><path d=\"M17.41 7.96l-1.37-1.37c-.4-.4-.92-.59-1.43-.59-.52 0-1.04.2-1.43.59L10.3 9.45l-7.72 7.72c-.78.78-.78 2.05 0 2.83L4 21.41c.39.39.9.59 1.41.59.51 0 1.02-.2 1.41-.59l7.78-7.78 2.81-2.81c.8-.78.8-2.07 0-2.86zM5.41 20L4 18.59l7.72-7.72 1.47 1.35L5.41 20z\"/>\n",
              "  </svg>\n",
              "      </button>\n",
              "      \n",
              "  <style>\n",
              "    .colab-df-container {\n",
              "      display:flex;\n",
              "      flex-wrap:wrap;\n",
              "      gap: 12px;\n",
              "    }\n",
              "\n",
              "    .colab-df-convert {\n",
              "      background-color: #E8F0FE;\n",
              "      border: none;\n",
              "      border-radius: 50%;\n",
              "      cursor: pointer;\n",
              "      display: none;\n",
              "      fill: #1967D2;\n",
              "      height: 32px;\n",
              "      padding: 0 0 0 0;\n",
              "      width: 32px;\n",
              "    }\n",
              "\n",
              "    .colab-df-convert:hover {\n",
              "      background-color: #E2EBFA;\n",
              "      box-shadow: 0px 1px 2px rgba(60, 64, 67, 0.3), 0px 1px 3px 1px rgba(60, 64, 67, 0.15);\n",
              "      fill: #174EA6;\n",
              "    }\n",
              "\n",
              "    [theme=dark] .colab-df-convert {\n",
              "      background-color: #3B4455;\n",
              "      fill: #D2E3FC;\n",
              "    }\n",
              "\n",
              "    [theme=dark] .colab-df-convert:hover {\n",
              "      background-color: #434B5C;\n",
              "      box-shadow: 0px 1px 3px 1px rgba(0, 0, 0, 0.15);\n",
              "      filter: drop-shadow(0px 1px 2px rgba(0, 0, 0, 0.3));\n",
              "      fill: #FFFFFF;\n",
              "    }\n",
              "  </style>\n",
              "\n",
              "      <script>\n",
              "        const buttonEl =\n",
              "          document.querySelector('#df-d694bfc2-f415-4677-8906-becb9588e912 button.colab-df-convert');\n",
              "        buttonEl.style.display =\n",
              "          google.colab.kernel.accessAllowed ? 'block' : 'none';\n",
              "\n",
              "        async function convertToInteractive(key) {\n",
              "          const element = document.querySelector('#df-d694bfc2-f415-4677-8906-becb9588e912');\n",
              "          const dataTable =\n",
              "            await google.colab.kernel.invokeFunction('convertToInteractive',\n",
              "                                                     [key], {});\n",
              "          if (!dataTable) return;\n",
              "\n",
              "          const docLinkHtml = 'Like what you see? Visit the ' +\n",
              "            '<a target=\"_blank\" href=https://colab.research.google.com/notebooks/data_table.ipynb>data table notebook</a>'\n",
              "            + ' to learn more about interactive tables.';\n",
              "          element.innerHTML = '';\n",
              "          dataTable['output_type'] = 'display_data';\n",
              "          await google.colab.output.renderOutput(dataTable, element);\n",
              "          const docLink = document.createElement('div');\n",
              "          docLink.innerHTML = docLinkHtml;\n",
              "          element.appendChild(docLink);\n",
              "        }\n",
              "      </script>\n",
              "    </div>\n",
              "  </div>\n",
              "  "
            ]
          },
          "metadata": {}
        },
        {
          "output_type": "execute_result",
          "data": {
            "text/plain": [
              "(23481, 4)"
            ]
          },
          "metadata": {},
          "execution_count": 10
        }
      ]
    },
    {
      "cell_type": "code",
      "source": [
        "# add label\n",
        "df_fake['label'] = 1\n",
        "df_fake.head(3)"
      ],
      "metadata": {
        "colab": {
          "base_uri": "https://localhost:8080/",
          "height": 143
        },
        "id": "mQxDJi-efXw3",
        "outputId": "0ef5a016-a146-4f0f-fbca-414549bb2b9a"
      },
      "execution_count": null,
      "outputs": [
        {
          "output_type": "execute_result",
          "data": {
            "text/plain": [
              "                                               title  \\\n",
              "0   Donald Trump Sends Out Embarrassing New Year’...   \n",
              "1   Drunk Bragging Trump Staffer Started Russian ...   \n",
              "2   Sheriff David Clarke Becomes An Internet Joke...   \n",
              "\n",
              "                                                text subject  \\\n",
              "0  Donald Trump just couldn t wish all Americans ...    News   \n",
              "1  House Intelligence Committee Chairman Devin Nu...    News   \n",
              "2  On Friday, it was revealed that former Milwauk...    News   \n",
              "\n",
              "                date  label  \n",
              "0  December 31, 2017      1  \n",
              "1  December 31, 2017      1  \n",
              "2  December 30, 2017      1  "
            ],
            "text/html": [
              "\n",
              "  <div id=\"df-5941f9f3-ea4b-47ea-b3aa-88f4fbf1b095\">\n",
              "    <div class=\"colab-df-container\">\n",
              "      <div>\n",
              "<style scoped>\n",
              "    .dataframe tbody tr th:only-of-type {\n",
              "        vertical-align: middle;\n",
              "    }\n",
              "\n",
              "    .dataframe tbody tr th {\n",
              "        vertical-align: top;\n",
              "    }\n",
              "\n",
              "    .dataframe thead th {\n",
              "        text-align: right;\n",
              "    }\n",
              "</style>\n",
              "<table border=\"1\" class=\"dataframe\">\n",
              "  <thead>\n",
              "    <tr style=\"text-align: right;\">\n",
              "      <th></th>\n",
              "      <th>title</th>\n",
              "      <th>text</th>\n",
              "      <th>subject</th>\n",
              "      <th>date</th>\n",
              "      <th>label</th>\n",
              "    </tr>\n",
              "  </thead>\n",
              "  <tbody>\n",
              "    <tr>\n",
              "      <th>0</th>\n",
              "      <td>Donald Trump Sends Out Embarrassing New Year’...</td>\n",
              "      <td>Donald Trump just couldn t wish all Americans ...</td>\n",
              "      <td>News</td>\n",
              "      <td>December 31, 2017</td>\n",
              "      <td>1</td>\n",
              "    </tr>\n",
              "    <tr>\n",
              "      <th>1</th>\n",
              "      <td>Drunk Bragging Trump Staffer Started Russian ...</td>\n",
              "      <td>House Intelligence Committee Chairman Devin Nu...</td>\n",
              "      <td>News</td>\n",
              "      <td>December 31, 2017</td>\n",
              "      <td>1</td>\n",
              "    </tr>\n",
              "    <tr>\n",
              "      <th>2</th>\n",
              "      <td>Sheriff David Clarke Becomes An Internet Joke...</td>\n",
              "      <td>On Friday, it was revealed that former Milwauk...</td>\n",
              "      <td>News</td>\n",
              "      <td>December 30, 2017</td>\n",
              "      <td>1</td>\n",
              "    </tr>\n",
              "  </tbody>\n",
              "</table>\n",
              "</div>\n",
              "      <button class=\"colab-df-convert\" onclick=\"convertToInteractive('df-5941f9f3-ea4b-47ea-b3aa-88f4fbf1b095')\"\n",
              "              title=\"Convert this dataframe to an interactive table.\"\n",
              "              style=\"display:none;\">\n",
              "        \n",
              "  <svg xmlns=\"http://www.w3.org/2000/svg\" height=\"24px\"viewBox=\"0 0 24 24\"\n",
              "       width=\"24px\">\n",
              "    <path d=\"M0 0h24v24H0V0z\" fill=\"none\"/>\n",
              "    <path d=\"M18.56 5.44l.94 2.06.94-2.06 2.06-.94-2.06-.94-.94-2.06-.94 2.06-2.06.94zm-11 1L8.5 8.5l.94-2.06 2.06-.94-2.06-.94L8.5 2.5l-.94 2.06-2.06.94zm10 10l.94 2.06.94-2.06 2.06-.94-2.06-.94-.94-2.06-.94 2.06-2.06.94z\"/><path d=\"M17.41 7.96l-1.37-1.37c-.4-.4-.92-.59-1.43-.59-.52 0-1.04.2-1.43.59L10.3 9.45l-7.72 7.72c-.78.78-.78 2.05 0 2.83L4 21.41c.39.39.9.59 1.41.59.51 0 1.02-.2 1.41-.59l7.78-7.78 2.81-2.81c.8-.78.8-2.07 0-2.86zM5.41 20L4 18.59l7.72-7.72 1.47 1.35L5.41 20z\"/>\n",
              "  </svg>\n",
              "      </button>\n",
              "      \n",
              "  <style>\n",
              "    .colab-df-container {\n",
              "      display:flex;\n",
              "      flex-wrap:wrap;\n",
              "      gap: 12px;\n",
              "    }\n",
              "\n",
              "    .colab-df-convert {\n",
              "      background-color: #E8F0FE;\n",
              "      border: none;\n",
              "      border-radius: 50%;\n",
              "      cursor: pointer;\n",
              "      display: none;\n",
              "      fill: #1967D2;\n",
              "      height: 32px;\n",
              "      padding: 0 0 0 0;\n",
              "      width: 32px;\n",
              "    }\n",
              "\n",
              "    .colab-df-convert:hover {\n",
              "      background-color: #E2EBFA;\n",
              "      box-shadow: 0px 1px 2px rgba(60, 64, 67, 0.3), 0px 1px 3px 1px rgba(60, 64, 67, 0.15);\n",
              "      fill: #174EA6;\n",
              "    }\n",
              "\n",
              "    [theme=dark] .colab-df-convert {\n",
              "      background-color: #3B4455;\n",
              "      fill: #D2E3FC;\n",
              "    }\n",
              "\n",
              "    [theme=dark] .colab-df-convert:hover {\n",
              "      background-color: #434B5C;\n",
              "      box-shadow: 0px 1px 3px 1px rgba(0, 0, 0, 0.15);\n",
              "      filter: drop-shadow(0px 1px 2px rgba(0, 0, 0, 0.3));\n",
              "      fill: #FFFFFF;\n",
              "    }\n",
              "  </style>\n",
              "\n",
              "      <script>\n",
              "        const buttonEl =\n",
              "          document.querySelector('#df-5941f9f3-ea4b-47ea-b3aa-88f4fbf1b095 button.colab-df-convert');\n",
              "        buttonEl.style.display =\n",
              "          google.colab.kernel.accessAllowed ? 'block' : 'none';\n",
              "\n",
              "        async function convertToInteractive(key) {\n",
              "          const element = document.querySelector('#df-5941f9f3-ea4b-47ea-b3aa-88f4fbf1b095');\n",
              "          const dataTable =\n",
              "            await google.colab.kernel.invokeFunction('convertToInteractive',\n",
              "                                                     [key], {});\n",
              "          if (!dataTable) return;\n",
              "\n",
              "          const docLinkHtml = 'Like what you see? Visit the ' +\n",
              "            '<a target=\"_blank\" href=https://colab.research.google.com/notebooks/data_table.ipynb>data table notebook</a>'\n",
              "            + ' to learn more about interactive tables.';\n",
              "          element.innerHTML = '';\n",
              "          dataTable['output_type'] = 'display_data';\n",
              "          await google.colab.output.renderOutput(dataTable, element);\n",
              "          const docLink = document.createElement('div');\n",
              "          docLink.innerHTML = docLinkHtml;\n",
              "          element.appendChild(docLink);\n",
              "        }\n",
              "      </script>\n",
              "    </div>\n",
              "  </div>\n",
              "  "
            ]
          },
          "metadata": {},
          "execution_count": 11
        }
      ]
    },
    {
      "cell_type": "code",
      "source": [
        "# start dan end date\n",
        "df_fake.date"
      ],
      "metadata": {
        "colab": {
          "base_uri": "https://localhost:8080/"
        },
        "id": "VkUPRDl00tHR",
        "outputId": "ecc936f0-b23b-4949-da67-613918560c36"
      },
      "execution_count": null,
      "outputs": [
        {
          "output_type": "execute_result",
          "data": {
            "text/plain": [
              "0        December 31, 2017\n",
              "1        December 31, 2017\n",
              "2        December 30, 2017\n",
              "3        December 29, 2017\n",
              "4        December 25, 2017\n",
              "               ...        \n",
              "23476     January 16, 2016\n",
              "23477     January 16, 2016\n",
              "23478     January 15, 2016\n",
              "23479     January 14, 2016\n",
              "23480     January 12, 2016\n",
              "Name: date, Length: 23481, dtype: object"
            ]
          },
          "metadata": {},
          "execution_count": 12
        }
      ]
    },
    {
      "cell_type": "code",
      "source": [
        "# list of subjects/tema berita\n",
        "df_fake.subject.value_counts()"
      ],
      "metadata": {
        "colab": {
          "base_uri": "https://localhost:8080/"
        },
        "id": "0N2_vXGo1lyp",
        "outputId": "bbfec53c-25db-4f82-fa3a-71636b24f3e8"
      },
      "execution_count": null,
      "outputs": [
        {
          "output_type": "execute_result",
          "data": {
            "text/plain": [
              "News               9050\n",
              "politics           6841\n",
              "left-news          4459\n",
              "Government News    1570\n",
              "US_News             783\n",
              "Middle-east         778\n",
              "Name: subject, dtype: int64"
            ]
          },
          "metadata": {},
          "execution_count": 13
        }
      ]
    },
    {
      "cell_type": "code",
      "source": [
        "#fake subject value counts\n",
        "fake_subject_counts = df_fake.subject.value_counts()\n",
        "#fake subject count visualization\n",
        "plt.figure(figsize=(10,4), dpi=100)\n",
        "sns.barplot(x = fake_subject_counts.index, y=fake_subject_counts.values)\n",
        "plt.title('Subject Fake News Counts')\n",
        "plt.xticks(rotation=90);"
      ],
      "metadata": {
        "colab": {
          "base_uri": "https://localhost:8080/",
          "height": 499
        },
        "id": "A10-n-5kMWDn",
        "outputId": "7f818761-d683-4d4b-c565-b508a639d306"
      },
      "execution_count": null,
      "outputs": [
        {
          "output_type": "display_data",
          "data": {
            "text/plain": [
              "<Figure size 1000x400 with 1 Axes>"
            ],
            "image/png": "[encoded data removed]"
          },
          "metadata": {
            "needs_background": "light"
          }
        }
      ]
    },
    {
      "cell_type": "markdown",
      "source": [
        "**Analisis** : Berbeda dengan Real news, Fake news (berita palsu) terbagi dalam 6 topik berita yaitu News, Politics, Left-News, Goverment News, US_news, dan Middle Ees. Topik News menjadi topik dengan berita palsu paling tinggi dengan 9.050 berita dan diikuti Politics dengan 6.841 berita."
      ],
      "metadata": {
        "id": "uYn4CmBvMgBv"
      }
    },
    {
      "cell_type": "markdown",
      "source": [
        "**penggabungan kedua dataset**"
      ],
      "metadata": {
        "id": "IWg4Q2Vk2Gri"
      }
    },
    {
      "cell_type": "code",
      "source": [
        "# concate data\n",
        "df = pd.concat([df_true[['title', 'text', 'label']], df_fake[['title', 'text','label']]], axis=0).reset_index(drop=True)\n",
        "\n",
        "# data preview\n",
        "df"
      ],
      "metadata": {
        "id": "qJZ0eFAU7_ky",
        "outputId": "ad11203a-871c-4410-8bec-1b8337cb854a",
        "colab": {
          "base_uri": "https://localhost:8080/",
          "height": 424
        }
      },
      "execution_count": null,
      "outputs": [
        {
          "output_type": "execute_result",
          "data": {
            "text/plain": [
              "                                                   title  \\\n",
              "0      As U.S. budget fight looms, Republicans flip t...   \n",
              "1      U.S. military to accept transgender recruits o...   \n",
              "2      Senior U.S. Republican senator: 'Let Mr. Muell...   \n",
              "3      FBI Russia probe helped by Australian diplomat...   \n",
              "4      Trump wants Postal Service to charge 'much mor...   \n",
              "...                                                  ...   \n",
              "44893  McPain: John McCain Furious That Iran Treated ...   \n",
              "44894  JUSTICE? Yahoo Settles E-mail Privacy Class-ac...   \n",
              "44895  Sunnistan: US and Allied ‘Safe Zone’ Plan to T...   \n",
              "44896  How to Blow $700 Million: Al Jazeera America F...   \n",
              "44897  10 U.S. Navy Sailors Held by Iranian Military ...   \n",
              "\n",
              "                                                    text  label  \n",
              "0      WASHINGTON (Reuters) - The head of a conservat...      0  \n",
              "1      WASHINGTON (Reuters) - Transgender people will...      0  \n",
              "2      WASHINGTON (Reuters) - The special counsel inv...      0  \n",
              "3      WASHINGTON (Reuters) - Trump campaign adviser ...      0  \n",
              "4      SEATTLE/WASHINGTON (Reuters) - President Donal...      0  \n",
              "...                                                  ...    ...  \n",
              "44893  21st Century Wire says As 21WIRE reported earl...      1  \n",
              "44894  21st Century Wire says It s a familiar theme. ...      1  \n",
              "44895  Patrick Henningsen  21st Century WireRemember ...      1  \n",
              "44896  21st Century Wire says Al Jazeera America will...      1  \n",
              "44897  21st Century Wire says As 21WIRE predicted in ...      1  \n",
              "\n",
              "[44898 rows x 3 columns]"
            ],
            "text/html": [
              "\n",
              "  <div id=\"df-cb89241d-8ea3-486a-9623-c4cb86e398bd\">\n",
              "    <div class=\"colab-df-container\">\n",
              "      <div>\n",
              "<style scoped>\n",
              "    .dataframe tbody tr th:only-of-type {\n",
              "        vertical-align: middle;\n",
              "    }\n",
              "\n",
              "    .dataframe tbody tr th {\n",
              "        vertical-align: top;\n",
              "    }\n",
              "\n",
              "    .dataframe thead th {\n",
              "        text-align: right;\n",
              "    }\n",
              "</style>\n",
              "<table border=\"1\" class=\"dataframe\">\n",
              "  <thead>\n",
              "    <tr style=\"text-align: right;\">\n",
              "      <th></th>\n",
              "      <th>title</th>\n",
              "      <th>text</th>\n",
              "      <th>label</th>\n",
              "    </tr>\n",
              "  </thead>\n",
              "  <tbody>\n",
              "    <tr>\n",
              "      <th>0</th>\n",
              "      <td>As U.S. budget fight looms, Republicans flip t...</td>\n",
              "      <td>WASHINGTON (Reuters) - The head of a conservat...</td>\n",
              "      <td>0</td>\n",
              "    </tr>\n",
              "    <tr>\n",
              "      <th>1</th>\n",
              "      <td>U.S. military to accept transgender recruits o...</td>\n",
              "      <td>WASHINGTON (Reuters) - Transgender people will...</td>\n",
              "      <td>0</td>\n",
              "    </tr>\n",
              "    <tr>\n",
              "      <th>2</th>\n",
              "      <td>Senior U.S. Republican senator: 'Let Mr. Muell...</td>\n",
              "      <td>WASHINGTON (Reuters) - The special counsel inv...</td>\n",
              "      <td>0</td>\n",
              "    </tr>\n",
              "    <tr>\n",
              "      <th>3</th>\n",
              "      <td>FBI Russia probe helped by Australian diplomat...</td>\n",
              "      <td>WASHINGTON (Reuters) - Trump campaign adviser ...</td>\n",
              "      <td>0</td>\n",
              "    </tr>\n",
              "    <tr>\n",
              "      <th>4</th>\n",
              "      <td>Trump wants Postal Service to charge 'much mor...</td>\n",
              "      <td>SEATTLE/WASHINGTON (Reuters) - President Donal...</td>\n",
              "      <td>0</td>\n",
              "    </tr>\n",
              "    <tr>\n",
              "      <th>...</th>\n",
              "      <td>...</td>\n",
              "      <td>...</td>\n",
              "      <td>...</td>\n",
              "    </tr>\n",
              "    <tr>\n",
              "      <th>44893</th>\n",
              "      <td>McPain: John McCain Furious That Iran Treated ...</td>\n",
              "      <td>21st Century Wire says As 21WIRE reported earl...</td>\n",
              "      <td>1</td>\n",
              "    </tr>\n",
              "    <tr>\n",
              "      <th>44894</th>\n",
              "      <td>JUSTICE? Yahoo Settles E-mail Privacy Class-ac...</td>\n",
              "      <td>21st Century Wire says It s a familiar theme. ...</td>\n",
              "      <td>1</td>\n",
              "    </tr>\n",
              "    <tr>\n",
              "      <th>44895</th>\n",
              "      <td>Sunnistan: US and Allied ‘Safe Zone’ Plan to T...</td>\n",
              "      <td>Patrick Henningsen  21st Century WireRemember ...</td>\n",
              "      <td>1</td>\n",
              "    </tr>\n",
              "    <tr>\n",
              "      <th>44896</th>\n",
              "      <td>How to Blow $700 Million: Al Jazeera America F...</td>\n",
              "      <td>21st Century Wire says Al Jazeera America will...</td>\n",
              "      <td>1</td>\n",
              "    </tr>\n",
              "    <tr>\n",
              "      <th>44897</th>\n",
              "      <td>10 U.S. Navy Sailors Held by Iranian Military ...</td>\n",
              "      <td>21st Century Wire says As 21WIRE predicted in ...</td>\n",
              "      <td>1</td>\n",
              "    </tr>\n",
              "  </tbody>\n",
              "</table>\n",
              "<p>44898 rows × 3 columns</p>\n",
              "</div>\n",
              "      <button class=\"colab-df-convert\" onclick=\"convertToInteractive('df-cb89241d-8ea3-486a-9623-c4cb86e398bd')\"\n",
              "              title=\"Convert this dataframe to an interactive table.\"\n",
              "              style=\"display:none;\">\n",
              "        \n",
              "  <svg xmlns=\"http://www.w3.org/2000/svg\" height=\"24px\"viewBox=\"0 0 24 24\"\n",
              "       width=\"24px\">\n",
              "    <path d=\"M0 0h24v24H0V0z\" fill=\"none\"/>\n",
              "    <path d=\"M18.56 5.44l.94 2.06.94-2.06 2.06-.94-2.06-.94-.94-2.06-.94 2.06-2.06.94zm-11 1L8.5 8.5l.94-2.06 2.06-.94-2.06-.94L8.5 2.5l-.94 2.06-2.06.94zm10 10l.94 2.06.94-2.06 2.06-.94-2.06-.94-.94-2.06-.94 2.06-2.06.94z\"/><path d=\"M17.41 7.96l-1.37-1.37c-.4-.4-.92-.59-1.43-.59-.52 0-1.04.2-1.43.59L10.3 9.45l-7.72 7.72c-.78.78-.78 2.05 0 2.83L4 21.41c.39.39.9.59 1.41.59.51 0 1.02-.2 1.41-.59l7.78-7.78 2.81-2.81c.8-.78.8-2.07 0-2.86zM5.41 20L4 18.59l7.72-7.72 1.47 1.35L5.41 20z\"/>\n",
              "  </svg>\n",
              "      </button>\n",
              "      \n",
              "  <style>\n",
              "    .colab-df-container {\n",
              "      display:flex;\n",
              "      flex-wrap:wrap;\n",
              "      gap: 12px;\n",
              "    }\n",
              "\n",
              "    .colab-df-convert {\n",
              "      background-color: #E8F0FE;\n",
              "      border: none;\n",
              "      border-radius: 50%;\n",
              "      cursor: pointer;\n",
              "      display: none;\n",
              "      fill: #1967D2;\n",
              "      height: 32px;\n",
              "      padding: 0 0 0 0;\n",
              "      width: 32px;\n",
              "    }\n",
              "\n",
              "    .colab-df-convert:hover {\n",
              "      background-color: #E2EBFA;\n",
              "      box-shadow: 0px 1px 2px rgba(60, 64, 67, 0.3), 0px 1px 3px 1px rgba(60, 64, 67, 0.15);\n",
              "      fill: #174EA6;\n",
              "    }\n",
              "\n",
              "    [theme=dark] .colab-df-convert {\n",
              "      background-color: #3B4455;\n",
              "      fill: #D2E3FC;\n",
              "    }\n",
              "\n",
              "    [theme=dark] .colab-df-convert:hover {\n",
              "      background-color: #434B5C;\n",
              "      box-shadow: 0px 1px 3px 1px rgba(0, 0, 0, 0.15);\n",
              "      filter: drop-shadow(0px 1px 2px rgba(0, 0, 0, 0.3));\n",
              "      fill: #FFFFFF;\n",
              "    }\n",
              "  </style>\n",
              "\n",
              "      <script>\n",
              "        const buttonEl =\n",
              "          document.querySelector('#df-cb89241d-8ea3-486a-9623-c4cb86e398bd button.colab-df-convert');\n",
              "        buttonEl.style.display =\n",
              "          google.colab.kernel.accessAllowed ? 'block' : 'none';\n",
              "\n",
              "        async function convertToInteractive(key) {\n",
              "          const element = document.querySelector('#df-cb89241d-8ea3-486a-9623-c4cb86e398bd');\n",
              "          const dataTable =\n",
              "            await google.colab.kernel.invokeFunction('convertToInteractive',\n",
              "                                                     [key], {});\n",
              "          if (!dataTable) return;\n",
              "\n",
              "          const docLinkHtml = 'Like what you see? Visit the ' +\n",
              "            '<a target=\"_blank\" href=https://colab.research.google.com/notebooks/data_table.ipynb>data table notebook</a>'\n",
              "            + ' to learn more about interactive tables.';\n",
              "          element.innerHTML = '';\n",
              "          dataTable['output_type'] = 'display_data';\n",
              "          await google.colab.output.renderOutput(dataTable, element);\n",
              "          const docLink = document.createElement('div');\n",
              "          docLink.innerHTML = docLinkHtml;\n",
              "          element.appendChild(docLink);\n",
              "        }\n",
              "      </script>\n",
              "    </div>\n",
              "  </div>\n",
              "  "
            ]
          },
          "metadata": {},
          "execution_count": 15
        }
      ]
    },
    {
      "cell_type": "code",
      "source": [
        "# cek proporsi label\n",
        "df['label'].value_counts(normalize=True)"
      ],
      "metadata": {
        "colab": {
          "base_uri": "https://localhost:8080/"
        },
        "id": "w-2xZ4pv69TL",
        "outputId": "655da07e-be3c-4648-8b9e-1f368b2d7a78"
      },
      "execution_count": null,
      "outputs": [
        {
          "output_type": "execute_result",
          "data": {
            "text/plain": [
              "1    0.522985\n",
              "0    0.477015\n",
              "Name: label, dtype: float64"
            ]
          },
          "metadata": {},
          "execution_count": 16
        }
      ]
    },
    {
      "cell_type": "markdown",
      "source": [
        "proporsi data dari kedua kategori cukup seimbang (sebelum proses preprocessing)"
      ],
      "metadata": {
        "id": "ujmA_v_m3Qck"
      }
    },
    {
      "cell_type": "markdown",
      "source": [
        "####**Data Preprocessing**"
      ],
      "metadata": {
        "id": "4dbjcJjNf3bQ"
      }
    },
    {
      "cell_type": "code",
      "source": [
        "import string\n",
        "import re\n",
        "import os\n",
        "import matplotlib.pyplot as plt\n",
        "import seaborn as sns\n",
        "import nltk\n",
        "nltk.download('stopwords')\n",
        "\n",
        "from nltk.corpus import stopwords\n",
        "from wordcloud import WordCloud"
      ],
      "metadata": {
        "id": "BGVfysYyfnS3",
        "colab": {
          "base_uri": "https://localhost:8080/"
        },
        "outputId": "e5013f02-e5cc-4ca4-e955-4a8b8a8746a9"
      },
      "execution_count": null,
      "outputs": [
        {
          "output_type": "stream",
          "name": "stderr",
          "text": [
            "[nltk_data] Downloading package stopwords to /root/nltk_data...\n",
            "[nltk_data]   Unzipping corpora/stopwords.zip.\n"
          ]
        }
      ]
    },
    {
      "cell_type": "markdown",
      "source": [
        "##### **Feature Engineering**"
      ],
      "metadata": {
        "id": "J5cKXL5N4GMO"
      }
    },
    {
      "cell_type": "code",
      "source": [
        "# cek missing value\n",
        "df['text'].isna().sum()"
      ],
      "metadata": {
        "colab": {
          "base_uri": "https://localhost:8080/"
        },
        "id": "msWeWKpAtB1-",
        "outputId": "bdedace5-20fc-45a2-adaf-deae3e2131b1"
      },
      "execution_count": null,
      "outputs": [
        {
          "output_type": "execute_result",
          "data": {
            "text/plain": [
              "0"
            ]
          },
          "metadata": {},
          "execution_count": 18
        }
      ]
    },
    {
      "cell_type": "code",
      "source": [
        "# cek data \"text\" by sorting (ascending)\n",
        "df['text'].sort_values().to_frame()"
      ],
      "metadata": {
        "colab": {
          "base_uri": "https://localhost:8080/",
          "height": 424
        },
        "id": "EQqokoYOigHl",
        "outputId": "4223a079-2c22-4dc9-e563-08922b6debce"
      },
      "execution_count": null,
      "outputs": [
        {
          "output_type": "execute_result",
          "data": {
            "text/plain": [
              "                                                    text\n",
              "33310                                                   \n",
              "33443                                                   \n",
              "33442                                                   \n",
              "33428                                                   \n",
              "33424                                                   \n",
              "...                                                  ...\n",
              "40827  pic.twitter.com/KMnLrwB6t1  Richard K. Jones (...\n",
              "42714  re buke r byo ok/ verb 1. express sharp disapp...\n",
              "36178  ter ror ist  ter r st/ noun a person who uses ...\n",
              "38658  totally out of bounds! This is so wrong and so...\n",
              "34364  youngers these days are becoming so moist pic....\n",
              "\n",
              "[44898 rows x 1 columns]"
            ],
            "text/html": [
              "\n",
              "  <div id=\"df-d2289e9c-8b26-4e34-92ef-4536242ba8ee\">\n",
              "    <div class=\"colab-df-container\">\n",
              "      <div>\n",
              "<style scoped>\n",
              "    .dataframe tbody tr th:only-of-type {\n",
              "        vertical-align: middle;\n",
              "    }\n",
              "\n",
              "    .dataframe tbody tr th {\n",
              "        vertical-align: top;\n",
              "    }\n",
              "\n",
              "    .dataframe thead th {\n",
              "        text-align: right;\n",
              "    }\n",
              "</style>\n",
              "<table border=\"1\" class=\"dataframe\">\n",
              "  <thead>\n",
              "    <tr style=\"text-align: right;\">\n",
              "      <th></th>\n",
              "      <th>text</th>\n",
              "    </tr>\n",
              "  </thead>\n",
              "  <tbody>\n",
              "    <tr>\n",
              "      <th>33310</th>\n",
              "      <td></td>\n",
              "    </tr>\n",
              "    <tr>\n",
              "      <th>33443</th>\n",
              "      <td></td>\n",
              "    </tr>\n",
              "    <tr>\n",
              "      <th>33442</th>\n",
              "      <td></td>\n",
              "    </tr>\n",
              "    <tr>\n",
              "      <th>33428</th>\n",
              "      <td></td>\n",
              "    </tr>\n",
              "    <tr>\n",
              "      <th>33424</th>\n",
              "      <td></td>\n",
              "    </tr>\n",
              "    <tr>\n",
              "      <th>...</th>\n",
              "      <td>...</td>\n",
              "    </tr>\n",
              "    <tr>\n",
              "      <th>40827</th>\n",
              "      <td>pic.twitter.com/KMnLrwB6t1  Richard K. Jones (...</td>\n",
              "    </tr>\n",
              "    <tr>\n",
              "      <th>42714</th>\n",
              "      <td>re buke r byo ok/ verb 1. express sharp disapp...</td>\n",
              "    </tr>\n",
              "    <tr>\n",
              "      <th>36178</th>\n",
              "      <td>ter ror ist  ter r st/ noun a person who uses ...</td>\n",
              "    </tr>\n",
              "    <tr>\n",
              "      <th>38658</th>\n",
              "      <td>totally out of bounds! This is so wrong and so...</td>\n",
              "    </tr>\n",
              "    <tr>\n",
              "      <th>34364</th>\n",
              "      <td>youngers these days are becoming so moist pic....</td>\n",
              "    </tr>\n",
              "  </tbody>\n",
              "</table>\n",
              "<p>44898 rows × 1 columns</p>\n",
              "</div>\n",
              "      <button class=\"colab-df-convert\" onclick=\"convertToInteractive('df-d2289e9c-8b26-4e34-92ef-4536242ba8ee')\"\n",
              "              title=\"Convert this dataframe to an interactive table.\"\n",
              "              style=\"display:none;\">\n",
              "        \n",
              "  <svg xmlns=\"http://www.w3.org/2000/svg\" height=\"24px\"viewBox=\"0 0 24 24\"\n",
              "       width=\"24px\">\n",
              "    <path d=\"M0 0h24v24H0V0z\" fill=\"none\"/>\n",
              "    <path d=\"M18.56 5.44l.94 2.06.94-2.06 2.06-.94-2.06-.94-.94-2.06-.94 2.06-2.06.94zm-11 1L8.5 8.5l.94-2.06 2.06-.94-2.06-.94L8.5 2.5l-.94 2.06-2.06.94zm10 10l.94 2.06.94-2.06 2.06-.94-2.06-.94-.94-2.06-.94 2.06-2.06.94z\"/><path d=\"M17.41 7.96l-1.37-1.37c-.4-.4-.92-.59-1.43-.59-.52 0-1.04.2-1.43.59L10.3 9.45l-7.72 7.72c-.78.78-.78 2.05 0 2.83L4 21.41c.39.39.9.59 1.41.59.51 0 1.02-.2 1.41-.59l7.78-7.78 2.81-2.81c.8-.78.8-2.07 0-2.86zM5.41 20L4 18.59l7.72-7.72 1.47 1.35L5.41 20z\"/>\n",
              "  </svg>\n",
              "      </button>\n",
              "      \n",
              "  <style>\n",
              "    .colab-df-container {\n",
              "      display:flex;\n",
              "      flex-wrap:wrap;\n",
              "      gap: 12px;\n",
              "    }\n",
              "\n",
              "    .colab-df-convert {\n",
              "      background-color: #E8F0FE;\n",
              "      border: none;\n",
              "      border-radius: 50%;\n",
              "      cursor: pointer;\n",
              "      display: none;\n",
              "      fill: #1967D2;\n",
              "      height: 32px;\n",
              "      padding: 0 0 0 0;\n",
              "      width: 32px;\n",
              "    }\n",
              "\n",
              "    .colab-df-convert:hover {\n",
              "      background-color: #E2EBFA;\n",
              "      box-shadow: 0px 1px 2px rgba(60, 64, 67, 0.3), 0px 1px 3px 1px rgba(60, 64, 67, 0.15);\n",
              "      fill: #174EA6;\n",
              "    }\n",
              "\n",
              "    [theme=dark] .colab-df-convert {\n",
              "      background-color: #3B4455;\n",
              "      fill: #D2E3FC;\n",
              "    }\n",
              "\n",
              "    [theme=dark] .colab-df-convert:hover {\n",
              "      background-color: #434B5C;\n",
              "      box-shadow: 0px 1px 3px 1px rgba(0, 0, 0, 0.15);\n",
              "      filter: drop-shadow(0px 1px 2px rgba(0, 0, 0, 0.3));\n",
              "      fill: #FFFFFF;\n",
              "    }\n",
              "  </style>\n",
              "\n",
              "      <script>\n",
              "        const buttonEl =\n",
              "          document.querySelector('#df-d2289e9c-8b26-4e34-92ef-4536242ba8ee button.colab-df-convert');\n",
              "        buttonEl.style.display =\n",
              "          google.colab.kernel.accessAllowed ? 'block' : 'none';\n",
              "\n",
              "        async function convertToInteractive(key) {\n",
              "          const element = document.querySelector('#df-d2289e9c-8b26-4e34-92ef-4536242ba8ee');\n",
              "          const dataTable =\n",
              "            await google.colab.kernel.invokeFunction('convertToInteractive',\n",
              "                                                     [key], {});\n",
              "          if (!dataTable) return;\n",
              "\n",
              "          const docLinkHtml = 'Like what you see? Visit the ' +\n",
              "            '<a target=\"_blank\" href=https://colab.research.google.com/notebooks/data_table.ipynb>data table notebook</a>'\n",
              "            + ' to learn more about interactive tables.';\n",
              "          element.innerHTML = '';\n",
              "          dataTable['output_type'] = 'display_data';\n",
              "          await google.colab.output.renderOutput(dataTable, element);\n",
              "          const docLink = document.createElement('div');\n",
              "          docLink.innerHTML = docLinkHtml;\n",
              "          element.appendChild(docLink);\n",
              "        }\n",
              "      </script>\n",
              "    </div>\n",
              "  </div>\n",
              "  "
            ]
          },
          "metadata": {},
          "execution_count": 19
        }
      ]
    },
    {
      "cell_type": "code",
      "source": [
        "# cek data \"text\" by sorting (ascending) by tail\n",
        "df['text'].sort_values().to_frame().tail(20)"
      ],
      "metadata": {
        "colab": {
          "base_uri": "https://localhost:8080/",
          "height": 677
        },
        "id": "UdC_HvqK3mox",
        "outputId": "a4a312ba-c5af-4d0f-a41e-e3801c174f8f"
      },
      "execution_count": null,
      "outputs": [
        {
          "output_type": "execute_result",
          "data": {
            "text/plain": [
              "                                                    text\n",
              "40985                       https://youtu.be/0J4xPRYbsLU\n",
              "33600                       https://youtu.be/7oOhwHG2Gb4\n",
              "33682                       https://youtu.be/Ai5ayloRa-0\n",
              "33702  https://youtu.be/E2KFe_htBSA And I think the f...\n",
              "40965  https://youtu.be/E2KFe_htBSA And I think the f...\n",
              "40941                       https://youtu.be/RTuxvWjH3a4\n",
              "33669                       https://youtu.be/RTuxvWjH3a4\n",
              "33266  https://youtu.be/ZfRYj2ZX3dE#Trump supporter g...\n",
              "40694  https://youtu.be/ZfRYj2ZX3dE#Trump supporter g...\n",
              "33819                       https://youtu.be/kKFQ5i9jXmA\n",
              "41036                       https://youtu.be/kKFQ5i9jXmA\n",
              "36717  jeb! continues his free fall in the polls in s...\n",
              "42758  kar ma  k rm /Submit noun destiny or fate, fol...\n",
              "18956  neVIENNA (Reuters) - The U.N. nuclear watchdog...\n",
              "33499  pic.twitter.com/KMnLrwB6t1  Richard K. Jones (...\n",
              "40827  pic.twitter.com/KMnLrwB6t1  Richard K. Jones (...\n",
              "42714  re buke r byo ok/ verb 1. express sharp disapp...\n",
              "36178  ter ror ist  ter r st/ noun a person who uses ...\n",
              "38658  totally out of bounds! This is so wrong and so...\n",
              "34364  youngers these days are becoming so moist pic...."
            ],
            "text/html": [
              "\n",
              "  <div id=\"df-4ce61938-ce70-4c43-a416-0d50b7332709\">\n",
              "    <div class=\"colab-df-container\">\n",
              "      <div>\n",
              "<style scoped>\n",
              "    .dataframe tbody tr th:only-of-type {\n",
              "        vertical-align: middle;\n",
              "    }\n",
              "\n",
              "    .dataframe tbody tr th {\n",
              "        vertical-align: top;\n",
              "    }\n",
              "\n",
              "    .dataframe thead th {\n",
              "        text-align: right;\n",
              "    }\n",
              "</style>\n",
              "<table border=\"1\" class=\"dataframe\">\n",
              "  <thead>\n",
              "    <tr style=\"text-align: right;\">\n",
              "      <th></th>\n",
              "      <th>text</th>\n",
              "    </tr>\n",
              "  </thead>\n",
              "  <tbody>\n",
              "    <tr>\n",
              "      <th>40985</th>\n",
              "      <td>https://youtu.be/0J4xPRYbsLU</td>\n",
              "    </tr>\n",
              "    <tr>\n",
              "      <th>33600</th>\n",
              "      <td>https://youtu.be/7oOhwHG2Gb4</td>\n",
              "    </tr>\n",
              "    <tr>\n",
              "      <th>33682</th>\n",
              "      <td>https://youtu.be/Ai5ayloRa-0</td>\n",
              "    </tr>\n",
              "    <tr>\n",
              "      <th>33702</th>\n",
              "      <td>https://youtu.be/E2KFe_htBSA And I think the f...</td>\n",
              "    </tr>\n",
              "    <tr>\n",
              "      <th>40965</th>\n",
              "      <td>https://youtu.be/E2KFe_htBSA And I think the f...</td>\n",
              "    </tr>\n",
              "    <tr>\n",
              "      <th>40941</th>\n",
              "      <td>https://youtu.be/RTuxvWjH3a4</td>\n",
              "    </tr>\n",
              "    <tr>\n",
              "      <th>33669</th>\n",
              "      <td>https://youtu.be/RTuxvWjH3a4</td>\n",
              "    </tr>\n",
              "    <tr>\n",
              "      <th>33266</th>\n",
              "      <td>https://youtu.be/ZfRYj2ZX3dE#Trump supporter g...</td>\n",
              "    </tr>\n",
              "    <tr>\n",
              "      <th>40694</th>\n",
              "      <td>https://youtu.be/ZfRYj2ZX3dE#Trump supporter g...</td>\n",
              "    </tr>\n",
              "    <tr>\n",
              "      <th>33819</th>\n",
              "      <td>https://youtu.be/kKFQ5i9jXmA</td>\n",
              "    </tr>\n",
              "    <tr>\n",
              "      <th>41036</th>\n",
              "      <td>https://youtu.be/kKFQ5i9jXmA</td>\n",
              "    </tr>\n",
              "    <tr>\n",
              "      <th>36717</th>\n",
              "      <td>jeb! continues his free fall in the polls in s...</td>\n",
              "    </tr>\n",
              "    <tr>\n",
              "      <th>42758</th>\n",
              "      <td>kar ma  k rm /Submit noun destiny or fate, fol...</td>\n",
              "    </tr>\n",
              "    <tr>\n",
              "      <th>18956</th>\n",
              "      <td>neVIENNA (Reuters) - The U.N. nuclear watchdog...</td>\n",
              "    </tr>\n",
              "    <tr>\n",
              "      <th>33499</th>\n",
              "      <td>pic.twitter.com/KMnLrwB6t1  Richard K. Jones (...</td>\n",
              "    </tr>\n",
              "    <tr>\n",
              "      <th>40827</th>\n",
              "      <td>pic.twitter.com/KMnLrwB6t1  Richard K. Jones (...</td>\n",
              "    </tr>\n",
              "    <tr>\n",
              "      <th>42714</th>\n",
              "      <td>re buke r byo ok/ verb 1. express sharp disapp...</td>\n",
              "    </tr>\n",
              "    <tr>\n",
              "      <th>36178</th>\n",
              "      <td>ter ror ist  ter r st/ noun a person who uses ...</td>\n",
              "    </tr>\n",
              "    <tr>\n",
              "      <th>38658</th>\n",
              "      <td>totally out of bounds! This is so wrong and so...</td>\n",
              "    </tr>\n",
              "    <tr>\n",
              "      <th>34364</th>\n",
              "      <td>youngers these days are becoming so moist pic....</td>\n",
              "    </tr>\n",
              "  </tbody>\n",
              "</table>\n",
              "</div>\n",
              "      <button class=\"colab-df-convert\" onclick=\"convertToInteractive('df-4ce61938-ce70-4c43-a416-0d50b7332709')\"\n",
              "              title=\"Convert this dataframe to an interactive table.\"\n",
              "              style=\"display:none;\">\n",
              "        \n",
              "  <svg xmlns=\"http://www.w3.org/2000/svg\" height=\"24px\"viewBox=\"0 0 24 24\"\n",
              "       width=\"24px\">\n",
              "    <path d=\"M0 0h24v24H0V0z\" fill=\"none\"/>\n",
              "    <path d=\"M18.56 5.44l.94 2.06.94-2.06 2.06-.94-2.06-.94-.94-2.06-.94 2.06-2.06.94zm-11 1L8.5 8.5l.94-2.06 2.06-.94-2.06-.94L8.5 2.5l-.94 2.06-2.06.94zm10 10l.94 2.06.94-2.06 2.06-.94-2.06-.94-.94-2.06-.94 2.06-2.06.94z\"/><path d=\"M17.41 7.96l-1.37-1.37c-.4-.4-.92-.59-1.43-.59-.52 0-1.04.2-1.43.59L10.3 9.45l-7.72 7.72c-.78.78-.78 2.05 0 2.83L4 21.41c.39.39.9.59 1.41.59.51 0 1.02-.2 1.41-.59l7.78-7.78 2.81-2.81c.8-.78.8-2.07 0-2.86zM5.41 20L4 18.59l7.72-7.72 1.47 1.35L5.41 20z\"/>\n",
              "  </svg>\n",
              "      </button>\n",
              "      \n",
              "  <style>\n",
              "    .colab-df-container {\n",
              "      display:flex;\n",
              "      flex-wrap:wrap;\n",
              "      gap: 12px;\n",
              "    }\n",
              "\n",
              "    .colab-df-convert {\n",
              "      background-color: #E8F0FE;\n",
              "      border: none;\n",
              "      border-radius: 50%;\n",
              "      cursor: pointer;\n",
              "      display: none;\n",
              "      fill: #1967D2;\n",
              "      height: 32px;\n",
              "      padding: 0 0 0 0;\n",
              "      width: 32px;\n",
              "    }\n",
              "\n",
              "    .colab-df-convert:hover {\n",
              "      background-color: #E2EBFA;\n",
              "      box-shadow: 0px 1px 2px rgba(60, 64, 67, 0.3), 0px 1px 3px 1px rgba(60, 64, 67, 0.15);\n",
              "      fill: #174EA6;\n",
              "    }\n",
              "\n",
              "    [theme=dark] .colab-df-convert {\n",
              "      background-color: #3B4455;\n",
              "      fill: #D2E3FC;\n",
              "    }\n",
              "\n",
              "    [theme=dark] .colab-df-convert:hover {\n",
              "      background-color: #434B5C;\n",
              "      box-shadow: 0px 1px 3px 1px rgba(0, 0, 0, 0.15);\n",
              "      filter: drop-shadow(0px 1px 2px rgba(0, 0, 0, 0.3));\n",
              "      fill: #FFFFFF;\n",
              "    }\n",
              "  </style>\n",
              "\n",
              "      <script>\n",
              "        const buttonEl =\n",
              "          document.querySelector('#df-4ce61938-ce70-4c43-a416-0d50b7332709 button.colab-df-convert');\n",
              "        buttonEl.style.display =\n",
              "          google.colab.kernel.accessAllowed ? 'block' : 'none';\n",
              "\n",
              "        async function convertToInteractive(key) {\n",
              "          const element = document.querySelector('#df-4ce61938-ce70-4c43-a416-0d50b7332709');\n",
              "          const dataTable =\n",
              "            await google.colab.kernel.invokeFunction('convertToInteractive',\n",
              "                                                     [key], {});\n",
              "          if (!dataTable) return;\n",
              "\n",
              "          const docLinkHtml = 'Like what you see? Visit the ' +\n",
              "            '<a target=\"_blank\" href=https://colab.research.google.com/notebooks/data_table.ipynb>data table notebook</a>'\n",
              "            + ' to learn more about interactive tables.';\n",
              "          element.innerHTML = '';\n",
              "          dataTable['output_type'] = 'display_data';\n",
              "          await google.colab.output.renderOutput(dataTable, element);\n",
              "          const docLink = document.createElement('div');\n",
              "          docLink.innerHTML = docLinkHtml;\n",
              "          element.appendChild(docLink);\n",
              "        }\n",
              "      </script>\n",
              "    </div>\n",
              "  </div>\n",
              "  "
            ]
          },
          "metadata": {},
          "execution_count": 20
        }
      ]
    },
    {
      "cell_type": "markdown",
      "source": [
        "terdapat empty data pada column \"text\" \n",
        "\n",
        "karena pada column \"title\" mencakup judul dari \"text\" yg menggambarkan secara general mengenai isi text; maka fill empty data dengan value pada column \"title\""
      ],
      "metadata": {
        "id": "7rWbxydujVKc"
      }
    },
    {
      "cell_type": "code",
      "source": [
        "# fill empty text with value from \"title\"\n",
        "for idx in list(df.index):\n",
        "  if df.loc[idx, 'text'] in [\" \", \"  \"]:\n",
        "    df.loc[idx, 'text'] = df.loc[idx, 'title']\n",
        "\n",
        "# re-cek data text by sorting \n",
        "df['text'].sort_values().to_frame()"
      ],
      "metadata": {
        "colab": {
          "base_uri": "https://localhost:8080/",
          "height": 424
        },
        "id": "pYmZ-xBMkD1n",
        "outputId": "59c57007-f6a7-4101-c6d1-1a7b8f04cc2a"
      },
      "execution_count": null,
      "outputs": [
        {
          "output_type": "execute_result",
          "data": {
            "text/plain": [
              "                                                    text\n",
              "35094      (Welcome) to America We hope you enjoy our...\n",
              "37964      (Welcome) to America We hope you enjoy our...\n",
              "39922     Delta Air Lines and Bank of America became ...\n",
              "32062     Delta Air Lines and Bank of America became ...\n",
              "33502    #PresidentElectTrumpABSOLUTELY MUST WATCHTod...\n",
              "...                                                  ...\n",
              "33531  “So Rude!” Nancy Pelosi’s Daughter Blasted By ...\n",
              "40879  “THE LEFT IS WILLING To Risk Civil War In Amer...\n",
              "33578  “THE LEFT IS WILLING To Risk Civil War In Amer...\n",
              "33360  “YOU ARE FAKE NEWS!” TRUMP DESTROYS CNN Right ...\n",
              "33146  “Your rights are NOT superior to mine!” JUDGE ...\n",
              "\n",
              "[44898 rows x 1 columns]"
            ],
            "text/html": [
              "\n",
              "  <div id=\"df-89645314-0193-467c-a6c4-81b6246468a9\">\n",
              "    <div class=\"colab-df-container\">\n",
              "      <div>\n",
              "<style scoped>\n",
              "    .dataframe tbody tr th:only-of-type {\n",
              "        vertical-align: middle;\n",
              "    }\n",
              "\n",
              "    .dataframe tbody tr th {\n",
              "        vertical-align: top;\n",
              "    }\n",
              "\n",
              "    .dataframe thead th {\n",
              "        text-align: right;\n",
              "    }\n",
              "</style>\n",
              "<table border=\"1\" class=\"dataframe\">\n",
              "  <thead>\n",
              "    <tr style=\"text-align: right;\">\n",
              "      <th></th>\n",
              "      <th>text</th>\n",
              "    </tr>\n",
              "  </thead>\n",
              "  <tbody>\n",
              "    <tr>\n",
              "      <th>35094</th>\n",
              "      <td>(Welcome) to America We hope you enjoy our...</td>\n",
              "    </tr>\n",
              "    <tr>\n",
              "      <th>37964</th>\n",
              "      <td>(Welcome) to America We hope you enjoy our...</td>\n",
              "    </tr>\n",
              "    <tr>\n",
              "      <th>39922</th>\n",
              "      <td>Delta Air Lines and Bank of America became ...</td>\n",
              "    </tr>\n",
              "    <tr>\n",
              "      <th>32062</th>\n",
              "      <td>Delta Air Lines and Bank of America became ...</td>\n",
              "    </tr>\n",
              "    <tr>\n",
              "      <th>33502</th>\n",
              "      <td>#PresidentElectTrumpABSOLUTELY MUST WATCHTod...</td>\n",
              "    </tr>\n",
              "    <tr>\n",
              "      <th>...</th>\n",
              "      <td>...</td>\n",
              "    </tr>\n",
              "    <tr>\n",
              "      <th>33531</th>\n",
              "      <td>“So Rude!” Nancy Pelosi’s Daughter Blasted By ...</td>\n",
              "    </tr>\n",
              "    <tr>\n",
              "      <th>40879</th>\n",
              "      <td>“THE LEFT IS WILLING To Risk Civil War In Amer...</td>\n",
              "    </tr>\n",
              "    <tr>\n",
              "      <th>33578</th>\n",
              "      <td>“THE LEFT IS WILLING To Risk Civil War In Amer...</td>\n",
              "    </tr>\n",
              "    <tr>\n",
              "      <th>33360</th>\n",
              "      <td>“YOU ARE FAKE NEWS!” TRUMP DESTROYS CNN Right ...</td>\n",
              "    </tr>\n",
              "    <tr>\n",
              "      <th>33146</th>\n",
              "      <td>“Your rights are NOT superior to mine!” JUDGE ...</td>\n",
              "    </tr>\n",
              "  </tbody>\n",
              "</table>\n",
              "<p>44898 rows × 1 columns</p>\n",
              "</div>\n",
              "      <button class=\"colab-df-convert\" onclick=\"convertToInteractive('df-89645314-0193-467c-a6c4-81b6246468a9')\"\n",
              "              title=\"Convert this dataframe to an interactive table.\"\n",
              "              style=\"display:none;\">\n",
              "        \n",
              "  <svg xmlns=\"http://www.w3.org/2000/svg\" height=\"24px\"viewBox=\"0 0 24 24\"\n",
              "       width=\"24px\">\n",
              "    <path d=\"M0 0h24v24H0V0z\" fill=\"none\"/>\n",
              "    <path d=\"M18.56 5.44l.94 2.06.94-2.06 2.06-.94-2.06-.94-.94-2.06-.94 2.06-2.06.94zm-11 1L8.5 8.5l.94-2.06 2.06-.94-2.06-.94L8.5 2.5l-.94 2.06-2.06.94zm10 10l.94 2.06.94-2.06 2.06-.94-2.06-.94-.94-2.06-.94 2.06-2.06.94z\"/><path d=\"M17.41 7.96l-1.37-1.37c-.4-.4-.92-.59-1.43-.59-.52 0-1.04.2-1.43.59L10.3 9.45l-7.72 7.72c-.78.78-.78 2.05 0 2.83L4 21.41c.39.39.9.59 1.41.59.51 0 1.02-.2 1.41-.59l7.78-7.78 2.81-2.81c.8-.78.8-2.07 0-2.86zM5.41 20L4 18.59l7.72-7.72 1.47 1.35L5.41 20z\"/>\n",
              "  </svg>\n",
              "      </button>\n",
              "      \n",
              "  <style>\n",
              "    .colab-df-container {\n",
              "      display:flex;\n",
              "      flex-wrap:wrap;\n",
              "      gap: 12px;\n",
              "    }\n",
              "\n",
              "    .colab-df-convert {\n",
              "      background-color: #E8F0FE;\n",
              "      border: none;\n",
              "      border-radius: 50%;\n",
              "      cursor: pointer;\n",
              "      display: none;\n",
              "      fill: #1967D2;\n",
              "      height: 32px;\n",
              "      padding: 0 0 0 0;\n",
              "      width: 32px;\n",
              "    }\n",
              "\n",
              "    .colab-df-convert:hover {\n",
              "      background-color: #E2EBFA;\n",
              "      box-shadow: 0px 1px 2px rgba(60, 64, 67, 0.3), 0px 1px 3px 1px rgba(60, 64, 67, 0.15);\n",
              "      fill: #174EA6;\n",
              "    }\n",
              "\n",
              "    [theme=dark] .colab-df-convert {\n",
              "      background-color: #3B4455;\n",
              "      fill: #D2E3FC;\n",
              "    }\n",
              "\n",
              "    [theme=dark] .colab-df-convert:hover {\n",
              "      background-color: #434B5C;\n",
              "      box-shadow: 0px 1px 3px 1px rgba(0, 0, 0, 0.15);\n",
              "      filter: drop-shadow(0px 1px 2px rgba(0, 0, 0, 0.3));\n",
              "      fill: #FFFFFF;\n",
              "    }\n",
              "  </style>\n",
              "\n",
              "      <script>\n",
              "        const buttonEl =\n",
              "          document.querySelector('#df-89645314-0193-467c-a6c4-81b6246468a9 button.colab-df-convert');\n",
              "        buttonEl.style.display =\n",
              "          google.colab.kernel.accessAllowed ? 'block' : 'none';\n",
              "\n",
              "        async function convertToInteractive(key) {\n",
              "          const element = document.querySelector('#df-89645314-0193-467c-a6c4-81b6246468a9');\n",
              "          const dataTable =\n",
              "            await google.colab.kernel.invokeFunction('convertToInteractive',\n",
              "                                                     [key], {});\n",
              "          if (!dataTable) return;\n",
              "\n",
              "          const docLinkHtml = 'Like what you see? Visit the ' +\n",
              "            '<a target=\"_blank\" href=https://colab.research.google.com/notebooks/data_table.ipynb>data table notebook</a>'\n",
              "            + ' to learn more about interactive tables.';\n",
              "          element.innerHTML = '';\n",
              "          dataTable['output_type'] = 'display_data';\n",
              "          await google.colab.output.renderOutput(dataTable, element);\n",
              "          const docLink = document.createElement('div');\n",
              "          docLink.innerHTML = docLinkHtml;\n",
              "          element.appendChild(docLink);\n",
              "        }\n",
              "      </script>\n",
              "    </div>\n",
              "  </div>\n",
              "  "
            ]
          },
          "metadata": {},
          "execution_count": 21
        }
      ]
    },
    {
      "cell_type": "code",
      "source": [
        "# cek data duplikat\n",
        "print(f\"jumlah data duplikat: {df.duplicated().sum()}\")\n",
        "df[df.duplicated(keep=False)]['text'].sort_values().to_frame()"
      ],
      "metadata": {
        "colab": {
          "base_uri": "https://localhost:8080/",
          "height": 441
        },
        "id": "SpsZ9ltvhhGo",
        "outputId": "33c49fde-3a8e-4a5f-bebc-551a6e8241dd"
      },
      "execution_count": null,
      "outputs": [
        {
          "output_type": "stream",
          "name": "stdout",
          "text": [
            "jumlah data duplikat: 5793\n"
          ]
        },
        {
          "output_type": "execute_result",
          "data": {
            "text/plain": [
              "                                                    text\n",
              "35094      (Welcome) to America We hope you enjoy our...\n",
              "37964      (Welcome) to America We hope you enjoy our...\n",
              "32062     Delta Air Lines and Bank of America became ...\n",
              "39922     Delta Air Lines and Bank of America became ...\n",
              "37706    #PresidentElectTrumpABSOLUTELY MUST WATCHTod...\n",
              "...                                                  ...\n",
              "40734  “BIKERS FOR TRUMP” Vow To Defend Trump During ...\n",
              "33353  “LITTLE” MARCO RUBIO GRILLS Trump’s Secretary ...\n",
              "37685  “LITTLE” MARCO RUBIO GRILLS Trump’s Secretary ...\n",
              "40879  “THE LEFT IS WILLING To Risk Civil War In Amer...\n",
              "33578  “THE LEFT IS WILLING To Risk Civil War In Amer...\n",
              "\n",
              "[11098 rows x 1 columns]"
            ],
            "text/html": [
              "\n",
              "  <div id=\"df-3d38eb38-069f-4cee-b535-fcb5e9810102\">\n",
              "    <div class=\"colab-df-container\">\n",
              "      <div>\n",
              "<style scoped>\n",
              "    .dataframe tbody tr th:only-of-type {\n",
              "        vertical-align: middle;\n",
              "    }\n",
              "\n",
              "    .dataframe tbody tr th {\n",
              "        vertical-align: top;\n",
              "    }\n",
              "\n",
              "    .dataframe thead th {\n",
              "        text-align: right;\n",
              "    }\n",
              "</style>\n",
              "<table border=\"1\" class=\"dataframe\">\n",
              "  <thead>\n",
              "    <tr style=\"text-align: right;\">\n",
              "      <th></th>\n",
              "      <th>text</th>\n",
              "    </tr>\n",
              "  </thead>\n",
              "  <tbody>\n",
              "    <tr>\n",
              "      <th>35094</th>\n",
              "      <td>(Welcome) to America We hope you enjoy our...</td>\n",
              "    </tr>\n",
              "    <tr>\n",
              "      <th>37964</th>\n",
              "      <td>(Welcome) to America We hope you enjoy our...</td>\n",
              "    </tr>\n",
              "    <tr>\n",
              "      <th>32062</th>\n",
              "      <td>Delta Air Lines and Bank of America became ...</td>\n",
              "    </tr>\n",
              "    <tr>\n",
              "      <th>39922</th>\n",
              "      <td>Delta Air Lines and Bank of America became ...</td>\n",
              "    </tr>\n",
              "    <tr>\n",
              "      <th>37706</th>\n",
              "      <td>#PresidentElectTrumpABSOLUTELY MUST WATCHTod...</td>\n",
              "    </tr>\n",
              "    <tr>\n",
              "      <th>...</th>\n",
              "      <td>...</td>\n",
              "    </tr>\n",
              "    <tr>\n",
              "      <th>40734</th>\n",
              "      <td>“BIKERS FOR TRUMP” Vow To Defend Trump During ...</td>\n",
              "    </tr>\n",
              "    <tr>\n",
              "      <th>33353</th>\n",
              "      <td>“LITTLE” MARCO RUBIO GRILLS Trump’s Secretary ...</td>\n",
              "    </tr>\n",
              "    <tr>\n",
              "      <th>37685</th>\n",
              "      <td>“LITTLE” MARCO RUBIO GRILLS Trump’s Secretary ...</td>\n",
              "    </tr>\n",
              "    <tr>\n",
              "      <th>40879</th>\n",
              "      <td>“THE LEFT IS WILLING To Risk Civil War In Amer...</td>\n",
              "    </tr>\n",
              "    <tr>\n",
              "      <th>33578</th>\n",
              "      <td>“THE LEFT IS WILLING To Risk Civil War In Amer...</td>\n",
              "    </tr>\n",
              "  </tbody>\n",
              "</table>\n",
              "<p>11098 rows × 1 columns</p>\n",
              "</div>\n",
              "      <button class=\"colab-df-convert\" onclick=\"convertToInteractive('df-3d38eb38-069f-4cee-b535-fcb5e9810102')\"\n",
              "              title=\"Convert this dataframe to an interactive table.\"\n",
              "              style=\"display:none;\">\n",
              "        \n",
              "  <svg xmlns=\"http://www.w3.org/2000/svg\" height=\"24px\"viewBox=\"0 0 24 24\"\n",
              "       width=\"24px\">\n",
              "    <path d=\"M0 0h24v24H0V0z\" fill=\"none\"/>\n",
              "    <path d=\"M18.56 5.44l.94 2.06.94-2.06 2.06-.94-2.06-.94-.94-2.06-.94 2.06-2.06.94zm-11 1L8.5 8.5l.94-2.06 2.06-.94-2.06-.94L8.5 2.5l-.94 2.06-2.06.94zm10 10l.94 2.06.94-2.06 2.06-.94-2.06-.94-.94-2.06-.94 2.06-2.06.94z\"/><path d=\"M17.41 7.96l-1.37-1.37c-.4-.4-.92-.59-1.43-.59-.52 0-1.04.2-1.43.59L10.3 9.45l-7.72 7.72c-.78.78-.78 2.05 0 2.83L4 21.41c.39.39.9.59 1.41.59.51 0 1.02-.2 1.41-.59l7.78-7.78 2.81-2.81c.8-.78.8-2.07 0-2.86zM5.41 20L4 18.59l7.72-7.72 1.47 1.35L5.41 20z\"/>\n",
              "  </svg>\n",
              "      </button>\n",
              "      \n",
              "  <style>\n",
              "    .colab-df-container {\n",
              "      display:flex;\n",
              "      flex-wrap:wrap;\n",
              "      gap: 12px;\n",
              "    }\n",
              "\n",
              "    .colab-df-convert {\n",
              "      background-color: #E8F0FE;\n",
              "      border: none;\n",
              "      border-radius: 50%;\n",
              "      cursor: pointer;\n",
              "      display: none;\n",
              "      fill: #1967D2;\n",
              "      height: 32px;\n",
              "      padding: 0 0 0 0;\n",
              "      width: 32px;\n",
              "    }\n",
              "\n",
              "    .colab-df-convert:hover {\n",
              "      background-color: #E2EBFA;\n",
              "      box-shadow: 0px 1px 2px rgba(60, 64, 67, 0.3), 0px 1px 3px 1px rgba(60, 64, 67, 0.15);\n",
              "      fill: #174EA6;\n",
              "    }\n",
              "\n",
              "    [theme=dark] .colab-df-convert {\n",
              "      background-color: #3B4455;\n",
              "      fill: #D2E3FC;\n",
              "    }\n",
              "\n",
              "    [theme=dark] .colab-df-convert:hover {\n",
              "      background-color: #434B5C;\n",
              "      box-shadow: 0px 1px 3px 1px rgba(0, 0, 0, 0.15);\n",
              "      filter: drop-shadow(0px 1px 2px rgba(0, 0, 0, 0.3));\n",
              "      fill: #FFFFFF;\n",
              "    }\n",
              "  </style>\n",
              "\n",
              "      <script>\n",
              "        const buttonEl =\n",
              "          document.querySelector('#df-3d38eb38-069f-4cee-b535-fcb5e9810102 button.colab-df-convert');\n",
              "        buttonEl.style.display =\n",
              "          google.colab.kernel.accessAllowed ? 'block' : 'none';\n",
              "\n",
              "        async function convertToInteractive(key) {\n",
              "          const element = document.querySelector('#df-3d38eb38-069f-4cee-b535-fcb5e9810102');\n",
              "          const dataTable =\n",
              "            await google.colab.kernel.invokeFunction('convertToInteractive',\n",
              "                                                     [key], {});\n",
              "          if (!dataTable) return;\n",
              "\n",
              "          const docLinkHtml = 'Like what you see? Visit the ' +\n",
              "            '<a target=\"_blank\" href=https://colab.research.google.com/notebooks/data_table.ipynb>data table notebook</a>'\n",
              "            + ' to learn more about interactive tables.';\n",
              "          element.innerHTML = '';\n",
              "          dataTable['output_type'] = 'display_data';\n",
              "          await google.colab.output.renderOutput(dataTable, element);\n",
              "          const docLink = document.createElement('div');\n",
              "          docLink.innerHTML = docLinkHtml;\n",
              "          element.appendChild(docLink);\n",
              "        }\n",
              "      </script>\n",
              "    </div>\n",
              "  </div>\n",
              "  "
            ]
          },
          "metadata": {},
          "execution_count": 22
        }
      ]
    },
    {
      "cell_type": "code",
      "source": [
        "# remove duplicates data\n",
        "df.drop_duplicates(inplace=True)\n",
        "\n",
        "# re-cek data duplikat\n",
        "print(f\"jumlah data duplikat: {df.duplicated().sum()}\")"
      ],
      "metadata": {
        "colab": {
          "base_uri": "https://localhost:8080/"
        },
        "id": "0hblHMN0gYKH",
        "outputId": "c0e1e0b2-d034-4233-b940-e9f38869efdb"
      },
      "execution_count": null,
      "outputs": [
        {
          "output_type": "stream",
          "name": "stdout",
          "text": [
            "jumlah data duplikat: 0\n"
          ]
        }
      ]
    },
    {
      "cell_type": "markdown",
      "source": [
        "##### **Data Cleansing**"
      ],
      "metadata": {
        "id": "C7KUbpqV4NLD"
      }
    },
    {
      "cell_type": "code",
      "source": [
        "# reset index karena terdapat data yg dihapus\n",
        "df.reset_index(drop=True, inplace=True)"
      ],
      "metadata": {
        "id": "y1owMccxDKTB"
      },
      "execution_count": null,
      "outputs": []
    },
    {
      "cell_type": "markdown",
      "source": [
        "preprocessing text:\n",
        "- lowercasing\n",
        "- remove numbers\n",
        "- remove punctuations\n",
        "- remove non-ASCII characters\n",
        "- remove words with 2 or fewer letters\n",
        "- remove website url\n",
        "- remove twitter url\n",
        "- remove excessive whitespaces & pre or post whitespace in the texts\n",
        "- remove stopwords\n",
        "- lemmatization or stemming (not performed)\n"
      ],
      "metadata": {
        "id": "CXrACNd9gKe_"
      }
    },
    {
      "cell_type": "code",
      "source": [
        "def text_preprocessing(text):\n",
        "  t = text.lower()  # lowercasing\n",
        "  t = re.sub(r'https?:\\/\\/.*\\/\\w*', '', t)  # remove website url\n",
        "  t = re.sub('(pic.twitter)\\w*', '', t)  # remove twitter url\n",
        "  t = re.sub(f\"[{string.punctuation.replace('#','')}]+\", ' ', t)  # remove punctuations\n",
        "  t = re.sub('[0-9]', '', t)  # remove numbers\n",
        "  t = re.sub('[^\\x00-\\x7F]+', '', t)  # remove non-ASCII characters\n",
        "  t = re.sub(r'\\b\\w{1,2}\\b', '', t)  # words with 2 or fewer letters\n",
        "  t = re.sub(r'\\s{2,}', ' ', t)  # remove excessive whitespaces\n",
        "  t = t.strip()  # remove pre or post whitespace\n",
        "  t = ' '.join([word for word in t.split() if word not in stopwords.words('english')])  # remove stopwords\n",
        "  return t"
      ],
      "metadata": {
        "id": "9MKoiCvruWnH"
      },
      "execution_count": null,
      "outputs": []
    },
    {
      "cell_type": "code",
      "source": [
        "CLEANED_DATA_PATH = PATH + 'data_cleaned.csv'\n",
        "\n",
        "# pengecekan: jika dataset yg sudah di-cleansing belum ada\n",
        "# maka akan melakukan preprocessing\n",
        "if not os.path.exists(CLEANED_DATA_PATH):\n",
        "  # perform preprocessing\n",
        "  df['text_cleaned'] = df['text'].apply(text_preprocessing)\n",
        "  # save cleaned data\n",
        "  df.to_csv(CLEANED_DATA_PATH, index=False)\n",
        "  df_cleaned = pd.read_csv(CLEANED_DATA_PATH)\n",
        "  print(f'cleaned data saved into {CLEANED_DATA_PATH}')\n",
        "\n",
        "else:\n",
        "  df_cleaned = pd.read_csv(CLEANED_DATA_PATH)\n",
        "  print('cleaned data loaded!')"
      ],
      "metadata": {
        "colab": {
          "base_uri": "https://localhost:8080/"
        },
        "id": "9VZlwBY02Si4",
        "outputId": "397b889e-0e8b-4919-dfc2-f5e8409be437"
      },
      "execution_count": null,
      "outputs": [
        {
          "output_type": "stream",
          "name": "stdout",
          "text": [
            "cleaned data loaded!\n"
          ]
        }
      ]
    },
    {
      "cell_type": "code",
      "source": [
        "# data preview\n",
        "df_cleaned"
      ],
      "metadata": {
        "id": "C-9nleo3dugT",
        "colab": {
          "base_uri": "https://localhost:8080/",
          "height": 424
        },
        "outputId": "cbfcb217-ff0e-4cff-ee7a-12472f1bc87e"
      },
      "execution_count": null,
      "outputs": [
        {
          "output_type": "execute_result",
          "data": {
            "text/plain": [
              "                                                   title  \\\n",
              "0      As U.S. budget fight looms, Republicans flip t...   \n",
              "1      U.S. military to accept transgender recruits o...   \n",
              "2      Senior U.S. Republican senator: 'Let Mr. Muell...   \n",
              "3      FBI Russia probe helped by Australian diplomat...   \n",
              "4      Trump wants Postal Service to charge 'much mor...   \n",
              "...                                                  ...   \n",
              "39100  The White House and The Theatrics of ‘Gun Cont...   \n",
              "39101  Activists or Terrorists? How Media Controls an...   \n",
              "39102  BOILER ROOM – No Surrender, No Retreat, Heads ...   \n",
              "39103  Federal Showdown Looms in Oregon After BLM Abu...   \n",
              "39104  A Troubled King: Chicago’s Rahm Emanuel Desper...   \n",
              "\n",
              "                                                    text  label  \\\n",
              "0      WASHINGTON (Reuters) - The head of a conservat...      0   \n",
              "1      WASHINGTON (Reuters) - Transgender people will...      0   \n",
              "2      WASHINGTON (Reuters) - The special counsel inv...      0   \n",
              "3      WASHINGTON (Reuters) - Trump campaign adviser ...      0   \n",
              "4      SEATTLE/WASHINGTON (Reuters) - President Donal...      0   \n",
              "...                                                  ...    ...   \n",
              "39100  21st Century Wire says All the world s a stage...      1   \n",
              "39101    Randy Johnson 21st Century WireThe majority ...      1   \n",
              "39102  Tune in to the Alternate Current Radio Network...      1   \n",
              "39103  21st Century Wire says A new front has just op...      1   \n",
              "39104  21st Century Wire says It s not that far away....      1   \n",
              "\n",
              "                                            text_cleaned  \n",
              "0      washington reuters head conservative republica...  \n",
              "1      washington reuters transgender people allowed ...  \n",
              "2      washington reuters special counsel investigati...  \n",
              "3      washington reuters trump campaign adviser geor...  \n",
              "4      seattle washington reuters president donald tr...  \n",
              "...                                                  ...  \n",
              "39100  century wire says world stage men women merely...  \n",
              "39101  randy johnson century wirethe majority mainstr...  \n",
              "39102  tune alternate current radio network acr anoth...  \n",
              "39103  century wire says new front opened long battle...  \n",
              "39104  century wire says far away guess wants run pre...  \n",
              "\n",
              "[39105 rows x 4 columns]"
            ],
            "text/html": [
              "\n",
              "  <div id=\"df-e4e43edd-c19e-4ae2-8e4e-81454e3291ca\">\n",
              "    <div class=\"colab-df-container\">\n",
              "      <div>\n",
              "<style scoped>\n",
              "    .dataframe tbody tr th:only-of-type {\n",
              "        vertical-align: middle;\n",
              "    }\n",
              "\n",
              "    .dataframe tbody tr th {\n",
              "        vertical-align: top;\n",
              "    }\n",
              "\n",
              "    .dataframe thead th {\n",
              "        text-align: right;\n",
              "    }\n",
              "</style>\n",
              "<table border=\"1\" class=\"dataframe\">\n",
              "  <thead>\n",
              "    <tr style=\"text-align: right;\">\n",
              "      <th></th>\n",
              "      <th>title</th>\n",
              "      <th>text</th>\n",
              "      <th>label</th>\n",
              "      <th>text_cleaned</th>\n",
              "    </tr>\n",
              "  </thead>\n",
              "  <tbody>\n",
              "    <tr>\n",
              "      <th>0</th>\n",
              "      <td>As U.S. budget fight looms, Republicans flip t...</td>\n",
              "      <td>WASHINGTON (Reuters) - The head of a conservat...</td>\n",
              "      <td>0</td>\n",
              "      <td>washington reuters head conservative republica...</td>\n",
              "    </tr>\n",
              "    <tr>\n",
              "      <th>1</th>\n",
              "      <td>U.S. military to accept transgender recruits o...</td>\n",
              "      <td>WASHINGTON (Reuters) - Transgender people will...</td>\n",
              "      <td>0</td>\n",
              "      <td>washington reuters transgender people allowed ...</td>\n",
              "    </tr>\n",
              "    <tr>\n",
              "      <th>2</th>\n",
              "      <td>Senior U.S. Republican senator: 'Let Mr. Muell...</td>\n",
              "      <td>WASHINGTON (Reuters) - The special counsel inv...</td>\n",
              "      <td>0</td>\n",
              "      <td>washington reuters special counsel investigati...</td>\n",
              "    </tr>\n",
              "    <tr>\n",
              "      <th>3</th>\n",
              "      <td>FBI Russia probe helped by Australian diplomat...</td>\n",
              "      <td>WASHINGTON (Reuters) - Trump campaign adviser ...</td>\n",
              "      <td>0</td>\n",
              "      <td>washington reuters trump campaign adviser geor...</td>\n",
              "    </tr>\n",
              "    <tr>\n",
              "      <th>4</th>\n",
              "      <td>Trump wants Postal Service to charge 'much mor...</td>\n",
              "      <td>SEATTLE/WASHINGTON (Reuters) - President Donal...</td>\n",
              "      <td>0</td>\n",
              "      <td>seattle washington reuters president donald tr...</td>\n",
              "    </tr>\n",
              "    <tr>\n",
              "      <th>...</th>\n",
              "      <td>...</td>\n",
              "      <td>...</td>\n",
              "      <td>...</td>\n",
              "      <td>...</td>\n",
              "    </tr>\n",
              "    <tr>\n",
              "      <th>39100</th>\n",
              "      <td>The White House and The Theatrics of ‘Gun Cont...</td>\n",
              "      <td>21st Century Wire says All the world s a stage...</td>\n",
              "      <td>1</td>\n",
              "      <td>century wire says world stage men women merely...</td>\n",
              "    </tr>\n",
              "    <tr>\n",
              "      <th>39101</th>\n",
              "      <td>Activists or Terrorists? How Media Controls an...</td>\n",
              "      <td>Randy Johnson 21st Century WireThe majority ...</td>\n",
              "      <td>1</td>\n",
              "      <td>randy johnson century wirethe majority mainstr...</td>\n",
              "    </tr>\n",
              "    <tr>\n",
              "      <th>39102</th>\n",
              "      <td>BOILER ROOM – No Surrender, No Retreat, Heads ...</td>\n",
              "      <td>Tune in to the Alternate Current Radio Network...</td>\n",
              "      <td>1</td>\n",
              "      <td>tune alternate current radio network acr anoth...</td>\n",
              "    </tr>\n",
              "    <tr>\n",
              "      <th>39103</th>\n",
              "      <td>Federal Showdown Looms in Oregon After BLM Abu...</td>\n",
              "      <td>21st Century Wire says A new front has just op...</td>\n",
              "      <td>1</td>\n",
              "      <td>century wire says new front opened long battle...</td>\n",
              "    </tr>\n",
              "    <tr>\n",
              "      <th>39104</th>\n",
              "      <td>A Troubled King: Chicago’s Rahm Emanuel Desper...</td>\n",
              "      <td>21st Century Wire says It s not that far away....</td>\n",
              "      <td>1</td>\n",
              "      <td>century wire says far away guess wants run pre...</td>\n",
              "    </tr>\n",
              "  </tbody>\n",
              "</table>\n",
              "<p>39105 rows × 4 columns</p>\n",
              "</div>\n",
              "      <button class=\"colab-df-convert\" onclick=\"convertToInteractive('df-e4e43edd-c19e-4ae2-8e4e-81454e3291ca')\"\n",
              "              title=\"Convert this dataframe to an interactive table.\"\n",
              "              style=\"display:none;\">\n",
              "        \n",
              "  <svg xmlns=\"http://www.w3.org/2000/svg\" height=\"24px\"viewBox=\"0 0 24 24\"\n",
              "       width=\"24px\">\n",
              "    <path d=\"M0 0h24v24H0V0z\" fill=\"none\"/>\n",
              "    <path d=\"M18.56 5.44l.94 2.06.94-2.06 2.06-.94-2.06-.94-.94-2.06-.94 2.06-2.06.94zm-11 1L8.5 8.5l.94-2.06 2.06-.94-2.06-.94L8.5 2.5l-.94 2.06-2.06.94zm10 10l.94 2.06.94-2.06 2.06-.94-2.06-.94-.94-2.06-.94 2.06-2.06.94z\"/><path d=\"M17.41 7.96l-1.37-1.37c-.4-.4-.92-.59-1.43-.59-.52 0-1.04.2-1.43.59L10.3 9.45l-7.72 7.72c-.78.78-.78 2.05 0 2.83L4 21.41c.39.39.9.59 1.41.59.51 0 1.02-.2 1.41-.59l7.78-7.78 2.81-2.81c.8-.78.8-2.07 0-2.86zM5.41 20L4 18.59l7.72-7.72 1.47 1.35L5.41 20z\"/>\n",
              "  </svg>\n",
              "      </button>\n",
              "      \n",
              "  <style>\n",
              "    .colab-df-container {\n",
              "      display:flex;\n",
              "      flex-wrap:wrap;\n",
              "      gap: 12px;\n",
              "    }\n",
              "\n",
              "    .colab-df-convert {\n",
              "      background-color: #E8F0FE;\n",
              "      border: none;\n",
              "      border-radius: 50%;\n",
              "      cursor: pointer;\n",
              "      display: none;\n",
              "      fill: #1967D2;\n",
              "      height: 32px;\n",
              "      padding: 0 0 0 0;\n",
              "      width: 32px;\n",
              "    }\n",
              "\n",
              "    .colab-df-convert:hover {\n",
              "      background-color: #E2EBFA;\n",
              "      box-shadow: 0px 1px 2px rgba(60, 64, 67, 0.3), 0px 1px 3px 1px rgba(60, 64, 67, 0.15);\n",
              "      fill: #174EA6;\n",
              "    }\n",
              "\n",
              "    [theme=dark] .colab-df-convert {\n",
              "      background-color: #3B4455;\n",
              "      fill: #D2E3FC;\n",
              "    }\n",
              "\n",
              "    [theme=dark] .colab-df-convert:hover {\n",
              "      background-color: #434B5C;\n",
              "      box-shadow: 0px 1px 3px 1px rgba(0, 0, 0, 0.15);\n",
              "      filter: drop-shadow(0px 1px 2px rgba(0, 0, 0, 0.3));\n",
              "      fill: #FFFFFF;\n",
              "    }\n",
              "  </style>\n",
              "\n",
              "      <script>\n",
              "        const buttonEl =\n",
              "          document.querySelector('#df-e4e43edd-c19e-4ae2-8e4e-81454e3291ca button.colab-df-convert');\n",
              "        buttonEl.style.display =\n",
              "          google.colab.kernel.accessAllowed ? 'block' : 'none';\n",
              "\n",
              "        async function convertToInteractive(key) {\n",
              "          const element = document.querySelector('#df-e4e43edd-c19e-4ae2-8e4e-81454e3291ca');\n",
              "          const dataTable =\n",
              "            await google.colab.kernel.invokeFunction('convertToInteractive',\n",
              "                                                     [key], {});\n",
              "          if (!dataTable) return;\n",
              "\n",
              "          const docLinkHtml = 'Like what you see? Visit the ' +\n",
              "            '<a target=\"_blank\" href=https://colab.research.google.com/notebooks/data_table.ipynb>data table notebook</a>'\n",
              "            + ' to learn more about interactive tables.';\n",
              "          element.innerHTML = '';\n",
              "          dataTable['output_type'] = 'display_data';\n",
              "          await google.colab.output.renderOutput(dataTable, element);\n",
              "          const docLink = document.createElement('div');\n",
              "          docLink.innerHTML = docLinkHtml;\n",
              "          element.appendChild(docLink);\n",
              "        }\n",
              "      </script>\n",
              "    </div>\n",
              "  </div>\n",
              "  "
            ]
          },
          "metadata": {},
          "execution_count": 27
        }
      ]
    },
    {
      "cell_type": "code",
      "source": [
        "# cek empty value atau missing value pada column \"text_cleaned\"\n",
        "df_cleaned.loc[(df_cleaned['text_cleaned'].isna()) | (df_cleaned['text_cleaned'] == \"\")]"
      ],
      "metadata": {
        "id": "BmoatctDCQ3I",
        "colab": {
          "base_uri": "https://localhost:8080/",
          "height": 363
        },
        "outputId": "4b040cf8-bf7b-43ee-dea6-f31a4647b905"
      },
      "execution_count": null,
      "outputs": [
        {
          "output_type": "execute_result",
          "data": {
            "text/plain": [
              "                                                   title  \\\n",
              "30555  https://100percentfedup.com/served-roy-moore-v...   \n",
              "33378  TUCKER CARLSON DESTROYS Smug Elector Who Refus...   \n",
              "33447  THE VIEW’S Whoopi Goldberg To Co-Host: “This I...   \n",
              "33460  BREAKING: MITT ROMNEY Speaks To Reporters Foll...   \n",
              "33510  WOW! Leftist Bully ROSIE O’DONNELL PUSHES Horr...   \n",
              "33523  COMEDIAN TIM ALLEN On Hollywood Hypocrites: Th...   \n",
              "33597  TRUMP SUPPORTER Whose Brutal Beating By Black ...   \n",
              "36643  (VIDEO) BRAVO! TV HOST SCORCHES OBAMA FOR HIS ...   \n",
              "36701  https://100percentfedup.com/video-hillary-aske...   \n",
              "36702  https://100percentfedup.com/12-yr-old-black-co...   \n",
              "\n",
              "                                                    text  label text_cleaned  \n",
              "30555  https://100percentfedup.com/served-roy-moore-v...      1          NaN  \n",
              "33378                       https://youtu.be/7oOhwHG2Gb4      1          NaN  \n",
              "33447                       https://youtu.be/RTuxvWjH3a4      1          NaN  \n",
              "33460                       https://youtu.be/Ai5ayloRa-0      1          NaN  \n",
              "33510  https://twitter.com/Rosie/status/8009393386158...      1          NaN  \n",
              "33523                       https://youtu.be/0J4xPRYbsLU      1          NaN  \n",
              "33597                       https://youtu.be/kKFQ5i9jXmA      1          NaN  \n",
              "36643                                      I VE HAD IT!       1          NaN  \n",
              "36701  https://100percentfedup.com/video-hillary-aske...      1          NaN  \n",
              "36702  https://100percentfedup.com/12-yr-old-black-co...      1          NaN  "
            ],
            "text/html": [
              "\n",
              "  <div id=\"df-e760de96-8022-44c9-905b-8069cff30dbc\">\n",
              "    <div class=\"colab-df-container\">\n",
              "      <div>\n",
              "<style scoped>\n",
              "    .dataframe tbody tr th:only-of-type {\n",
              "        vertical-align: middle;\n",
              "    }\n",
              "\n",
              "    .dataframe tbody tr th {\n",
              "        vertical-align: top;\n",
              "    }\n",
              "\n",
              "    .dataframe thead th {\n",
              "        text-align: right;\n",
              "    }\n",
              "</style>\n",
              "<table border=\"1\" class=\"dataframe\">\n",
              "  <thead>\n",
              "    <tr style=\"text-align: right;\">\n",
              "      <th></th>\n",
              "      <th>title</th>\n",
              "      <th>text</th>\n",
              "      <th>label</th>\n",
              "      <th>text_cleaned</th>\n",
              "    </tr>\n",
              "  </thead>\n",
              "  <tbody>\n",
              "    <tr>\n",
              "      <th>30555</th>\n",
              "      <td>https://100percentfedup.com/served-roy-moore-v...</td>\n",
              "      <td>https://100percentfedup.com/served-roy-moore-v...</td>\n",
              "      <td>1</td>\n",
              "      <td>NaN</td>\n",
              "    </tr>\n",
              "    <tr>\n",
              "      <th>33378</th>\n",
              "      <td>TUCKER CARLSON DESTROYS Smug Elector Who Refus...</td>\n",
              "      <td>https://youtu.be/7oOhwHG2Gb4</td>\n",
              "      <td>1</td>\n",
              "      <td>NaN</td>\n",
              "    </tr>\n",
              "    <tr>\n",
              "      <th>33447</th>\n",
              "      <td>THE VIEW’S Whoopi Goldberg To Co-Host: “This I...</td>\n",
              "      <td>https://youtu.be/RTuxvWjH3a4</td>\n",
              "      <td>1</td>\n",
              "      <td>NaN</td>\n",
              "    </tr>\n",
              "    <tr>\n",
              "      <th>33460</th>\n",
              "      <td>BREAKING: MITT ROMNEY Speaks To Reporters Foll...</td>\n",
              "      <td>https://youtu.be/Ai5ayloRa-0</td>\n",
              "      <td>1</td>\n",
              "      <td>NaN</td>\n",
              "    </tr>\n",
              "    <tr>\n",
              "      <th>33510</th>\n",
              "      <td>WOW! Leftist Bully ROSIE O’DONNELL PUSHES Horr...</td>\n",
              "      <td>https://twitter.com/Rosie/status/8009393386158...</td>\n",
              "      <td>1</td>\n",
              "      <td>NaN</td>\n",
              "    </tr>\n",
              "    <tr>\n",
              "      <th>33523</th>\n",
              "      <td>COMEDIAN TIM ALLEN On Hollywood Hypocrites: Th...</td>\n",
              "      <td>https://youtu.be/0J4xPRYbsLU</td>\n",
              "      <td>1</td>\n",
              "      <td>NaN</td>\n",
              "    </tr>\n",
              "    <tr>\n",
              "      <th>33597</th>\n",
              "      <td>TRUMP SUPPORTER Whose Brutal Beating By Black ...</td>\n",
              "      <td>https://youtu.be/kKFQ5i9jXmA</td>\n",
              "      <td>1</td>\n",
              "      <td>NaN</td>\n",
              "    </tr>\n",
              "    <tr>\n",
              "      <th>36643</th>\n",
              "      <td>(VIDEO) BRAVO! TV HOST SCORCHES OBAMA FOR HIS ...</td>\n",
              "      <td>I VE HAD IT!</td>\n",
              "      <td>1</td>\n",
              "      <td>NaN</td>\n",
              "    </tr>\n",
              "    <tr>\n",
              "      <th>36701</th>\n",
              "      <td>https://100percentfedup.com/video-hillary-aske...</td>\n",
              "      <td>https://100percentfedup.com/video-hillary-aske...</td>\n",
              "      <td>1</td>\n",
              "      <td>NaN</td>\n",
              "    </tr>\n",
              "    <tr>\n",
              "      <th>36702</th>\n",
              "      <td>https://100percentfedup.com/12-yr-old-black-co...</td>\n",
              "      <td>https://100percentfedup.com/12-yr-old-black-co...</td>\n",
              "      <td>1</td>\n",
              "      <td>NaN</td>\n",
              "    </tr>\n",
              "  </tbody>\n",
              "</table>\n",
              "</div>\n",
              "      <button class=\"colab-df-convert\" onclick=\"convertToInteractive('df-e760de96-8022-44c9-905b-8069cff30dbc')\"\n",
              "              title=\"Convert this dataframe to an interactive table.\"\n",
              "              style=\"display:none;\">\n",
              "        \n",
              "  <svg xmlns=\"http://www.w3.org/2000/svg\" height=\"24px\"viewBox=\"0 0 24 24\"\n",
              "       width=\"24px\">\n",
              "    <path d=\"M0 0h24v24H0V0z\" fill=\"none\"/>\n",
              "    <path d=\"M18.56 5.44l.94 2.06.94-2.06 2.06-.94-2.06-.94-.94-2.06-.94 2.06-2.06.94zm-11 1L8.5 8.5l.94-2.06 2.06-.94-2.06-.94L8.5 2.5l-.94 2.06-2.06.94zm10 10l.94 2.06.94-2.06 2.06-.94-2.06-.94-.94-2.06-.94 2.06-2.06.94z\"/><path d=\"M17.41 7.96l-1.37-1.37c-.4-.4-.92-.59-1.43-.59-.52 0-1.04.2-1.43.59L10.3 9.45l-7.72 7.72c-.78.78-.78 2.05 0 2.83L4 21.41c.39.39.9.59 1.41.59.51 0 1.02-.2 1.41-.59l7.78-7.78 2.81-2.81c.8-.78.8-2.07 0-2.86zM5.41 20L4 18.59l7.72-7.72 1.47 1.35L5.41 20z\"/>\n",
              "  </svg>\n",
              "      </button>\n",
              "      \n",
              "  <style>\n",
              "    .colab-df-container {\n",
              "      display:flex;\n",
              "      flex-wrap:wrap;\n",
              "      gap: 12px;\n",
              "    }\n",
              "\n",
              "    .colab-df-convert {\n",
              "      background-color: #E8F0FE;\n",
              "      border: none;\n",
              "      border-radius: 50%;\n",
              "      cursor: pointer;\n",
              "      display: none;\n",
              "      fill: #1967D2;\n",
              "      height: 32px;\n",
              "      padding: 0 0 0 0;\n",
              "      width: 32px;\n",
              "    }\n",
              "\n",
              "    .colab-df-convert:hover {\n",
              "      background-color: #E2EBFA;\n",
              "      box-shadow: 0px 1px 2px rgba(60, 64, 67, 0.3), 0px 1px 3px 1px rgba(60, 64, 67, 0.15);\n",
              "      fill: #174EA6;\n",
              "    }\n",
              "\n",
              "    [theme=dark] .colab-df-convert {\n",
              "      background-color: #3B4455;\n",
              "      fill: #D2E3FC;\n",
              "    }\n",
              "\n",
              "    [theme=dark] .colab-df-convert:hover {\n",
              "      background-color: #434B5C;\n",
              "      box-shadow: 0px 1px 3px 1px rgba(0, 0, 0, 0.15);\n",
              "      filter: drop-shadow(0px 1px 2px rgba(0, 0, 0, 0.3));\n",
              "      fill: #FFFFFF;\n",
              "    }\n",
              "  </style>\n",
              "\n",
              "      <script>\n",
              "        const buttonEl =\n",
              "          document.querySelector('#df-e760de96-8022-44c9-905b-8069cff30dbc button.colab-df-convert');\n",
              "        buttonEl.style.display =\n",
              "          google.colab.kernel.accessAllowed ? 'block' : 'none';\n",
              "\n",
              "        async function convertToInteractive(key) {\n",
              "          const element = document.querySelector('#df-e760de96-8022-44c9-905b-8069cff30dbc');\n",
              "          const dataTable =\n",
              "            await google.colab.kernel.invokeFunction('convertToInteractive',\n",
              "                                                     [key], {});\n",
              "          if (!dataTable) return;\n",
              "\n",
              "          const docLinkHtml = 'Like what you see? Visit the ' +\n",
              "            '<a target=\"_blank\" href=https://colab.research.google.com/notebooks/data_table.ipynb>data table notebook</a>'\n",
              "            + ' to learn more about interactive tables.';\n",
              "          element.innerHTML = '';\n",
              "          dataTable['output_type'] = 'display_data';\n",
              "          await google.colab.output.renderOutput(dataTable, element);\n",
              "          const docLink = document.createElement('div');\n",
              "          docLink.innerHTML = docLinkHtml;\n",
              "          element.appendChild(docLink);\n",
              "        }\n",
              "      </script>\n",
              "    </div>\n",
              "  </div>\n",
              "  "
            ]
          },
          "metadata": {},
          "execution_count": 28
        }
      ]
    },
    {
      "cell_type": "code",
      "source": [
        "# ambil data yg memiliki empty value atau missing value pada \"text_cleaned\"\n",
        "df_empty_text = df_cleaned.loc[(df_cleaned['text_cleaned'].isna()) | (df_cleaned['text_cleaned'] == \"\")]\n",
        "df_empty_text"
      ],
      "metadata": {
        "colab": {
          "base_uri": "https://localhost:8080/",
          "height": 363
        },
        "id": "b2zpsOJGeDsC",
        "outputId": "5e0d9bb5-d9fd-4eeb-a169-b168a3289ca1"
      },
      "execution_count": null,
      "outputs": [
        {
          "output_type": "execute_result",
          "data": {
            "text/plain": [
              "                                                   title  \\\n",
              "30555  https://100percentfedup.com/served-roy-moore-v...   \n",
              "33378  TUCKER CARLSON DESTROYS Smug Elector Who Refus...   \n",
              "33447  THE VIEW’S Whoopi Goldberg To Co-Host: “This I...   \n",
              "33460  BREAKING: MITT ROMNEY Speaks To Reporters Foll...   \n",
              "33510  WOW! Leftist Bully ROSIE O’DONNELL PUSHES Horr...   \n",
              "33523  COMEDIAN TIM ALLEN On Hollywood Hypocrites: Th...   \n",
              "33597  TRUMP SUPPORTER Whose Brutal Beating By Black ...   \n",
              "36643  (VIDEO) BRAVO! TV HOST SCORCHES OBAMA FOR HIS ...   \n",
              "36701  https://100percentfedup.com/video-hillary-aske...   \n",
              "36702  https://100percentfedup.com/12-yr-old-black-co...   \n",
              "\n",
              "                                                    text  label text_cleaned  \n",
              "30555  https://100percentfedup.com/served-roy-moore-v...      1          NaN  \n",
              "33378                       https://youtu.be/7oOhwHG2Gb4      1          NaN  \n",
              "33447                       https://youtu.be/RTuxvWjH3a4      1          NaN  \n",
              "33460                       https://youtu.be/Ai5ayloRa-0      1          NaN  \n",
              "33510  https://twitter.com/Rosie/status/8009393386158...      1          NaN  \n",
              "33523                       https://youtu.be/0J4xPRYbsLU      1          NaN  \n",
              "33597                       https://youtu.be/kKFQ5i9jXmA      1          NaN  \n",
              "36643                                      I VE HAD IT!       1          NaN  \n",
              "36701  https://100percentfedup.com/video-hillary-aske...      1          NaN  \n",
              "36702  https://100percentfedup.com/12-yr-old-black-co...      1          NaN  "
            ],
            "text/html": [
              "\n",
              "  <div id=\"df-2625b2c6-9db3-48a3-8bd9-353b091e4605\">\n",
              "    <div class=\"colab-df-container\">\n",
              "      <div>\n",
              "<style scoped>\n",
              "    .dataframe tbody tr th:only-of-type {\n",
              "        vertical-align: middle;\n",
              "    }\n",
              "\n",
              "    .dataframe tbody tr th {\n",
              "        vertical-align: top;\n",
              "    }\n",
              "\n",
              "    .dataframe thead th {\n",
              "        text-align: right;\n",
              "    }\n",
              "</style>\n",
              "<table border=\"1\" class=\"dataframe\">\n",
              "  <thead>\n",
              "    <tr style=\"text-align: right;\">\n",
              "      <th></th>\n",
              "      <th>title</th>\n",
              "      <th>text</th>\n",
              "      <th>label</th>\n",
              "      <th>text_cleaned</th>\n",
              "    </tr>\n",
              "  </thead>\n",
              "  <tbody>\n",
              "    <tr>\n",
              "      <th>30555</th>\n",
              "      <td>https://100percentfedup.com/served-roy-moore-v...</td>\n",
              "      <td>https://100percentfedup.com/served-roy-moore-v...</td>\n",
              "      <td>1</td>\n",
              "      <td>NaN</td>\n",
              "    </tr>\n",
              "    <tr>\n",
              "      <th>33378</th>\n",
              "      <td>TUCKER CARLSON DESTROYS Smug Elector Who Refus...</td>\n",
              "      <td>https://youtu.be/7oOhwHG2Gb4</td>\n",
              "      <td>1</td>\n",
              "      <td>NaN</td>\n",
              "    </tr>\n",
              "    <tr>\n",
              "      <th>33447</th>\n",
              "      <td>THE VIEW’S Whoopi Goldberg To Co-Host: “This I...</td>\n",
              "      <td>https://youtu.be/RTuxvWjH3a4</td>\n",
              "      <td>1</td>\n",
              "      <td>NaN</td>\n",
              "    </tr>\n",
              "    <tr>\n",
              "      <th>33460</th>\n",
              "      <td>BREAKING: MITT ROMNEY Speaks To Reporters Foll...</td>\n",
              "      <td>https://youtu.be/Ai5ayloRa-0</td>\n",
              "      <td>1</td>\n",
              "      <td>NaN</td>\n",
              "    </tr>\n",
              "    <tr>\n",
              "      <th>33510</th>\n",
              "      <td>WOW! Leftist Bully ROSIE O’DONNELL PUSHES Horr...</td>\n",
              "      <td>https://twitter.com/Rosie/status/8009393386158...</td>\n",
              "      <td>1</td>\n",
              "      <td>NaN</td>\n",
              "    </tr>\n",
              "    <tr>\n",
              "      <th>33523</th>\n",
              "      <td>COMEDIAN TIM ALLEN On Hollywood Hypocrites: Th...</td>\n",
              "      <td>https://youtu.be/0J4xPRYbsLU</td>\n",
              "      <td>1</td>\n",
              "      <td>NaN</td>\n",
              "    </tr>\n",
              "    <tr>\n",
              "      <th>33597</th>\n",
              "      <td>TRUMP SUPPORTER Whose Brutal Beating By Black ...</td>\n",
              "      <td>https://youtu.be/kKFQ5i9jXmA</td>\n",
              "      <td>1</td>\n",
              "      <td>NaN</td>\n",
              "    </tr>\n",
              "    <tr>\n",
              "      <th>36643</th>\n",
              "      <td>(VIDEO) BRAVO! TV HOST SCORCHES OBAMA FOR HIS ...</td>\n",
              "      <td>I VE HAD IT!</td>\n",
              "      <td>1</td>\n",
              "      <td>NaN</td>\n",
              "    </tr>\n",
              "    <tr>\n",
              "      <th>36701</th>\n",
              "      <td>https://100percentfedup.com/video-hillary-aske...</td>\n",
              "      <td>https://100percentfedup.com/video-hillary-aske...</td>\n",
              "      <td>1</td>\n",
              "      <td>NaN</td>\n",
              "    </tr>\n",
              "    <tr>\n",
              "      <th>36702</th>\n",
              "      <td>https://100percentfedup.com/12-yr-old-black-co...</td>\n",
              "      <td>https://100percentfedup.com/12-yr-old-black-co...</td>\n",
              "      <td>1</td>\n",
              "      <td>NaN</td>\n",
              "    </tr>\n",
              "  </tbody>\n",
              "</table>\n",
              "</div>\n",
              "      <button class=\"colab-df-convert\" onclick=\"convertToInteractive('df-2625b2c6-9db3-48a3-8bd9-353b091e4605')\"\n",
              "              title=\"Convert this dataframe to an interactive table.\"\n",
              "              style=\"display:none;\">\n",
              "        \n",
              "  <svg xmlns=\"http://www.w3.org/2000/svg\" height=\"24px\"viewBox=\"0 0 24 24\"\n",
              "       width=\"24px\">\n",
              "    <path d=\"M0 0h24v24H0V0z\" fill=\"none\"/>\n",
              "    <path d=\"M18.56 5.44l.94 2.06.94-2.06 2.06-.94-2.06-.94-.94-2.06-.94 2.06-2.06.94zm-11 1L8.5 8.5l.94-2.06 2.06-.94-2.06-.94L8.5 2.5l-.94 2.06-2.06.94zm10 10l.94 2.06.94-2.06 2.06-.94-2.06-.94-.94-2.06-.94 2.06-2.06.94z\"/><path d=\"M17.41 7.96l-1.37-1.37c-.4-.4-.92-.59-1.43-.59-.52 0-1.04.2-1.43.59L10.3 9.45l-7.72 7.72c-.78.78-.78 2.05 0 2.83L4 21.41c.39.39.9.59 1.41.59.51 0 1.02-.2 1.41-.59l7.78-7.78 2.81-2.81c.8-.78.8-2.07 0-2.86zM5.41 20L4 18.59l7.72-7.72 1.47 1.35L5.41 20z\"/>\n",
              "  </svg>\n",
              "      </button>\n",
              "      \n",
              "  <style>\n",
              "    .colab-df-container {\n",
              "      display:flex;\n",
              "      flex-wrap:wrap;\n",
              "      gap: 12px;\n",
              "    }\n",
              "\n",
              "    .colab-df-convert {\n",
              "      background-color: #E8F0FE;\n",
              "      border: none;\n",
              "      border-radius: 50%;\n",
              "      cursor: pointer;\n",
              "      display: none;\n",
              "      fill: #1967D2;\n",
              "      height: 32px;\n",
              "      padding: 0 0 0 0;\n",
              "      width: 32px;\n",
              "    }\n",
              "\n",
              "    .colab-df-convert:hover {\n",
              "      background-color: #E2EBFA;\n",
              "      box-shadow: 0px 1px 2px rgba(60, 64, 67, 0.3), 0px 1px 3px 1px rgba(60, 64, 67, 0.15);\n",
              "      fill: #174EA6;\n",
              "    }\n",
              "\n",
              "    [theme=dark] .colab-df-convert {\n",
              "      background-color: #3B4455;\n",
              "      fill: #D2E3FC;\n",
              "    }\n",
              "\n",
              "    [theme=dark] .colab-df-convert:hover {\n",
              "      background-color: #434B5C;\n",
              "      box-shadow: 0px 1px 3px 1px rgba(0, 0, 0, 0.15);\n",
              "      filter: drop-shadow(0px 1px 2px rgba(0, 0, 0, 0.3));\n",
              "      fill: #FFFFFF;\n",
              "    }\n",
              "  </style>\n",
              "\n",
              "      <script>\n",
              "        const buttonEl =\n",
              "          document.querySelector('#df-2625b2c6-9db3-48a3-8bd9-353b091e4605 button.colab-df-convert');\n",
              "        buttonEl.style.display =\n",
              "          google.colab.kernel.accessAllowed ? 'block' : 'none';\n",
              "\n",
              "        async function convertToInteractive(key) {\n",
              "          const element = document.querySelector('#df-2625b2c6-9db3-48a3-8bd9-353b091e4605');\n",
              "          const dataTable =\n",
              "            await google.colab.kernel.invokeFunction('convertToInteractive',\n",
              "                                                     [key], {});\n",
              "          if (!dataTable) return;\n",
              "\n",
              "          const docLinkHtml = 'Like what you see? Visit the ' +\n",
              "            '<a target=\"_blank\" href=https://colab.research.google.com/notebooks/data_table.ipynb>data table notebook</a>'\n",
              "            + ' to learn more about interactive tables.';\n",
              "          element.innerHTML = '';\n",
              "          dataTable['output_type'] = 'display_data';\n",
              "          await google.colab.output.renderOutput(dataTable, element);\n",
              "          const docLink = document.createElement('div');\n",
              "          docLink.innerHTML = docLinkHtml;\n",
              "          element.appendChild(docLink);\n",
              "        }\n",
              "      </script>\n",
              "    </div>\n",
              "  </div>\n",
              "  "
            ]
          },
          "metadata": {},
          "execution_count": 29
        }
      ]
    },
    {
      "cell_type": "code",
      "source": [
        "# dapatkan list index dari data tambahan\n",
        "idx_df_empty_text = list(df_empty_text.index)\n",
        "idx_df_empty_text"
      ],
      "metadata": {
        "colab": {
          "base_uri": "https://localhost:8080/"
        },
        "id": "xlOmWOMdjUjL",
        "outputId": "4d34cd43-0485-4a01-bad5-cf19b0e496dc"
      },
      "execution_count": null,
      "outputs": [
        {
          "output_type": "execute_result",
          "data": {
            "text/plain": [
              "[30555, 33378, 33447, 33460, 33510, 33523, 33597, 36643, 36701, 36702]"
            ]
          },
          "metadata": {},
          "execution_count": 30
        }
      ]
    },
    {
      "cell_type": "code",
      "source": [
        "# fill empty value atau missing value pada column \"text_cleaned\" dengan value pada column \"title\"\n",
        "# dengan syarat value pada column \"title\" bukanlah url\n",
        "for idx, title in zip(list(df_empty_text.index), df_empty_text.loc[:, 'title']):\n",
        "  if not re.search(r'https?:\\/\\/.*\\/\\w*', title):\n",
        "    # isi dengan value dari column \"title\"\n",
        "    df_empty_text.loc[idx, 'text_cleaned'] = df_empty_text.loc[idx, 'title']\n",
        "  else:\n",
        "    # jika value pada column \"title\" berupa url, maka drop row tersebut\n",
        "    df_empty_text.drop(index=[idx], axis=0, inplace=True)"
      ],
      "metadata": {
        "id": "Nm260Zsjh556"
      },
      "execution_count": null,
      "outputs": []
    },
    {
      "cell_type": "code",
      "source": [
        "# data preview\n",
        "df_empty_text"
      ],
      "metadata": {
        "colab": {
          "base_uri": "https://localhost:8080/",
          "height": 313
        },
        "id": "Yd4ef4Q5Qbyi",
        "outputId": "0da83de1-6b6c-414c-9897-c9693c812099"
      },
      "execution_count": null,
      "outputs": [
        {
          "output_type": "execute_result",
          "data": {
            "text/plain": [
              "                                                   title  \\\n",
              "33378  TUCKER CARLSON DESTROYS Smug Elector Who Refus...   \n",
              "33447  THE VIEW’S Whoopi Goldberg To Co-Host: “This I...   \n",
              "33460  BREAKING: MITT ROMNEY Speaks To Reporters Foll...   \n",
              "33510  WOW! Leftist Bully ROSIE O’DONNELL PUSHES Horr...   \n",
              "33523  COMEDIAN TIM ALLEN On Hollywood Hypocrites: Th...   \n",
              "33597  TRUMP SUPPORTER Whose Brutal Beating By Black ...   \n",
              "36643  (VIDEO) BRAVO! TV HOST SCORCHES OBAMA FOR HIS ...   \n",
              "\n",
              "                                                    text  label  \\\n",
              "33378                       https://youtu.be/7oOhwHG2Gb4      1   \n",
              "33447                       https://youtu.be/RTuxvWjH3a4      1   \n",
              "33460                       https://youtu.be/Ai5ayloRa-0      1   \n",
              "33510  https://twitter.com/Rosie/status/8009393386158...      1   \n",
              "33523                       https://youtu.be/0J4xPRYbsLU      1   \n",
              "33597                       https://youtu.be/kKFQ5i9jXmA      1   \n",
              "36643                                      I VE HAD IT!       1   \n",
              "\n",
              "                                            text_cleaned  \n",
              "33378  TUCKER CARLSON DESTROYS Smug Elector Who Refus...  \n",
              "33447  THE VIEW’S Whoopi Goldberg To Co-Host: “This I...  \n",
              "33460  BREAKING: MITT ROMNEY Speaks To Reporters Foll...  \n",
              "33510  WOW! Leftist Bully ROSIE O’DONNELL PUSHES Horr...  \n",
              "33523  COMEDIAN TIM ALLEN On Hollywood Hypocrites: Th...  \n",
              "33597  TRUMP SUPPORTER Whose Brutal Beating By Black ...  \n",
              "36643  (VIDEO) BRAVO! TV HOST SCORCHES OBAMA FOR HIS ...  "
            ],
            "text/html": [
              "\n",
              "  <div id=\"df-9cad5fe4-eb23-4599-b9eb-489822512b5b\">\n",
              "    <div class=\"colab-df-container\">\n",
              "      <div>\n",
              "<style scoped>\n",
              "    .dataframe tbody tr th:only-of-type {\n",
              "        vertical-align: middle;\n",
              "    }\n",
              "\n",
              "    .dataframe tbody tr th {\n",
              "        vertical-align: top;\n",
              "    }\n",
              "\n",
              "    .dataframe thead th {\n",
              "        text-align: right;\n",
              "    }\n",
              "</style>\n",
              "<table border=\"1\" class=\"dataframe\">\n",
              "  <thead>\n",
              "    <tr style=\"text-align: right;\">\n",
              "      <th></th>\n",
              "      <th>title</th>\n",
              "      <th>text</th>\n",
              "      <th>label</th>\n",
              "      <th>text_cleaned</th>\n",
              "    </tr>\n",
              "  </thead>\n",
              "  <tbody>\n",
              "    <tr>\n",
              "      <th>33378</th>\n",
              "      <td>TUCKER CARLSON DESTROYS Smug Elector Who Refus...</td>\n",
              "      <td>https://youtu.be/7oOhwHG2Gb4</td>\n",
              "      <td>1</td>\n",
              "      <td>TUCKER CARLSON DESTROYS Smug Elector Who Refus...</td>\n",
              "    </tr>\n",
              "    <tr>\n",
              "      <th>33447</th>\n",
              "      <td>THE VIEW’S Whoopi Goldberg To Co-Host: “This I...</td>\n",
              "      <td>https://youtu.be/RTuxvWjH3a4</td>\n",
              "      <td>1</td>\n",
              "      <td>THE VIEW’S Whoopi Goldberg To Co-Host: “This I...</td>\n",
              "    </tr>\n",
              "    <tr>\n",
              "      <th>33460</th>\n",
              "      <td>BREAKING: MITT ROMNEY Speaks To Reporters Foll...</td>\n",
              "      <td>https://youtu.be/Ai5ayloRa-0</td>\n",
              "      <td>1</td>\n",
              "      <td>BREAKING: MITT ROMNEY Speaks To Reporters Foll...</td>\n",
              "    </tr>\n",
              "    <tr>\n",
              "      <th>33510</th>\n",
              "      <td>WOW! Leftist Bully ROSIE O’DONNELL PUSHES Horr...</td>\n",
              "      <td>https://twitter.com/Rosie/status/8009393386158...</td>\n",
              "      <td>1</td>\n",
              "      <td>WOW! Leftist Bully ROSIE O’DONNELL PUSHES Horr...</td>\n",
              "    </tr>\n",
              "    <tr>\n",
              "      <th>33523</th>\n",
              "      <td>COMEDIAN TIM ALLEN On Hollywood Hypocrites: Th...</td>\n",
              "      <td>https://youtu.be/0J4xPRYbsLU</td>\n",
              "      <td>1</td>\n",
              "      <td>COMEDIAN TIM ALLEN On Hollywood Hypocrites: Th...</td>\n",
              "    </tr>\n",
              "    <tr>\n",
              "      <th>33597</th>\n",
              "      <td>TRUMP SUPPORTER Whose Brutal Beating By Black ...</td>\n",
              "      <td>https://youtu.be/kKFQ5i9jXmA</td>\n",
              "      <td>1</td>\n",
              "      <td>TRUMP SUPPORTER Whose Brutal Beating By Black ...</td>\n",
              "    </tr>\n",
              "    <tr>\n",
              "      <th>36643</th>\n",
              "      <td>(VIDEO) BRAVO! TV HOST SCORCHES OBAMA FOR HIS ...</td>\n",
              "      <td>I VE HAD IT!</td>\n",
              "      <td>1</td>\n",
              "      <td>(VIDEO) BRAVO! TV HOST SCORCHES OBAMA FOR HIS ...</td>\n",
              "    </tr>\n",
              "  </tbody>\n",
              "</table>\n",
              "</div>\n",
              "      <button class=\"colab-df-convert\" onclick=\"convertToInteractive('df-9cad5fe4-eb23-4599-b9eb-489822512b5b')\"\n",
              "              title=\"Convert this dataframe to an interactive table.\"\n",
              "              style=\"display:none;\">\n",
              "        \n",
              "  <svg xmlns=\"http://www.w3.org/2000/svg\" height=\"24px\"viewBox=\"0 0 24 24\"\n",
              "       width=\"24px\">\n",
              "    <path d=\"M0 0h24v24H0V0z\" fill=\"none\"/>\n",
              "    <path d=\"M18.56 5.44l.94 2.06.94-2.06 2.06-.94-2.06-.94-.94-2.06-.94 2.06-2.06.94zm-11 1L8.5 8.5l.94-2.06 2.06-.94-2.06-.94L8.5 2.5l-.94 2.06-2.06.94zm10 10l.94 2.06.94-2.06 2.06-.94-2.06-.94-.94-2.06-.94 2.06-2.06.94z\"/><path d=\"M17.41 7.96l-1.37-1.37c-.4-.4-.92-.59-1.43-.59-.52 0-1.04.2-1.43.59L10.3 9.45l-7.72 7.72c-.78.78-.78 2.05 0 2.83L4 21.41c.39.39.9.59 1.41.59.51 0 1.02-.2 1.41-.59l7.78-7.78 2.81-2.81c.8-.78.8-2.07 0-2.86zM5.41 20L4 18.59l7.72-7.72 1.47 1.35L5.41 20z\"/>\n",
              "  </svg>\n",
              "      </button>\n",
              "      \n",
              "  <style>\n",
              "    .colab-df-container {\n",
              "      display:flex;\n",
              "      flex-wrap:wrap;\n",
              "      gap: 12px;\n",
              "    }\n",
              "\n",
              "    .colab-df-convert {\n",
              "      background-color: #E8F0FE;\n",
              "      border: none;\n",
              "      border-radius: 50%;\n",
              "      cursor: pointer;\n",
              "      display: none;\n",
              "      fill: #1967D2;\n",
              "      height: 32px;\n",
              "      padding: 0 0 0 0;\n",
              "      width: 32px;\n",
              "    }\n",
              "\n",
              "    .colab-df-convert:hover {\n",
              "      background-color: #E2EBFA;\n",
              "      box-shadow: 0px 1px 2px rgba(60, 64, 67, 0.3), 0px 1px 3px 1px rgba(60, 64, 67, 0.15);\n",
              "      fill: #174EA6;\n",
              "    }\n",
              "\n",
              "    [theme=dark] .colab-df-convert {\n",
              "      background-color: #3B4455;\n",
              "      fill: #D2E3FC;\n",
              "    }\n",
              "\n",
              "    [theme=dark] .colab-df-convert:hover {\n",
              "      background-color: #434B5C;\n",
              "      box-shadow: 0px 1px 3px 1px rgba(0, 0, 0, 0.15);\n",
              "      filter: drop-shadow(0px 1px 2px rgba(0, 0, 0, 0.3));\n",
              "      fill: #FFFFFF;\n",
              "    }\n",
              "  </style>\n",
              "\n",
              "      <script>\n",
              "        const buttonEl =\n",
              "          document.querySelector('#df-9cad5fe4-eb23-4599-b9eb-489822512b5b button.colab-df-convert');\n",
              "        buttonEl.style.display =\n",
              "          google.colab.kernel.accessAllowed ? 'block' : 'none';\n",
              "\n",
              "        async function convertToInteractive(key) {\n",
              "          const element = document.querySelector('#df-9cad5fe4-eb23-4599-b9eb-489822512b5b');\n",
              "          const dataTable =\n",
              "            await google.colab.kernel.invokeFunction('convertToInteractive',\n",
              "                                                     [key], {});\n",
              "          if (!dataTable) return;\n",
              "\n",
              "          const docLinkHtml = 'Like what you see? Visit the ' +\n",
              "            '<a target=\"_blank\" href=https://colab.research.google.com/notebooks/data_table.ipynb>data table notebook</a>'\n",
              "            + ' to learn more about interactive tables.';\n",
              "          element.innerHTML = '';\n",
              "          dataTable['output_type'] = 'display_data';\n",
              "          await google.colab.output.renderOutput(dataTable, element);\n",
              "          const docLink = document.createElement('div');\n",
              "          docLink.innerHTML = docLinkHtml;\n",
              "          element.appendChild(docLink);\n",
              "        }\n",
              "      </script>\n",
              "    </div>\n",
              "  </div>\n",
              "  "
            ]
          },
          "metadata": {},
          "execution_count": 32
        }
      ]
    },
    {
      "cell_type": "code",
      "source": [
        "# apply text preprocessing pada column \"text\" pada dataframe \"df_empty_text\"\n",
        "df_empty_text['text_cleaned'] = df_empty_text['text_cleaned'].apply(text_preprocessing)\n",
        "df_empty_text"
      ],
      "metadata": {
        "colab": {
          "base_uri": "https://localhost:8080/",
          "height": 269
        },
        "id": "bWRVc54msbCy",
        "outputId": "0a175627-5372-43fd-b31e-36f9c14dde6b"
      },
      "execution_count": null,
      "outputs": [
        {
          "output_type": "execute_result",
          "data": {
            "text/plain": [
              "                                                   title  \\\n",
              "33378  TUCKER CARLSON DESTROYS Smug Elector Who Refus...   \n",
              "33447  THE VIEW’S Whoopi Goldberg To Co-Host: “This I...   \n",
              "33460  BREAKING: MITT ROMNEY Speaks To Reporters Foll...   \n",
              "33510  WOW! Leftist Bully ROSIE O’DONNELL PUSHES Horr...   \n",
              "33523  COMEDIAN TIM ALLEN On Hollywood Hypocrites: Th...   \n",
              "33597  TRUMP SUPPORTER Whose Brutal Beating By Black ...   \n",
              "36643  (VIDEO) BRAVO! TV HOST SCORCHES OBAMA FOR HIS ...   \n",
              "\n",
              "                                                    text  label  \\\n",
              "33378                       https://youtu.be/7oOhwHG2Gb4      1   \n",
              "33447                       https://youtu.be/RTuxvWjH3a4      1   \n",
              "33460                       https://youtu.be/Ai5ayloRa-0      1   \n",
              "33510  https://twitter.com/Rosie/status/8009393386158...      1   \n",
              "33523                       https://youtu.be/0J4xPRYbsLU      1   \n",
              "33597                       https://youtu.be/kKFQ5i9jXmA      1   \n",
              "36643                                      I VE HAD IT!       1   \n",
              "\n",
              "                                            text_cleaned  \n",
              "33378  tucker carlson destroys smug elector refuses v...  \n",
              "33447  views whoopi goldberg host black people dont w...  \n",
              "33460  breaking mitt romney speaks reporters followin...  \n",
              "33510  wow leftist bully rosie odonnell pushes horrib...  \n",
              "33523  comedian tim allen hollywood hypocrites didnt ...  \n",
              "33597  trump supporter whose brutal beating black mob...  \n",
              "36643  video bravo host scorches obama response chatt...  "
            ],
            "text/html": [
              "\n",
              "  <div id=\"df-710eb03d-5dc2-41df-b9e4-de60a0b7bd4c\">\n",
              "    <div class=\"colab-df-container\">\n",
              "      <div>\n",
              "<style scoped>\n",
              "    .dataframe tbody tr th:only-of-type {\n",
              "        vertical-align: middle;\n",
              "    }\n",
              "\n",
              "    .dataframe tbody tr th {\n",
              "        vertical-align: top;\n",
              "    }\n",
              "\n",
              "    .dataframe thead th {\n",
              "        text-align: right;\n",
              "    }\n",
              "</style>\n",
              "<table border=\"1\" class=\"dataframe\">\n",
              "  <thead>\n",
              "    <tr style=\"text-align: right;\">\n",
              "      <th></th>\n",
              "      <th>title</th>\n",
              "      <th>text</th>\n",
              "      <th>label</th>\n",
              "      <th>text_cleaned</th>\n",
              "    </tr>\n",
              "  </thead>\n",
              "  <tbody>\n",
              "    <tr>\n",
              "      <th>33378</th>\n",
              "      <td>TUCKER CARLSON DESTROYS Smug Elector Who Refus...</td>\n",
              "      <td>https://youtu.be/7oOhwHG2Gb4</td>\n",
              "      <td>1</td>\n",
              "      <td>tucker carlson destroys smug elector refuses v...</td>\n",
              "    </tr>\n",
              "    <tr>\n",
              "      <th>33447</th>\n",
              "      <td>THE VIEW’S Whoopi Goldberg To Co-Host: “This I...</td>\n",
              "      <td>https://youtu.be/RTuxvWjH3a4</td>\n",
              "      <td>1</td>\n",
              "      <td>views whoopi goldberg host black people dont w...</td>\n",
              "    </tr>\n",
              "    <tr>\n",
              "      <th>33460</th>\n",
              "      <td>BREAKING: MITT ROMNEY Speaks To Reporters Foll...</td>\n",
              "      <td>https://youtu.be/Ai5ayloRa-0</td>\n",
              "      <td>1</td>\n",
              "      <td>breaking mitt romney speaks reporters followin...</td>\n",
              "    </tr>\n",
              "    <tr>\n",
              "      <th>33510</th>\n",
              "      <td>WOW! Leftist Bully ROSIE O’DONNELL PUSHES Horr...</td>\n",
              "      <td>https://twitter.com/Rosie/status/8009393386158...</td>\n",
              "      <td>1</td>\n",
              "      <td>wow leftist bully rosie odonnell pushes horrib...</td>\n",
              "    </tr>\n",
              "    <tr>\n",
              "      <th>33523</th>\n",
              "      <td>COMEDIAN TIM ALLEN On Hollywood Hypocrites: Th...</td>\n",
              "      <td>https://youtu.be/0J4xPRYbsLU</td>\n",
              "      <td>1</td>\n",
              "      <td>comedian tim allen hollywood hypocrites didnt ...</td>\n",
              "    </tr>\n",
              "    <tr>\n",
              "      <th>33597</th>\n",
              "      <td>TRUMP SUPPORTER Whose Brutal Beating By Black ...</td>\n",
              "      <td>https://youtu.be/kKFQ5i9jXmA</td>\n",
              "      <td>1</td>\n",
              "      <td>trump supporter whose brutal beating black mob...</td>\n",
              "    </tr>\n",
              "    <tr>\n",
              "      <th>36643</th>\n",
              "      <td>(VIDEO) BRAVO! TV HOST SCORCHES OBAMA FOR HIS ...</td>\n",
              "      <td>I VE HAD IT!</td>\n",
              "      <td>1</td>\n",
              "      <td>video bravo host scorches obama response chatt...</td>\n",
              "    </tr>\n",
              "  </tbody>\n",
              "</table>\n",
              "</div>\n",
              "      <button class=\"colab-df-convert\" onclick=\"convertToInteractive('df-710eb03d-5dc2-41df-b9e4-de60a0b7bd4c')\"\n",
              "              title=\"Convert this dataframe to an interactive table.\"\n",
              "              style=\"display:none;\">\n",
              "        \n",
              "  <svg xmlns=\"http://www.w3.org/2000/svg\" height=\"24px\"viewBox=\"0 0 24 24\"\n",
              "       width=\"24px\">\n",
              "    <path d=\"M0 0h24v24H0V0z\" fill=\"none\"/>\n",
              "    <path d=\"M18.56 5.44l.94 2.06.94-2.06 2.06-.94-2.06-.94-.94-2.06-.94 2.06-2.06.94zm-11 1L8.5 8.5l.94-2.06 2.06-.94-2.06-.94L8.5 2.5l-.94 2.06-2.06.94zm10 10l.94 2.06.94-2.06 2.06-.94-2.06-.94-.94-2.06-.94 2.06-2.06.94z\"/><path d=\"M17.41 7.96l-1.37-1.37c-.4-.4-.92-.59-1.43-.59-.52 0-1.04.2-1.43.59L10.3 9.45l-7.72 7.72c-.78.78-.78 2.05 0 2.83L4 21.41c.39.39.9.59 1.41.59.51 0 1.02-.2 1.41-.59l7.78-7.78 2.81-2.81c.8-.78.8-2.07 0-2.86zM5.41 20L4 18.59l7.72-7.72 1.47 1.35L5.41 20z\"/>\n",
              "  </svg>\n",
              "      </button>\n",
              "      \n",
              "  <style>\n",
              "    .colab-df-container {\n",
              "      display:flex;\n",
              "      flex-wrap:wrap;\n",
              "      gap: 12px;\n",
              "    }\n",
              "\n",
              "    .colab-df-convert {\n",
              "      background-color: #E8F0FE;\n",
              "      border: none;\n",
              "      border-radius: 50%;\n",
              "      cursor: pointer;\n",
              "      display: none;\n",
              "      fill: #1967D2;\n",
              "      height: 32px;\n",
              "      padding: 0 0 0 0;\n",
              "      width: 32px;\n",
              "    }\n",
              "\n",
              "    .colab-df-convert:hover {\n",
              "      background-color: #E2EBFA;\n",
              "      box-shadow: 0px 1px 2px rgba(60, 64, 67, 0.3), 0px 1px 3px 1px rgba(60, 64, 67, 0.15);\n",
              "      fill: #174EA6;\n",
              "    }\n",
              "\n",
              "    [theme=dark] .colab-df-convert {\n",
              "      background-color: #3B4455;\n",
              "      fill: #D2E3FC;\n",
              "    }\n",
              "\n",
              "    [theme=dark] .colab-df-convert:hover {\n",
              "      background-color: #434B5C;\n",
              "      box-shadow: 0px 1px 3px 1px rgba(0, 0, 0, 0.15);\n",
              "      filter: drop-shadow(0px 1px 2px rgba(0, 0, 0, 0.3));\n",
              "      fill: #FFFFFF;\n",
              "    }\n",
              "  </style>\n",
              "\n",
              "      <script>\n",
              "        const buttonEl =\n",
              "          document.querySelector('#df-710eb03d-5dc2-41df-b9e4-de60a0b7bd4c button.colab-df-convert');\n",
              "        buttonEl.style.display =\n",
              "          google.colab.kernel.accessAllowed ? 'block' : 'none';\n",
              "\n",
              "        async function convertToInteractive(key) {\n",
              "          const element = document.querySelector('#df-710eb03d-5dc2-41df-b9e4-de60a0b7bd4c');\n",
              "          const dataTable =\n",
              "            await google.colab.kernel.invokeFunction('convertToInteractive',\n",
              "                                                     [key], {});\n",
              "          if (!dataTable) return;\n",
              "\n",
              "          const docLinkHtml = 'Like what you see? Visit the ' +\n",
              "            '<a target=\"_blank\" href=https://colab.research.google.com/notebooks/data_table.ipynb>data table notebook</a>'\n",
              "            + ' to learn more about interactive tables.';\n",
              "          element.innerHTML = '';\n",
              "          dataTable['output_type'] = 'display_data';\n",
              "          await google.colab.output.renderOutput(dataTable, element);\n",
              "          const docLink = document.createElement('div');\n",
              "          docLink.innerHTML = docLinkHtml;\n",
              "          element.appendChild(docLink);\n",
              "        }\n",
              "      </script>\n",
              "    </div>\n",
              "  </div>\n",
              "  "
            ]
          },
          "metadata": {},
          "execution_count": 33
        }
      ]
    },
    {
      "cell_type": "code",
      "source": [
        "# drop data tambahan pada dataframe utama\n",
        "# dilakukan karena nilai pada index tersebut akan digantikan dengan data tambahan yg sudah di-cleansing\n",
        "df_cleaned.drop(index=idx_df_empty_text, axis=0, inplace=True)"
      ],
      "metadata": {
        "id": "wAGH-AVji-sa"
      },
      "execution_count": null,
      "outputs": []
    },
    {
      "cell_type": "code",
      "source": [
        "# gabungkan data pada dataframe utama dengan data tambahan\n",
        "df_cleaned = pd.concat([df_empty_text, df_cleaned], axis=0)\n",
        "df_cleaned.reset_index(drop=True, inplace=True)\n",
        "df_cleaned"
      ],
      "metadata": {
        "colab": {
          "base_uri": "https://localhost:8080/",
          "height": 424
        },
        "id": "8eGR3pqcjIMy",
        "outputId": "161111d3-bdc6-4ff1-ad62-a696670cfc35"
      },
      "execution_count": null,
      "outputs": [
        {
          "output_type": "execute_result",
          "data": {
            "text/plain": [
              "                                                   title  \\\n",
              "0      TUCKER CARLSON DESTROYS Smug Elector Who Refus...   \n",
              "1      THE VIEW’S Whoopi Goldberg To Co-Host: “This I...   \n",
              "2      BREAKING: MITT ROMNEY Speaks To Reporters Foll...   \n",
              "3      WOW! Leftist Bully ROSIE O’DONNELL PUSHES Horr...   \n",
              "4      COMEDIAN TIM ALLEN On Hollywood Hypocrites: Th...   \n",
              "...                                                  ...   \n",
              "39097  The White House and The Theatrics of ‘Gun Cont...   \n",
              "39098  Activists or Terrorists? How Media Controls an...   \n",
              "39099  BOILER ROOM – No Surrender, No Retreat, Heads ...   \n",
              "39100  Federal Showdown Looms in Oregon After BLM Abu...   \n",
              "39101  A Troubled King: Chicago’s Rahm Emanuel Desper...   \n",
              "\n",
              "                                                    text  label  \\\n",
              "0                           https://youtu.be/7oOhwHG2Gb4      1   \n",
              "1                           https://youtu.be/RTuxvWjH3a4      1   \n",
              "2                           https://youtu.be/Ai5ayloRa-0      1   \n",
              "3      https://twitter.com/Rosie/status/8009393386158...      1   \n",
              "4                           https://youtu.be/0J4xPRYbsLU      1   \n",
              "...                                                  ...    ...   \n",
              "39097  21st Century Wire says All the world s a stage...      1   \n",
              "39098    Randy Johnson 21st Century WireThe majority ...      1   \n",
              "39099  Tune in to the Alternate Current Radio Network...      1   \n",
              "39100  21st Century Wire says A new front has just op...      1   \n",
              "39101  21st Century Wire says It s not that far away....      1   \n",
              "\n",
              "                                            text_cleaned  \n",
              "0      tucker carlson destroys smug elector refuses v...  \n",
              "1      views whoopi goldberg host black people dont w...  \n",
              "2      breaking mitt romney speaks reporters followin...  \n",
              "3      wow leftist bully rosie odonnell pushes horrib...  \n",
              "4      comedian tim allen hollywood hypocrites didnt ...  \n",
              "...                                                  ...  \n",
              "39097  century wire says world stage men women merely...  \n",
              "39098  randy johnson century wirethe majority mainstr...  \n",
              "39099  tune alternate current radio network acr anoth...  \n",
              "39100  century wire says new front opened long battle...  \n",
              "39101  century wire says far away guess wants run pre...  \n",
              "\n",
              "[39102 rows x 4 columns]"
            ],
            "text/html": [
              "\n",
              "  <div id=\"df-e2d61b99-79e8-4991-859d-10ab60bd33f2\">\n",
              "    <div class=\"colab-df-container\">\n",
              "      <div>\n",
              "<style scoped>\n",
              "    .dataframe tbody tr th:only-of-type {\n",
              "        vertical-align: middle;\n",
              "    }\n",
              "\n",
              "    .dataframe tbody tr th {\n",
              "        vertical-align: top;\n",
              "    }\n",
              "\n",
              "    .dataframe thead th {\n",
              "        text-align: right;\n",
              "    }\n",
              "</style>\n",
              "<table border=\"1\" class=\"dataframe\">\n",
              "  <thead>\n",
              "    <tr style=\"text-align: right;\">\n",
              "      <th></th>\n",
              "      <th>title</th>\n",
              "      <th>text</th>\n",
              "      <th>label</th>\n",
              "      <th>text_cleaned</th>\n",
              "    </tr>\n",
              "  </thead>\n",
              "  <tbody>\n",
              "    <tr>\n",
              "      <th>0</th>\n",
              "      <td>TUCKER CARLSON DESTROYS Smug Elector Who Refus...</td>\n",
              "      <td>https://youtu.be/7oOhwHG2Gb4</td>\n",
              "      <td>1</td>\n",
              "      <td>tucker carlson destroys smug elector refuses v...</td>\n",
              "    </tr>\n",
              "    <tr>\n",
              "      <th>1</th>\n",
              "      <td>THE VIEW’S Whoopi Goldberg To Co-Host: “This I...</td>\n",
              "      <td>https://youtu.be/RTuxvWjH3a4</td>\n",
              "      <td>1</td>\n",
              "      <td>views whoopi goldberg host black people dont w...</td>\n",
              "    </tr>\n",
              "    <tr>\n",
              "      <th>2</th>\n",
              "      <td>BREAKING: MITT ROMNEY Speaks To Reporters Foll...</td>\n",
              "      <td>https://youtu.be/Ai5ayloRa-0</td>\n",
              "      <td>1</td>\n",
              "      <td>breaking mitt romney speaks reporters followin...</td>\n",
              "    </tr>\n",
              "    <tr>\n",
              "      <th>3</th>\n",
              "      <td>WOW! Leftist Bully ROSIE O’DONNELL PUSHES Horr...</td>\n",
              "      <td>https://twitter.com/Rosie/status/8009393386158...</td>\n",
              "      <td>1</td>\n",
              "      <td>wow leftist bully rosie odonnell pushes horrib...</td>\n",
              "    </tr>\n",
              "    <tr>\n",
              "      <th>4</th>\n",
              "      <td>COMEDIAN TIM ALLEN On Hollywood Hypocrites: Th...</td>\n",
              "      <td>https://youtu.be/0J4xPRYbsLU</td>\n",
              "      <td>1</td>\n",
              "      <td>comedian tim allen hollywood hypocrites didnt ...</td>\n",
              "    </tr>\n",
              "    <tr>\n",
              "      <th>...</th>\n",
              "      <td>...</td>\n",
              "      <td>...</td>\n",
              "      <td>...</td>\n",
              "      <td>...</td>\n",
              "    </tr>\n",
              "    <tr>\n",
              "      <th>39097</th>\n",
              "      <td>The White House and The Theatrics of ‘Gun Cont...</td>\n",
              "      <td>21st Century Wire says All the world s a stage...</td>\n",
              "      <td>1</td>\n",
              "      <td>century wire says world stage men women merely...</td>\n",
              "    </tr>\n",
              "    <tr>\n",
              "      <th>39098</th>\n",
              "      <td>Activists or Terrorists? How Media Controls an...</td>\n",
              "      <td>Randy Johnson 21st Century WireThe majority ...</td>\n",
              "      <td>1</td>\n",
              "      <td>randy johnson century wirethe majority mainstr...</td>\n",
              "    </tr>\n",
              "    <tr>\n",
              "      <th>39099</th>\n",
              "      <td>BOILER ROOM – No Surrender, No Retreat, Heads ...</td>\n",
              "      <td>Tune in to the Alternate Current Radio Network...</td>\n",
              "      <td>1</td>\n",
              "      <td>tune alternate current radio network acr anoth...</td>\n",
              "    </tr>\n",
              "    <tr>\n",
              "      <th>39100</th>\n",
              "      <td>Federal Showdown Looms in Oregon After BLM Abu...</td>\n",
              "      <td>21st Century Wire says A new front has just op...</td>\n",
              "      <td>1</td>\n",
              "      <td>century wire says new front opened long battle...</td>\n",
              "    </tr>\n",
              "    <tr>\n",
              "      <th>39101</th>\n",
              "      <td>A Troubled King: Chicago’s Rahm Emanuel Desper...</td>\n",
              "      <td>21st Century Wire says It s not that far away....</td>\n",
              "      <td>1</td>\n",
              "      <td>century wire says far away guess wants run pre...</td>\n",
              "    </tr>\n",
              "  </tbody>\n",
              "</table>\n",
              "<p>39102 rows × 4 columns</p>\n",
              "</div>\n",
              "      <button class=\"colab-df-convert\" onclick=\"convertToInteractive('df-e2d61b99-79e8-4991-859d-10ab60bd33f2')\"\n",
              "              title=\"Convert this dataframe to an interactive table.\"\n",
              "              style=\"display:none;\">\n",
              "        \n",
              "  <svg xmlns=\"http://www.w3.org/2000/svg\" height=\"24px\"viewBox=\"0 0 24 24\"\n",
              "       width=\"24px\">\n",
              "    <path d=\"M0 0h24v24H0V0z\" fill=\"none\"/>\n",
              "    <path d=\"M18.56 5.44l.94 2.06.94-2.06 2.06-.94-2.06-.94-.94-2.06-.94 2.06-2.06.94zm-11 1L8.5 8.5l.94-2.06 2.06-.94-2.06-.94L8.5 2.5l-.94 2.06-2.06.94zm10 10l.94 2.06.94-2.06 2.06-.94-2.06-.94-.94-2.06-.94 2.06-2.06.94z\"/><path d=\"M17.41 7.96l-1.37-1.37c-.4-.4-.92-.59-1.43-.59-.52 0-1.04.2-1.43.59L10.3 9.45l-7.72 7.72c-.78.78-.78 2.05 0 2.83L4 21.41c.39.39.9.59 1.41.59.51 0 1.02-.2 1.41-.59l7.78-7.78 2.81-2.81c.8-.78.8-2.07 0-2.86zM5.41 20L4 18.59l7.72-7.72 1.47 1.35L5.41 20z\"/>\n",
              "  </svg>\n",
              "      </button>\n",
              "      \n",
              "  <style>\n",
              "    .colab-df-container {\n",
              "      display:flex;\n",
              "      flex-wrap:wrap;\n",
              "      gap: 12px;\n",
              "    }\n",
              "\n",
              "    .colab-df-convert {\n",
              "      background-color: #E8F0FE;\n",
              "      border: none;\n",
              "      border-radius: 50%;\n",
              "      cursor: pointer;\n",
              "      display: none;\n",
              "      fill: #1967D2;\n",
              "      height: 32px;\n",
              "      padding: 0 0 0 0;\n",
              "      width: 32px;\n",
              "    }\n",
              "\n",
              "    .colab-df-convert:hover {\n",
              "      background-color: #E2EBFA;\n",
              "      box-shadow: 0px 1px 2px rgba(60, 64, 67, 0.3), 0px 1px 3px 1px rgba(60, 64, 67, 0.15);\n",
              "      fill: #174EA6;\n",
              "    }\n",
              "\n",
              "    [theme=dark] .colab-df-convert {\n",
              "      background-color: #3B4455;\n",
              "      fill: #D2E3FC;\n",
              "    }\n",
              "\n",
              "    [theme=dark] .colab-df-convert:hover {\n",
              "      background-color: #434B5C;\n",
              "      box-shadow: 0px 1px 3px 1px rgba(0, 0, 0, 0.15);\n",
              "      filter: drop-shadow(0px 1px 2px rgba(0, 0, 0, 0.3));\n",
              "      fill: #FFFFFF;\n",
              "    }\n",
              "  </style>\n",
              "\n",
              "      <script>\n",
              "        const buttonEl =\n",
              "          document.querySelector('#df-e2d61b99-79e8-4991-859d-10ab60bd33f2 button.colab-df-convert');\n",
              "        buttonEl.style.display =\n",
              "          google.colab.kernel.accessAllowed ? 'block' : 'none';\n",
              "\n",
              "        async function convertToInteractive(key) {\n",
              "          const element = document.querySelector('#df-e2d61b99-79e8-4991-859d-10ab60bd33f2');\n",
              "          const dataTable =\n",
              "            await google.colab.kernel.invokeFunction('convertToInteractive',\n",
              "                                                     [key], {});\n",
              "          if (!dataTable) return;\n",
              "\n",
              "          const docLinkHtml = 'Like what you see? Visit the ' +\n",
              "            '<a target=\"_blank\" href=https://colab.research.google.com/notebooks/data_table.ipynb>data table notebook</a>'\n",
              "            + ' to learn more about interactive tables.';\n",
              "          element.innerHTML = '';\n",
              "          dataTable['output_type'] = 'display_data';\n",
              "          await google.colab.output.renderOutput(dataTable, element);\n",
              "          const docLink = document.createElement('div');\n",
              "          docLink.innerHTML = docLinkHtml;\n",
              "          element.appendChild(docLink);\n",
              "        }\n",
              "      </script>\n",
              "    </div>\n",
              "  </div>\n",
              "  "
            ]
          },
          "metadata": {},
          "execution_count": 35
        }
      ]
    },
    {
      "cell_type": "markdown",
      "source": [
        "##### **Visualize WordCloud**"
      ],
      "metadata": {
        "id": "t3oDjBxn3yI2"
      }
    },
    {
      "cell_type": "code",
      "source": [
        "#words_excluded = ['donald', 'trump', 'barack', 'obama']"
      ],
      "metadata": {
        "id": "q4ZT6N1w68Cd"
      },
      "execution_count": null,
      "outputs": []
    },
    {
      "cell_type": "code",
      "source": [
        "def viz_word_cloud(texts, news_label):\n",
        "  global wc\n",
        "  wc = WordCloud(\n",
        "      background_color='white', \n",
        "      max_words=50,\n",
        "      #stopwords=words_excluded,\n",
        "      collocations=True\n",
        "  ).generate(texts)\n",
        "\n",
        "  plt.figure(figsize=(10,10))\n",
        "  plt.title(\n",
        "      f'WordCloud: {news_label} News', \n",
        "      fontsize=15, fontweight='bold', \n",
        "      pad=20\n",
        "  )\n",
        "\n",
        "  plt.axis('off')\n",
        "  plt.imshow(wc)\n",
        "  plt.show()"
      ],
      "metadata": {
        "id": "X6OBcRlGALDS"
      },
      "execution_count": null,
      "outputs": []
    },
    {
      "cell_type": "code",
      "source": [
        "# visualize word cloud: Real News\n",
        "texts_real = df_cleaned.loc[df_cleaned['label'] == 0, 'text_cleaned'].str.cat()\n",
        "viz_word_cloud(texts=texts_real, news_label='Real')"
      ],
      "metadata": {
        "colab": {
          "base_uri": "https://localhost:8080/",
          "height": 342
        },
        "id": "im15FLrJActr",
        "outputId": "78bdcf08-b4ef-44d2-e632-84ac04b57bc7"
      },
      "execution_count": null,
      "outputs": [
        {
          "output_type": "display_data",
          "data": {
            "text/plain": [
              "<Figure size 720x720 with 1 Axes>"
            ],
            "image/png": "[encoded data removed]"
          },
          "metadata": {
            "needs_background": "light"
          }
        }
      ]
    },
    {
      "cell_type": "code",
      "source": [
        "# visualize word cloud: Fake News\n",
        "texts_fake = df_cleaned.loc[df_cleaned['label'] == 1, 'text_cleaned'].str.cat()\n",
        "viz_word_cloud(texts=texts_fake, news_label='Fake')"
      ],
      "metadata": {
        "colab": {
          "base_uri": "https://localhost:8080/",
          "height": 342
        },
        "id": "cMjp5xDzApaX",
        "outputId": "a72327d4-9265-41e0-c007-734b3981d437"
      },
      "execution_count": null,
      "outputs": [
        {
          "output_type": "display_data",
          "data": {
            "text/plain": [
              "<Figure size 720x720 with 1 Axes>"
            ],
            "image/png": "[encoded data removed]"
          },
          "metadata": {
            "needs_background": "light"
          }
        }
      ]
    },
    {
      "cell_type": "markdown",
      "source": [
        "**Analisis**: Donald Trump menjadi tokoh yang paling banyak tampil seluruh berita baik pada fake news maupun true news. Keseluruhan berita lebih berfokus pada isu politik Amerika serika.  Selain Donald Trump, Hillary Clinton juga menjadi tokoh yang paling sering muncul pada fake news. "
      ],
      "metadata": {
        "id": "pQMghWDRDSUB"
      }
    },
    {
      "cell_type": "markdown",
      "source": [
        "##### **Visualize Trigram**"
      ],
      "metadata": {
        "id": "lTEFmFl6ElXs"
      }
    },
    {
      "cell_type": "code",
      "source": [
        "fake_text = df_cleaned['text_cleaned'][df_cleaned['label'] == 1].sample(n=4000,  random_state=0)\n",
        "fake_text[:3]"
      ],
      "metadata": {
        "colab": {
          "base_uri": "https://localhost:8080/"
        },
        "id": "JOeUlpMgEq3t",
        "outputId": "e87b2b4b-d5a5-4a33-84ba-a6f88dd34ab4"
      },
      "execution_count": null,
      "outputs": [
        {
          "output_type": "execute_result",
          "data": {
            "text/plain": [
              "24825    state michigan since gop takeover petri dish l...\n",
              "23017    new york daily news known subtlety comes cover...\n",
              "25922    gop candidate donald trump democratic candidat...\n",
              "Name: text_cleaned, dtype: object"
            ]
          },
          "metadata": {},
          "execution_count": 40
        }
      ]
    },
    {
      "cell_type": "code",
      "source": [
        "true_text = df_cleaned['text_cleaned'][df_cleaned['label'] == 0].sample(n=4000,  random_state=0)\n",
        "true_text[:3]"
      ],
      "metadata": {
        "colab": {
          "base_uri": "https://localhost:8080/"
        },
        "id": "fej1gQC2Nyr7",
        "outputId": "f71d2568-fb0c-4d81-c258-a3c8518e9b18"
      },
      "execution_count": null,
      "outputs": [
        {
          "output_type": "execute_result",
          "data": {
            "text/plain": [
              "18950    phnom penh reuters cambodia main opposition pa...\n",
              "3499     brussels reuters european unions executive for...\n",
              "17806    madrid reuters leader spain socialists main op...\n",
              "Name: text_cleaned, dtype: object"
            ]
          },
          "metadata": {},
          "execution_count": 41
        }
      ]
    },
    {
      "cell_type": "code",
      "source": [
        "import nltk\n",
        "nltk.download('punkt')\n",
        "from nltk.tokenize import word_tokenize"
      ],
      "metadata": {
        "colab": {
          "base_uri": "https://localhost:8080/"
        },
        "id": "UMGpuUqHHtbq",
        "outputId": "97cc58be-4468-49f5-a6ae-15cc27eb845d"
      },
      "execution_count": null,
      "outputs": [
        {
          "output_type": "stream",
          "name": "stderr",
          "text": [
            "[nltk_data] Downloading package punkt to /root/nltk_data...\n",
            "[nltk_data]   Unzipping tokenizers/punkt.zip.\n"
          ]
        }
      ]
    },
    {
      "cell_type": "code",
      "source": [
        "#trigrams visualization\n",
        "def trigram_viz(text, title):\n",
        "  join = ' '.join(text) #join all line text\n",
        "  token_text = word_tokenize(join) #tokenize the join text\n",
        "  from nltk import FreqDist, trigrams #import frequency distribution and trigrams\n",
        "  trigrams = trigrams(token_text) #trigrams the token text\n",
        "  freq_trigrams = FreqDist()\n",
        "  for trigram in trigrams:\n",
        "    freq_trigrams[trigram] +=1 \n",
        "  \n",
        "  tg_dict_sorted = sorted(freq_trigrams.items(), key=lambda kv: kv[1], reverse=True)\n",
        "  tg, counts = list(zip(*tg_dict_sorted))\n",
        "  tg_str = list(map(lambda x: '-'.join(x), tg))\n",
        "  df_tg = pd.DataFrame([tg_str, counts]).T\n",
        "  df_tg.columns = ['Trigrams', 'Counts']\n",
        "\n",
        "  ## Setting figure, ax into variables\n",
        "  fig, ax = plt.subplots(figsize=(10,5), dpi=100)\n",
        "\n",
        "  ## Seaborn plotting using Pandas attributes + xtick rotation for ease of viewing\n",
        "  all_plot = sns.barplot(x='Counts', y='Trigrams', data=df_tg.head(20), ax=ax, palette='Set2')\n",
        "  plt.title(title);"
      ],
      "metadata": {
        "id": "SQkV8qivHhhF"
      },
      "execution_count": null,
      "outputs": []
    },
    {
      "cell_type": "code",
      "source": [
        "trigram_viz(fake_text, 'Trigrams Fake News')"
      ],
      "metadata": {
        "colab": {
          "base_uri": "https://localhost:8080/",
          "height": 480
        },
        "id": "sOyAZ1HnIe8w",
        "outputId": "5a17f3b1-3747-4c35-deb6-6e5f4bdffddb"
      },
      "execution_count": null,
      "outputs": [
        {
          "output_type": "display_data",
          "data": {
            "text/plain": [
              "<Figure size 1000x500 with 1 Axes>"
            ],
            "image/png": "[encoded data removed]"
          },
          "metadata": {
            "needs_background": "light"
          }
        }
      ]
    },
    {
      "cell_type": "markdown",
      "source": [
        "**Analisis**: Penyebaran fake news lebih banyak menggunakan media informasi berupa video dan potongan gambar yang dibagikan melalui media sosial. Selain tokoh politik, tokoh publik lain yang banyak tampil pada fake news adalah James Comey, seorang mantan direktur biro investigasi federal Amerika Serikat. Selain politik, isu sensitif seperti *black lives matter* juga menjadi topik yang sering muncul pada fake news."
      ],
      "metadata": {
        "id": "3gYPFsptPMvj"
      }
    },
    {
      "cell_type": "code",
      "source": [
        "trigram_viz(true_text, 'Trigrams Real News')"
      ],
      "metadata": {
        "colab": {
          "base_uri": "https://localhost:8080/",
          "height": 480
        },
        "id": "ei6FbquwIfB7",
        "outputId": "39052e57-5b75-4da9-9262-4a6544db610d"
      },
      "execution_count": null,
      "outputs": [
        {
          "output_type": "display_data",
          "data": {
            "text/plain": [
              "<Figure size 1000x500 with 1 Axes>"
            ],
            "image/png": "[encoded data removed]"
          },
          "metadata": {
            "needs_background": "light"
          }
        }
      ]
    },
    {
      "cell_type": "markdown",
      "source": [
        "**Analisis**: Berbeda dengan fake news, real news lebih bersumber pada media informasi yang lebih kredibel dari Reuters. Reuters  adalah sebuah organisasi berita internasional dan menjadi salah satu kantor berita terbesar di dunia. Real news juga berfokus pada pemberitaan mengenai pemerintahan dan tokoh politik Amerika Serikat seperti Donald Trump, Barrak Obama, Paul Ryan dan Mitch McConnell. Tokoh politik dunia seperti Vladimir Putin dan Angela Merke juga menjadi topik yang sering dibahas pada real news."
      ],
      "metadata": {
        "id": "kktdDcZTRjx-"
      }
    },
    {
      "cell_type": "markdown",
      "source": [
        "### Data Modelling"
      ],
      "metadata": {
        "id": "7w2aoZotsL0b"
      }
    },
    {
      "cell_type": "code",
      "source": [
        "import tensorflow as tf\n",
        "import numpy as np\n",
        "\n",
        "from sklearn.model_selection import train_test_split\n",
        "from sklearn.metrics import classification_report, confusion_matrix"
      ],
      "metadata": {
        "id": "-wqbsxkHlXgi"
      },
      "execution_count": null,
      "outputs": []
    },
    {
      "cell_type": "markdown",
      "source": [
        "##### **Data Processing and Splitting**"
      ],
      "metadata": {
        "id": "gvOxn2EHsRt9"
      }
    },
    {
      "cell_type": "code",
      "source": [
        "# tokenisasi\n",
        "tokenizer = tf.keras.preprocessing.text.Tokenizer(oov_token='OOV')\n",
        "tokenizer.fit_on_texts(df_cleaned['text_cleaned'])"
      ],
      "metadata": {
        "id": "uZz14ChGmb1B"
      },
      "execution_count": null,
      "outputs": []
    },
    {
      "cell_type": "code",
      "source": [
        "# konversi teks ke sequence token\n",
        "text_seq = tokenizer.texts_to_sequences(df_cleaned['text_cleaned'])\n",
        "\n",
        "# data preview by sample\n",
        "text_seq[0]"
      ],
      "metadata": {
        "colab": {
          "base_uri": "https://localhost:8080/"
        },
        "id": "c-iLJbqoINlm",
        "outputId": "3507f94c-8bbe-4dd4-9c45-05a781d79791"
      },
      "execution_count": null,
      "outputs": [
        {
          "output_type": "execute_result",
          "data": {
            "text/plain": [
              "[4714, 3845, 11258, 13695, 13696, 3872, 70, 3, 129]"
            ]
          },
          "metadata": {},
          "execution_count": 48
        }
      ]
    },
    {
      "cell_type": "code",
      "source": [
        "# visualisasi jumlah kata pada tiap text\n",
        "len_text = [len(text.split()) for text in df_cleaned.loc[:, 'text_cleaned']]\n",
        "\n",
        "plt.figure(figsize=(20,4))\n",
        "sns.histplot(len_text)\n",
        "plt.xticks(\n",
        "    ticks=list(range(0, max(len_text), 150)), \n",
        "    labels=list(range(0, max(len_text), 150)),\n",
        "    rotation=30\n",
        ");"
      ],
      "metadata": {
        "colab": {
          "base_uri": "https://localhost:8080/",
          "height": 277
        },
        "id": "4hx93fTOEAka",
        "outputId": "6c63f043-1371-4779-90bd-28a810332f77"
      },
      "execution_count": null,
      "outputs": [
        {
          "output_type": "display_data",
          "data": {
            "text/plain": [
              "<Figure size 1440x288 with 1 Axes>"
            ],
            "image/png": "[encoded data removed]"
          },
          "metadata": {
            "needs_background": "light"
          }
        }
      ]
    },
    {
      "cell_type": "code",
      "source": [
        "MAX_LENGTH = 200\n",
        "PADDING = 'post'\n",
        "TRUNCATING = 'post'"
      ],
      "metadata": {
        "id": "86woHwvWcCkf"
      },
      "execution_count": null,
      "outputs": []
    },
    {
      "cell_type": "code",
      "source": [
        "# penyeragaman panjang text\n",
        "text_seq_preprocessed = tf.keras.preprocessing.sequence.pad_sequences(\n",
        "    sequences=text_seq, maxlen=MAX_LENGTH, \n",
        "    padding=PADDING, truncating=TRUNCATING\n",
        ")\n",
        "\n",
        "# data preview by sample\n",
        "text_seq_preprocessed[1]"
      ],
      "metadata": {
        "colab": {
          "base_uri": "https://localhost:8080/"
        },
        "id": "-3Gw9hlPG8gj",
        "outputId": "be904f5b-8f6b-4701-92a9-c4f2e4a322c5"
      },
      "execution_count": null,
      "outputs": [
        {
          "output_type": "execute_result",
          "data": {
            "text/plain": [
              "array([ 1085, 10444,  7474,   682,   154,     6,   838, 10296,   510,\n",
              "          23,     6,   129,     0,     0,     0,     0,     0,     0,\n",
              "           0,     0,     0,     0,     0,     0,     0,     0,     0,\n",
              "           0,     0,     0,     0,     0,     0,     0,     0,     0,\n",
              "           0,     0,     0,     0,     0,     0,     0,     0,     0,\n",
              "           0,     0,     0,     0,     0,     0,     0,     0,     0,\n",
              "           0,     0,     0,     0,     0,     0,     0,     0,     0,\n",
              "           0,     0,     0,     0,     0,     0,     0,     0,     0,\n",
              "           0,     0,     0,     0,     0,     0,     0,     0,     0,\n",
              "           0,     0,     0,     0,     0,     0,     0,     0,     0,\n",
              "           0,     0,     0,     0,     0,     0,     0,     0,     0,\n",
              "           0,     0,     0,     0,     0,     0,     0,     0,     0,\n",
              "           0,     0,     0,     0,     0,     0,     0,     0,     0,\n",
              "           0,     0,     0,     0,     0,     0,     0,     0,     0,\n",
              "           0,     0,     0,     0,     0,     0,     0,     0,     0,\n",
              "           0,     0,     0,     0,     0,     0,     0,     0,     0,\n",
              "           0,     0,     0,     0,     0,     0,     0,     0,     0,\n",
              "           0,     0,     0,     0,     0,     0,     0,     0,     0,\n",
              "           0,     0,     0,     0,     0,     0,     0,     0,     0,\n",
              "           0,     0,     0,     0,     0,     0,     0,     0,     0,\n",
              "           0,     0,     0,     0,     0,     0,     0,     0,     0,\n",
              "           0,     0,     0,     0,     0,     0,     0,     0,     0,\n",
              "           0,     0], dtype=int32)"
            ]
          },
          "metadata": {},
          "execution_count": 51
        }
      ]
    },
    {
      "cell_type": "code",
      "source": [
        "# menyimpan data \"label\" ke variable labels\n",
        "labels = df_cleaned['label']\n",
        "\n",
        "# data preview by sample\n",
        "labels[0]"
      ],
      "metadata": {
        "colab": {
          "base_uri": "https://localhost:8080/"
        },
        "id": "eKSrp0J5F4gq",
        "outputId": "fac3c67a-8152-449e-aa23-5994838b1830"
      },
      "execution_count": null,
      "outputs": [
        {
          "output_type": "execute_result",
          "data": {
            "text/plain": [
              "1"
            ]
          },
          "metadata": {},
          "execution_count": 52
        }
      ]
    },
    {
      "cell_type": "code",
      "source": [
        "# split data untuk training dan testing\n",
        "X_train, X_test, y_train, y_test = train_test_split(text_seq_preprocessed, labels, test_size=0.15, stratify=labels, random_state=42)\n",
        "\n",
        "# data preview\n",
        "print(f'jumlah data training : {X_train.shape[0]} samples')\n",
        "print(f'jumlah data testing  : {X_test.shape[0]} samples\\n\\n#note: 15% dari data training akan digunakan sebagai data validasi')"
      ],
      "metadata": {
        "colab": {
          "base_uri": "https://localhost:8080/"
        },
        "id": "EkWIyxBvJ51V",
        "outputId": "608d61a1-51ee-488c-ce07-d9292122332d"
      },
      "execution_count": null,
      "outputs": [
        {
          "output_type": "stream",
          "name": "stdout",
          "text": [
            "jumlah data training : 33236 samples\n",
            "jumlah data testing  : 5866 samples\n",
            "\n",
            "#note: 15% dari data training akan digunakan sebagai data validasi\n"
          ]
        }
      ]
    },
    {
      "cell_type": "code",
      "source": [
        "# define parameters utk load GloVe word embeddings\n",
        "path_to_glove_file = r\"/content/drive/MyDrive/Code/Text Emotion Classification/glove.6B.200d.txt\" \n",
        "num_tokens = len(tokenizer.word_index)+1  # alias vocabSize\n",
        "embedding_dim = 200\n",
        "hits = 0\n",
        "misses = 0\n",
        "embeddings_index = {}\n",
        "\n",
        "# read word vectors\n",
        "with open(path_to_glove_file) as f:\n",
        "  for line in f:\n",
        "    word, coefs = line.split(maxsplit=1)\n",
        "    coefs = np.fromstring(coefs, \"f\", sep=\" \")\n",
        "    embeddings_index[word] = coefs\n",
        "print(\"Found %s word vectors.\" % len(embeddings_index))\n",
        "\n",
        "# ====================================\n",
        "# create variabel utk menampung vector\n",
        "embedding_matrix = np.zeros((num_tokens, embedding_dim))\n",
        "\n",
        "for word, i in tokenizer.word_index.items():\n",
        "  # get vector berdasarkan word-nya\n",
        "  embedding_vector = embeddings_index.get(word)\n",
        "  if embedding_vector is not None:\n",
        "    # jika word dari dataset terdapat di dalam GloVe, \n",
        "    # maka base vector (all-zeros) pada variable \"embedding_vector\"\n",
        "    # akan diubah sesuai dengan vector dari GloVe\n",
        "    embedding_matrix[i] = embedding_vector\n",
        "    hits += 1\n",
        "  else:\n",
        "    misses += 1\n",
        "print(\"Converted %d words (%d misses)\" % (hits, misses))"
      ],
      "metadata": {
        "id": "YGxqZZDBOv8e",
        "colab": {
          "base_uri": "https://localhost:8080/"
        },
        "outputId": "d9267cd8-b61e-46d7-c462-d7db158248e6"
      },
      "execution_count": null,
      "outputs": [
        {
          "output_type": "stream",
          "name": "stdout",
          "text": [
            "Found 400000 word vectors.\n",
            "Converted 74174 words (34517 misses)\n"
          ]
        }
      ]
    },
    {
      "cell_type": "markdown",
      "source": [
        "### Conv1D + Glove"
      ],
      "metadata": {
        "id": "aBRHkJKSPW-Q"
      }
    },
    {
      "cell_type": "markdown",
      "source": [
        "#### Model Training"
      ],
      "metadata": {
        "id": "Vx86mbRlQvpr"
      }
    },
    {
      "cell_type": "code",
      "source": [
        "from tensorflow.keras.layers import Embedding, Dropout, Conv1D, GlobalAveragePooling1D, Dense, GRU\n",
        "from tensorflow.keras.models import Sequential\n",
        "from tensorflow.keras.optimizers import Adam"
      ],
      "metadata": {
        "id": "lm2wAUk2Pre1"
      },
      "execution_count": null,
      "outputs": []
    },
    {
      "cell_type": "code",
      "source": [
        "train_dataset = tf.data.Dataset.from_tensor_slices((X_train, y_train))\n",
        "test_dataset = tf.data.Dataset.from_tensor_slices((X_test, y_test))\n",
        "\n",
        "\n",
        "train_dataset = train_dataset.batch(32).prefetch(tf.data.AUTOTUNE)\n",
        "test_dataset = test_dataset.batch(32).prefetch(tf.data.AUTOTUNE)"
      ],
      "metadata": {
        "id": "CgfDy-5uQG9U"
      },
      "execution_count": null,
      "outputs": []
    },
    {
      "cell_type": "code",
      "source": [
        "# Build neural network architecture\n",
        "model_conv1d = Sequential()\n",
        "model_conv1d.add(Embedding(input_dim = num_tokens,\n",
        "                    output_dim = embedding_dim,\n",
        "                    input_length= 1,\n",
        "                    weights = [embedding_matrix],\n",
        "                    trainable = False, \n",
        "                    embeddings_initializer=\"uniform\"))\n",
        "model_conv1d.add(Dropout(0.2))\n",
        "model_conv1d.add(Conv1D(128, kernel_size=5, padding=\"same\", activation=\"relu\"))\n",
        "model_conv1d.add(GlobalAveragePooling1D())\n",
        "model_conv1d.add(Dense(1, activation = 'sigmoid'))\n",
        "\n",
        "#code here\n",
        "model_conv1d.compile(loss = \"binary_crossentropy\",\n",
        "                optimizer = Adam(),\n",
        "                metrics = [\"accuracy\"])\n",
        "model_conv1d.summary()"
      ],
      "metadata": {
        "colab": {
          "base_uri": "https://localhost:8080/"
        },
        "id": "P940WAQyH-Wg",
        "outputId": "d733743e-ac48-424c-efe0-28d4fc04f072"
      },
      "execution_count": null,
      "outputs": [
        {
          "output_type": "stream",
          "name": "stdout",
          "text": [
            "Model: \"sequential_2\"\n",
            "_________________________________________________________________\n",
            " Layer (type)                Output Shape              Param #   \n",
            "=================================================================\n",
            " embedding_2 (Embedding)     (None, 1, 200)            21738400  \n",
            "                                                                 \n",
            " dropout_2 (Dropout)         (None, 1, 200)            0         \n",
            "                                                                 \n",
            " conv1d_2 (Conv1D)           (None, 1, 128)            128128    \n",
            "                                                                 \n",
            " global_average_pooling1d_2   (None, 128)              0         \n",
            " (GlobalAveragePooling1D)                                        \n",
            "                                                                 \n",
            " dense_2 (Dense)             (None, 1)                 129       \n",
            "                                                                 \n",
            "=================================================================\n",
            "Total params: 21,866,657\n",
            "Trainable params: 128,257\n",
            "Non-trainable params: 21,738,400\n",
            "_________________________________________________________________\n"
          ]
        }
      ]
    },
    {
      "cell_type": "code",
      "source": [
        "model_conv1d_history = model_conv1d.fit(train_dataset,\n",
        "          steps_per_epoch=int(0.1*len(train_dataset)),\n",
        "          epochs = 10,\n",
        "          validation_data = test_dataset,\n",
        "          validation_steps=int(0.1*len(test_dataset)))"
      ],
      "metadata": {
        "colab": {
          "base_uri": "https://localhost:8080/"
        },
        "outputId": "7ed142d2-7f25-424b-b226-73179ee40313",
        "id": "2LoOc6s-KFy3"
      },
      "execution_count": null,
      "outputs": [
        {
          "output_type": "stream",
          "name": "stdout",
          "text": [
            "Epoch 1/10\n",
            "WARNING:tensorflow:Model was constructed with shape (None, 1) for input KerasTensor(type_spec=TensorSpec(shape=(None, 1), dtype=tf.float32, name='embedding_2_input'), name='embedding_2_input', description=\"created by layer 'embedding_2_input'\"), but it was called on an input with incompatible shape (None, 200).\n"
          ]
        },
        {
          "output_type": "stream",
          "name": "stderr",
          "text": [
            "WARNING:tensorflow:Model was constructed with shape (None, 1) for input KerasTensor(type_spec=TensorSpec(shape=(None, 1), dtype=tf.float32, name='embedding_2_input'), name='embedding_2_input', description=\"created by layer 'embedding_2_input'\"), but it was called on an input with incompatible shape (None, 200).\n"
          ]
        },
        {
          "output_type": "stream",
          "name": "stdout",
          "text": [
            "WARNING:tensorflow:Model was constructed with shape (None, 1) for input KerasTensor(type_spec=TensorSpec(shape=(None, 1), dtype=tf.float32, name='embedding_2_input'), name='embedding_2_input', description=\"created by layer 'embedding_2_input'\"), but it was called on an input with incompatible shape (None, 200).\n"
          ]
        },
        {
          "output_type": "stream",
          "name": "stderr",
          "text": [
            "WARNING:tensorflow:Model was constructed with shape (None, 1) for input KerasTensor(type_spec=TensorSpec(shape=(None, 1), dtype=tf.float32, name='embedding_2_input'), name='embedding_2_input', description=\"created by layer 'embedding_2_input'\"), but it was called on an input with incompatible shape (None, 200).\n"
          ]
        },
        {
          "output_type": "stream",
          "name": "stdout",
          "text": [
            " 98/103 [===========================>..] - ETA: 0s - loss: 0.3111 - accuracy: 0.8897WARNING:tensorflow:Model was constructed with shape (None, 1) for input KerasTensor(type_spec=TensorSpec(shape=(None, 1), dtype=tf.float32, name='embedding_2_input'), name='embedding_2_input', description=\"created by layer 'embedding_2_input'\"), but it was called on an input with incompatible shape (None, 200).\n"
          ]
        },
        {
          "output_type": "stream",
          "name": "stderr",
          "text": [
            "WARNING:tensorflow:Model was constructed with shape (None, 1) for input KerasTensor(type_spec=TensorSpec(shape=(None, 1), dtype=tf.float32, name='embedding_2_input'), name='embedding_2_input', description=\"created by layer 'embedding_2_input'\"), but it was called on an input with incompatible shape (None, 200).\n"
          ]
        },
        {
          "output_type": "stream",
          "name": "stdout",
          "text": [
            "\b\b\b\b\b\b\b\b\b\b\b\b\b\b\b\b\b\b\b\b\b\b\b\b\b\b\b\b\b\b\b\b\b\b\b\b\b\b\b\b\b\b\b\b\b\b\b\b\b\b\b\b\b\b\b\b\b\b\b\b\b\b\b\b\b\b\b\b\b\b\b\b\b\b\b\b\b\b\b\b\b\b\b\b\r103/103 [==============================] - 2s 10ms/step - loss: 0.3083 - accuracy: 0.8890 - val_loss: 0.2275 - val_accuracy: 0.9115\n",
            "Epoch 2/10\n",
            "103/103 [==============================] - 1s 9ms/step - loss: 0.2126 - accuracy: 0.9281 - val_loss: 0.1727 - val_accuracy: 0.9410\n",
            "Epoch 3/10\n",
            "103/103 [==============================] - 1s 10ms/step - loss: 0.1901 - accuracy: 0.9351 - val_loss: 0.1661 - val_accuracy: 0.9462\n",
            "Epoch 4/10\n",
            "103/103 [==============================] - 1s 9ms/step - loss: 0.2006 - accuracy: 0.9366 - val_loss: 0.1702 - val_accuracy: 0.9549\n",
            "Epoch 5/10\n",
            "103/103 [==============================] - 1s 9ms/step - loss: 0.1774 - accuracy: 0.9427 - val_loss: 0.1567 - val_accuracy: 0.9392\n",
            "Epoch 6/10\n",
            "103/103 [==============================] - 1s 12ms/step - loss: 0.1763 - accuracy: 0.9417 - val_loss: 0.1354 - val_accuracy: 0.9618\n",
            "Epoch 7/10\n",
            "103/103 [==============================] - 1s 5ms/step - loss: 0.1549 - accuracy: 0.9521 - val_loss: 0.1247 - val_accuracy: 0.9670\n",
            "Epoch 8/10\n",
            "103/103 [==============================] - 1s 5ms/step - loss: 0.1512 - accuracy: 0.9515 - val_loss: 0.1265 - val_accuracy: 0.9601\n",
            "Epoch 9/10\n",
            "103/103 [==============================] - 1s 5ms/step - loss: 0.1710 - accuracy: 0.9481 - val_loss: 0.1200 - val_accuracy: 0.9722\n",
            "Epoch 10/10\n",
            "103/103 [==============================] - 0s 5ms/step - loss: 0.1483 - accuracy: 0.9527 - val_loss: 0.1229 - val_accuracy: 0.9705\n"
          ]
        }
      ]
    },
    {
      "cell_type": "code",
      "source": [
        "model_conv1d.evaluate(test_dataset)"
      ],
      "metadata": {
        "colab": {
          "base_uri": "https://localhost:8080/"
        },
        "outputId": "5b9ec55d-94b4-43d8-bf40-4182f76b5ea9",
        "id": "bDWv0yGZKFy6"
      },
      "execution_count": null,
      "outputs": [
        {
          "output_type": "stream",
          "name": "stdout",
          "text": [
            "184/184 [==============================] - 1s 4ms/step - loss: 0.1414 - accuracy: 0.9574\n"
          ]
        },
        {
          "output_type": "execute_result",
          "data": {
            "text/plain": [
              "[0.14136160910129547, 0.957381546497345]"
            ]
          },
          "metadata": {},
          "execution_count": 66
        }
      ]
    },
    {
      "cell_type": "markdown",
      "source": [
        "#### Model Evaluation"
      ],
      "metadata": {
        "id": "plkR1PLOQzzm"
      }
    },
    {
      "cell_type": "code",
      "source": [
        "# dictionary of labels\n",
        "label_dict = {\n",
        "    0: 'real news',\n",
        "    1: 'fake news'\n",
        "}\n",
        "# predict data testing\n",
        "prediction = model_conv1d.predict(X_test)\n",
        "prediction = tf.squeeze(tf.round(prediction))\n",
        "\n",
        "# show performance report\n",
        "print(classification_report(y_test, prediction, target_names=list(label_dict.values()), digits=4))"
      ],
      "metadata": {
        "colab": {
          "base_uri": "https://localhost:8080/"
        },
        "outputId": "9835f9c3-731f-47fb-bb53-dc2335bd1b41",
        "id": "0T8PTCiIQ2_w"
      },
      "execution_count": null,
      "outputs": [
        {
          "output_type": "stream",
          "name": "stdout",
          "text": [
            "              precision    recall  f1-score   support\n",
            "\n",
            "   real news     0.9681    0.9528    0.9604      3180\n",
            "   fake news     0.9452    0.9628    0.9539      2686\n",
            "\n",
            "    accuracy                         0.9574      5866\n",
            "   macro avg     0.9566    0.9578    0.9571      5866\n",
            "weighted avg     0.9576    0.9574    0.9574      5866\n",
            "\n"
          ]
        }
      ]
    },
    {
      "cell_type": "code",
      "source": [
        "# show confusion matrix\n",
        "cm = confusion_matrix(y_test, prediction)\n",
        "\n",
        "plt.figure(figsize=(6,4))\n",
        "plt.title('Confusion Matrix', fontweight='bold', fontsize=15)\n",
        "sns.heatmap(\n",
        "    data=cm, annot=True, cmap='Greens', fmt='d',\n",
        "    linecolor='black', linewidths=0.1,\n",
        "    xticklabels=list(label_dict.values()), \n",
        "    yticklabels=list(label_dict.values())\n",
        ")\n",
        "\n",
        "plt.xlabel('prediction', fontweight='bold')\n",
        "plt.ylabel('actual', fontweight='bold')\n",
        "\n",
        "plt.show()"
      ],
      "metadata": {
        "colab": {
          "base_uri": "https://localhost:8080/",
          "height": 297
        },
        "outputId": "3b19bf8b-d4d3-4346-8f70-f88511a2f46e",
        "id": "LYMIKuTOQ2_y"
      },
      "execution_count": null,
      "outputs": [
        {
          "output_type": "display_data",
          "data": {
            "text/plain": [
              "<Figure size 432x288 with 2 Axes>"
            ],
            "image/png": "[encoded data removed]"
          },
          "metadata": {
            "needs_background": "light"
          }
        }
      ]
    },
    {
      "cell_type": "markdown",
      "source": [
        "### GRU + GLove"
      ],
      "metadata": {
        "id": "pyZlmgxcSycK"
      }
    },
    {
      "cell_type": "markdown",
      "source": [
        "#### Model Training"
      ],
      "metadata": {
        "id": "RehAX7kIS_UZ"
      }
    },
    {
      "cell_type": "code",
      "source": [
        "# Build neural network architecture\n",
        "model_gru = Sequential()\n",
        "model_gru.add(Embedding(input_dim = num_tokens,\n",
        "                    output_dim = embedding_dim,\n",
        "                    input_length= 1,\n",
        "                    weights = [embedding_matrix],\n",
        "                    trainable = False, \n",
        "                    embeddings_initializer=\"uniform\"))\n",
        "model_gru.add(Dropout(0.2))\n",
        "model_gru.add(GRU(128))\n",
        "model_gru.add(Dropout(0.2))\n",
        "model_gru.add(Dense(1, activation = 'sigmoid'))\n",
        "\n",
        "#code here\n",
        "model_gru.compile(loss = \"binary_crossentropy\",\n",
        "                optimizer = Adam(),\n",
        "                metrics = [\"accuracy\"])\n",
        "model_gru.summary()"
      ],
      "metadata": {
        "colab": {
          "base_uri": "https://localhost:8080/"
        },
        "id": "AIPPeuscJ3K2",
        "outputId": "cb01ee43-44aa-44e5-a7c2-5f5ee212bec6"
      },
      "execution_count": null,
      "outputs": [
        {
          "output_type": "stream",
          "name": "stdout",
          "text": [
            "Model: \"sequential_3\"\n",
            "_________________________________________________________________\n",
            " Layer (type)                Output Shape              Param #   \n",
            "=================================================================\n",
            " embedding_3 (Embedding)     (None, 1, 200)            21738400  \n",
            "                                                                 \n",
            " dropout_3 (Dropout)         (None, 1, 200)            0         \n",
            "                                                                 \n",
            " gru (GRU)                   (None, 128)               126720    \n",
            "                                                                 \n",
            " dropout_4 (Dropout)         (None, 128)               0         \n",
            "                                                                 \n",
            " dense_3 (Dense)             (None, 1)                 129       \n",
            "                                                                 \n",
            "=================================================================\n",
            "Total params: 21,865,249\n",
            "Trainable params: 126,849\n",
            "Non-trainable params: 21,738,400\n",
            "_________________________________________________________________\n"
          ]
        }
      ]
    },
    {
      "cell_type": "code",
      "source": [
        "model_gru_history = model_gru.fit(train_dataset,\n",
        "          steps_per_epoch=int(0.1*len(train_dataset)),\n",
        "          epochs = 10,\n",
        "          validation_data = test_dataset,\n",
        "          validation_steps=int(0.1*len(test_dataset)))"
      ],
      "metadata": {
        "colab": {
          "base_uri": "https://localhost:8080/"
        },
        "id": "U8DB7ufrLo8h",
        "outputId": "46f170e6-307a-4765-dce2-d5afb0efd3cb"
      },
      "execution_count": null,
      "outputs": [
        {
          "output_type": "stream",
          "name": "stdout",
          "text": [
            "Epoch 1/10\n",
            "WARNING:tensorflow:Model was constructed with shape (None, 1) for input KerasTensor(type_spec=TensorSpec(shape=(None, 1), dtype=tf.float32, name='embedding_3_input'), name='embedding_3_input', description=\"created by layer 'embedding_3_input'\"), but it was called on an input with incompatible shape (None, 200).\n"
          ]
        },
        {
          "output_type": "stream",
          "name": "stderr",
          "text": [
            "WARNING:tensorflow:Model was constructed with shape (None, 1) for input KerasTensor(type_spec=TensorSpec(shape=(None, 1), dtype=tf.float32, name='embedding_3_input'), name='embedding_3_input', description=\"created by layer 'embedding_3_input'\"), but it was called on an input with incompatible shape (None, 200).\n"
          ]
        },
        {
          "output_type": "stream",
          "name": "stdout",
          "text": [
            "WARNING:tensorflow:Model was constructed with shape (None, 1) for input KerasTensor(type_spec=TensorSpec(shape=(None, 1), dtype=tf.float32, name='embedding_3_input'), name='embedding_3_input', description=\"created by layer 'embedding_3_input'\"), but it was called on an input with incompatible shape (None, 200).\n"
          ]
        },
        {
          "output_type": "stream",
          "name": "stderr",
          "text": [
            "WARNING:tensorflow:Model was constructed with shape (None, 1) for input KerasTensor(type_spec=TensorSpec(shape=(None, 1), dtype=tf.float32, name='embedding_3_input'), name='embedding_3_input', description=\"created by layer 'embedding_3_input'\"), but it was called on an input with incompatible shape (None, 200).\n"
          ]
        },
        {
          "output_type": "stream",
          "name": "stdout",
          "text": [
            " 99/103 [===========================>..] - ETA: 0s - loss: 0.5446 - accuracy: 0.7358WARNING:tensorflow:Model was constructed with shape (None, 1) for input KerasTensor(type_spec=TensorSpec(shape=(None, 1), dtype=tf.float32, name='embedding_3_input'), name='embedding_3_input', description=\"created by layer 'embedding_3_input'\"), but it was called on an input with incompatible shape (None, 200).\n"
          ]
        },
        {
          "output_type": "stream",
          "name": "stderr",
          "text": [
            "WARNING:tensorflow:Model was constructed with shape (None, 1) for input KerasTensor(type_spec=TensorSpec(shape=(None, 1), dtype=tf.float32, name='embedding_3_input'), name='embedding_3_input', description=\"created by layer 'embedding_3_input'\"), but it was called on an input with incompatible shape (None, 200).\n"
          ]
        },
        {
          "output_type": "stream",
          "name": "stdout",
          "text": [
            "\b\b\b\b\b\b\b\b\b\b\b\b\b\b\b\b\b\b\b\b\b\b\b\b\b\b\b\b\b\b\b\b\b\b\b\b\b\b\b\b\b\b\b\b\b\b\b\b\b\b\b\b\b\b\b\b\b\b\b\b\b\b\b\b\b\b\b\b\b\b\b\b\b\b\b\b\b\b\b\b\b\b\b\b\r103/103 [==============================] - 4s 17ms/step - loss: 0.5501 - accuracy: 0.7272 - val_loss: 0.6953 - val_accuracy: 0.5330\n",
            "Epoch 2/10\n",
            "103/103 [==============================] - 1s 12ms/step - loss: 0.6154 - accuracy: 0.6993 - val_loss: 0.6035 - val_accuracy: 0.6997\n",
            "Epoch 3/10\n",
            "103/103 [==============================] - 1s 12ms/step - loss: 0.5789 - accuracy: 0.6769 - val_loss: 0.4528 - val_accuracy: 0.9010\n",
            "Epoch 4/10\n",
            "103/103 [==============================] - 1s 12ms/step - loss: 0.1470 - accuracy: 0.9633 - val_loss: 0.0316 - val_accuracy: 0.9948\n",
            "Epoch 5/10\n",
            "103/103 [==============================] - 1s 12ms/step - loss: 0.0251 - accuracy: 0.9954 - val_loss: 0.0133 - val_accuracy: 0.9983\n",
            "Epoch 6/10\n",
            "103/103 [==============================] - 1s 12ms/step - loss: 0.0205 - accuracy: 0.9942 - val_loss: 0.0115 - val_accuracy: 0.9983\n",
            "Epoch 7/10\n",
            "103/103 [==============================] - 1s 12ms/step - loss: 0.0169 - accuracy: 0.9967 - val_loss: 0.0103 - val_accuracy: 0.9983\n",
            "Epoch 8/10\n",
            "103/103 [==============================] - 1s 12ms/step - loss: 0.0166 - accuracy: 0.9964 - val_loss: 0.0106 - val_accuracy: 0.9983\n",
            "Epoch 9/10\n",
            "103/103 [==============================] - 1s 12ms/step - loss: 0.0196 - accuracy: 0.9951 - val_loss: 0.0119 - val_accuracy: 0.9965\n",
            "Epoch 10/10\n",
            "103/103 [==============================] - 1s 12ms/step - loss: 0.0204 - accuracy: 0.9951 - val_loss: 0.0100 - val_accuracy: 0.9983\n"
          ]
        }
      ]
    },
    {
      "cell_type": "code",
      "source": [
        "model_gru.evaluate(test_dataset)"
      ],
      "metadata": {
        "colab": {
          "base_uri": "https://localhost:8080/"
        },
        "id": "q1RU1THALtF1",
        "outputId": "c584b4ea-24c9-42e9-a53a-e2e17f871102"
      },
      "execution_count": null,
      "outputs": [
        {
          "output_type": "stream",
          "name": "stdout",
          "text": [
            "184/184 [==============================] - 2s 11ms/step - loss: 0.0065 - accuracy: 0.9986\n"
          ]
        },
        {
          "output_type": "execute_result",
          "data": {
            "text/plain": [
              "[0.006509135011583567, 0.9986361861228943]"
            ]
          },
          "metadata": {},
          "execution_count": 76
        }
      ]
    },
    {
      "cell_type": "markdown",
      "source": [
        "#### Model Evaluation"
      ],
      "metadata": {
        "id": "0EVHk6WpTmH2"
      }
    },
    {
      "cell_type": "code",
      "source": [
        "# dictionary of labels\n",
        "label_dict = {\n",
        "    0: 'real news',\n",
        "    1: 'fake news'\n",
        "}\n",
        "# predict data testing\n",
        "prediction = model_gru.predict(X_test)\n",
        "prediction = tf.squeeze(tf.round(prediction))\n",
        "\n",
        "# show performance report\n",
        "print(classification_report(y_test, prediction, target_names=list(label_dict.values()), digits=4))"
      ],
      "metadata": {
        "colab": {
          "base_uri": "https://localhost:8080/"
        },
        "outputId": "0ec42bc3-00c0-47f5-bc76-8f2509f959ed",
        "id": "qtM8FkKLTvNx"
      },
      "execution_count": null,
      "outputs": [
        {
          "output_type": "stream",
          "name": "stdout",
          "text": [
            "WARNING:tensorflow:Model was constructed with shape (None, 1) for input KerasTensor(type_spec=TensorSpec(shape=(None, 1), dtype=tf.float32, name='embedding_3_input'), name='embedding_3_input', description=\"created by layer 'embedding_3_input'\"), but it was called on an input with incompatible shape (None, 200).\n"
          ]
        },
        {
          "output_type": "stream",
          "name": "stderr",
          "text": [
            "WARNING:tensorflow:Model was constructed with shape (None, 1) for input KerasTensor(type_spec=TensorSpec(shape=(None, 1), dtype=tf.float32, name='embedding_3_input'), name='embedding_3_input', description=\"created by layer 'embedding_3_input'\"), but it was called on an input with incompatible shape (None, 200).\n"
          ]
        },
        {
          "output_type": "stream",
          "name": "stdout",
          "text": [
            "              precision    recall  f1-score   support\n",
            "\n",
            "   real news     0.9987    0.9987    0.9987      3180\n",
            "   fake news     0.9985    0.9985    0.9985      2686\n",
            "\n",
            "    accuracy                         0.9986      5866\n",
            "   macro avg     0.9986    0.9986    0.9986      5866\n",
            "weighted avg     0.9986    0.9986    0.9986      5866\n",
            "\n"
          ]
        }
      ]
    },
    {
      "cell_type": "code",
      "source": [
        "# show confusion matrix\n",
        "cm = confusion_matrix(y_test, prediction)\n",
        "\n",
        "plt.figure(figsize=(6,4))\n",
        "plt.title('Confusion Matrix', fontweight='bold', fontsize=15)\n",
        "sns.heatmap(\n",
        "    data=cm, annot=True, cmap='Greens', fmt='d',\n",
        "    linecolor='black', linewidths=0.1,\n",
        "    xticklabels=list(label_dict.values()), \n",
        "    yticklabels=list(label_dict.values())\n",
        ")\n",
        "\n",
        "plt.xlabel('prediction', fontweight='bold')\n",
        "plt.ylabel('actual', fontweight='bold')\n",
        "\n",
        "plt.show()"
      ],
      "metadata": {
        "colab": {
          "base_uri": "https://localhost:8080/",
          "height": 297
        },
        "outputId": "62891f8b-f7e1-4512-b7a6-2b379739b4f6",
        "id": "ZBuxQHskTvNy"
      },
      "execution_count": null,
      "outputs": [
        {
          "output_type": "display_data",
          "data": {
            "text/plain": [
              "<Figure size 432x288 with 2 Axes>"
            ],
            "image/png": "[encoded data removed]"
          },
          "metadata": {
            "needs_background": "light"
          }
        }
      ]
    },
    {
      "cell_type": "markdown",
      "source": [
        "### BiLSTM + GloVe"
      ],
      "metadata": {
        "id": "bk3KTbVgPOUn"
      }
    },
    {
      "cell_type": "markdown",
      "source": [
        "##### **Model Training**"
      ],
      "metadata": {
        "id": "KxFYLcD68UH9"
      }
    },
    {
      "cell_type": "code",
      "source": [
        "# dictionary of labels\n",
        "label_dict = {\n",
        "    0: 'real news',\n",
        "    1: 'fake news'\n",
        "}"
      ],
      "metadata": {
        "id": "nTXsJs3hWdGd"
      },
      "execution_count": null,
      "outputs": []
    },
    {
      "cell_type": "code",
      "source": [
        "# define parameters\n",
        "BATCH_SIZE = 64\n",
        "NUM_EPOCHS = 2"
      ],
      "metadata": {
        "id": "h4jwSKqaWqe-"
      },
      "execution_count": null,
      "outputs": []
    },
    {
      "cell_type": "code",
      "source": [
        "# build model\n",
        "model = tf.keras.Sequential()\n",
        "model.add(tf.keras.layers.Embedding(\n",
        "    input_dim=num_tokens, \n",
        "    output_dim=embedding_dim, \n",
        "    input_shape=(X_train.shape[1],), \n",
        "    weights=[embedding_matrix],\n",
        "    trainable=False \n",
        "))\n",
        "model.add(tf.keras.layers.Bidirectional(tf.keras.layers.LSTM(units=128, activation='tanh')))\n",
        "model.add(tf.keras.layers.Dense(units=len(label_dict), activation='softmax'))\n",
        "\n",
        "model.summary()"
      ],
      "metadata": {
        "colab": {
          "base_uri": "https://localhost:8080/"
        },
        "id": "Ku3So-J2S2h2",
        "outputId": "3aca8597-ec61-4d29-8afb-7ac19b9b83e9"
      },
      "execution_count": null,
      "outputs": [
        {
          "output_type": "stream",
          "name": "stdout",
          "text": [
            "Model: \"sequential\"\n",
            "_________________________________________________________________\n",
            " Layer (type)                Output Shape              Param #   \n",
            "=================================================================\n",
            " embedding (Embedding)       (None, 200, 200)          21738400  \n",
            "                                                                 \n",
            " bidirectional (Bidirectiona  (None, 256)              336896    \n",
            " l)                                                              \n",
            "                                                                 \n",
            " dense (Dense)               (None, 2)                 514       \n",
            "                                                                 \n",
            "=================================================================\n",
            "Total params: 22,075,810\n",
            "Trainable params: 337,410\n",
            "Non-trainable params: 21,738,400\n",
            "_________________________________________________________________\n"
          ]
        }
      ]
    },
    {
      "cell_type": "code",
      "source": [
        "# compile model\n",
        "model.compile(\n",
        "    optimizer=tf.keras.optimizers.Adam(learning_rate=0.001),\n",
        "    loss=tf.keras.losses.SparseCategoricalCrossentropy(),\n",
        "    metrics=['accuracy']\n",
        ")\n",
        "\n",
        "# start training\n",
        "history = model.fit(\n",
        "    X_train, y_train,\n",
        "    validation_split=0.15,\n",
        "    epochs=NUM_EPOCHS,\n",
        "    batch_size=BATCH_SIZE,\n",
        "    shuffle=True\n",
        ")"
      ],
      "metadata": {
        "colab": {
          "base_uri": "https://localhost:8080/"
        },
        "id": "PvdpyV_XWtv4",
        "outputId": "c906f5c0-2fcb-4b3a-843b-261dbbc65876"
      },
      "execution_count": null,
      "outputs": [
        {
          "output_type": "stream",
          "name": "stdout",
          "text": [
            "Epoch 1/2\n",
            "442/442 [==============================] - 404s 904ms/step - loss: 0.0270 - accuracy: 0.9915 - val_loss: 0.0098 - val_accuracy: 0.9984\n",
            "Epoch 2/2\n",
            "442/442 [==============================] - 399s 904ms/step - loss: 0.0075 - accuracy: 0.9982 - val_loss: 0.0123 - val_accuracy: 0.9978\n"
          ]
        }
      ]
    },
    {
      "cell_type": "code",
      "source": [
        "# save model\n",
        "model.save(PATH+'model_fake_news_v1.h5')"
      ],
      "metadata": {
        "id": "2rGqFdCHOv_r"
      },
      "execution_count": null,
      "outputs": []
    },
    {
      "cell_type": "markdown",
      "source": [
        "##### **Model Evaluation**"
      ],
      "metadata": {
        "id": "FB1ZuonJMTSo"
      }
    },
    {
      "cell_type": "code",
      "source": [
        "# predict data testing\n",
        "prediction = model.predict(X_test).argmax(axis=-1)\n",
        "\n",
        "# show performance report\n",
        "print(classification_report(y_test, prediction, target_names=list(label_dict.values()), digits=4))"
      ],
      "metadata": {
        "colab": {
          "base_uri": "https://localhost:8080/"
        },
        "id": "0sVzsk5MK5cR",
        "outputId": "cd3f748f-a477-45d8-fdaa-9e54687ae0ab"
      },
      "execution_count": null,
      "outputs": [
        {
          "output_type": "stream",
          "name": "stdout",
          "text": [
            "              precision    recall  f1-score   support\n",
            "\n",
            "   real news     0.9987    0.9991    0.9989      3180\n",
            "   fake news     0.9989    0.9985    0.9987      2686\n",
            "\n",
            "    accuracy                         0.9988      5866\n",
            "   macro avg     0.9988    0.9988    0.9988      5866\n",
            "weighted avg     0.9988    0.9988    0.9988      5866\n",
            "\n"
          ]
        }
      ]
    },
    {
      "cell_type": "code",
      "source": [
        "# show confusion matrix\n",
        "cm = confusion_matrix(y_test, prediction)\n",
        "\n",
        "plt.figure(figsize=(6,4))\n",
        "plt.title('Confusion Matrix', fontweight='bold', fontsize=15)\n",
        "sns.heatmap(\n",
        "    data=cm, annot=True, cmap='Greens', fmt='d',\n",
        "    linecolor='black', linewidths=0.1,\n",
        "    xticklabels=list(label_dict.values()), \n",
        "    yticklabels=list(label_dict.values())\n",
        ")\n",
        "\n",
        "plt.xlabel('prediction', fontweight='bold')\n",
        "plt.ylabel('actual', fontweight='bold')\n",
        "\n",
        "plt.show()"
      ],
      "metadata": {
        "colab": {
          "base_uri": "https://localhost:8080/",
          "height": 297
        },
        "id": "QShtCETFLHGC",
        "outputId": "2f2a5290-f791-431b-bd2f-33c99bf40f24"
      },
      "execution_count": null,
      "outputs": [
        {
          "output_type": "display_data",
          "data": {
            "text/plain": [
              "<Figure size 432x288 with 2 Axes>"
            ],
            "image/png": "[encoded data removed]"
          },
          "metadata": {
            "needs_background": "light"
          }
        }
      ]
    },
    {
      "cell_type": "markdown",
      "source": [
        "##### **Model Testing**"
      ],
      "metadata": {
        "id": "NQoi4zecc52S"
      }
    },
    {
      "cell_type": "markdown",
      "source": [
        "**Testing on your own text**"
      ],
      "metadata": {
        "id": "GnvXs3yf8_y0"
      }
    },
    {
      "cell_type": "code",
      "source": [
        "def test_data_preprocessing(text):\n",
        "  t = text_preprocessing(text)\n",
        "  t = tokenizer.texts_to_sequences([t])\n",
        "  t = tf.keras.preprocessing.sequence.pad_sequences(t, maxlen=MAX_LENGTH, padding=PADDING, truncating=TRUNCATING)\n",
        "  return t"
      ],
      "metadata": {
        "id": "6An32_U2bkxD"
      },
      "execution_count": null,
      "outputs": []
    },
    {
      "cell_type": "code",
      "source": [
        "# write your text here\n",
        "test_data = \"you should hide whenever the president asked you for your money\"\n",
        "\n",
        "# preprocess test data\n",
        "seq_test = test_data_preprocessing(test_data)\n",
        "seq_test"
      ],
      "metadata": {
        "id": "4ayvw1ePL27J",
        "colab": {
          "base_uri": "https://localhost:8080/"
        },
        "outputId": "059ec110-a792-4516-fbb6-b03c7336388b"
      },
      "execution_count": null,
      "outputs": [
        {
          "output_type": "execute_result",
          "data": {
            "text/plain": [
              "array([[3468, 4514,    5,  116,  171,    0,    0,    0,    0,    0,    0,\n",
              "           0,    0,    0,    0,    0,    0,    0,    0,    0,    0,    0,\n",
              "           0,    0,    0,    0,    0,    0,    0,    0,    0,    0,    0,\n",
              "           0,    0,    0,    0,    0,    0,    0,    0,    0,    0,    0,\n",
              "           0,    0,    0,    0,    0,    0,    0,    0,    0,    0,    0,\n",
              "           0,    0,    0,    0,    0,    0,    0,    0,    0,    0,    0,\n",
              "           0,    0,    0,    0,    0,    0,    0,    0,    0,    0,    0,\n",
              "           0,    0,    0,    0,    0,    0,    0,    0,    0,    0,    0,\n",
              "           0,    0,    0,    0,    0,    0,    0,    0,    0,    0,    0,\n",
              "           0,    0,    0,    0,    0,    0,    0,    0,    0,    0,    0,\n",
              "           0,    0,    0,    0,    0,    0,    0,    0,    0,    0,    0,\n",
              "           0,    0,    0,    0,    0,    0,    0,    0,    0,    0,    0,\n",
              "           0,    0,    0,    0,    0,    0,    0,    0,    0,    0,    0,\n",
              "           0,    0,    0,    0,    0,    0,    0,    0,    0,    0,    0,\n",
              "           0,    0,    0,    0,    0,    0,    0,    0,    0,    0,    0,\n",
              "           0,    0,    0,    0,    0,    0,    0,    0,    0,    0,    0,\n",
              "           0,    0,    0,    0,    0,    0,    0,    0,    0,    0,    0,\n",
              "           0,    0,    0,    0,    0,    0,    0,    0,    0,    0,    0,\n",
              "           0,    0]], dtype=int32)"
            ]
          },
          "metadata": {},
          "execution_count": 138
        }
      ]
    },
    {
      "cell_type": "code",
      "source": [
        "# show manual test data prediction\n",
        "test_prediction = model.predict(seq_test)\n",
        "\n",
        "print(f\"text:\\n{test_data}\\n\")\n",
        "print(f\"prediction: {label_dict[test_prediction.argmax(axis=-1)[0]].upper()}\")\n",
        "\n",
        "# show probabilies\n",
        "print('==================\\nprobability:')\n",
        "for i, lbl in enumerate(label_dict.values()):\n",
        "  print(f\"[{lbl.upper()}] {model.predict(seq_test)[0][i]:.4f}\")"
      ],
      "metadata": {
        "colab": {
          "base_uri": "https://localhost:8080/"
        },
        "id": "7XjgxVr6cpUH",
        "outputId": "9800b1ce-5afb-4095-987d-29c99f881ac9"
      },
      "execution_count": null,
      "outputs": [
        {
          "output_type": "stream",
          "name": "stdout",
          "text": [
            "text:\n",
            "you should hide whenever the president asked you for your money\n",
            "\n",
            "prediction: FAKE NEWS\n",
            "==================\n",
            "probability:\n",
            "[REAL NEWS] 0.0012\n",
            "[FAKE NEWS] 0.9988\n"
          ]
        }
      ]
    },
    {
      "cell_type": "markdown",
      "source": [
        "**Testing on random data sample**"
      ],
      "metadata": {
        "id": "lRz36RuZ836a"
      }
    },
    {
      "cell_type": "code",
      "source": [
        "ROW = 100\n",
        "df_cleaned.loc[ROW, ['text_cleaned','label']].to_frame('sample text')"
      ],
      "metadata": {
        "colab": {
          "base_uri": "https://localhost:8080/",
          "height": 112
        },
        "id": "58PkFHhLkGka",
        "outputId": "adfb8381-fc77-4f8b-b447-1463d9062e40"
      },
      "execution_count": null,
      "outputs": [
        {
          "output_type": "execute_result",
          "data": {
            "text/plain": [
              "                                                    sample text\n",
              "text_cleaned  washington reuters district court judge ruled ...\n",
              "label                                                         0"
            ],
            "text/html": [
              "\n",
              "  <div id=\"df-bcb5d357-b5cd-41de-98bd-a973262b7940\">\n",
              "    <div class=\"colab-df-container\">\n",
              "      <div>\n",
              "<style scoped>\n",
              "    .dataframe tbody tr th:only-of-type {\n",
              "        vertical-align: middle;\n",
              "    }\n",
              "\n",
              "    .dataframe tbody tr th {\n",
              "        vertical-align: top;\n",
              "    }\n",
              "\n",
              "    .dataframe thead th {\n",
              "        text-align: right;\n",
              "    }\n",
              "</style>\n",
              "<table border=\"1\" class=\"dataframe\">\n",
              "  <thead>\n",
              "    <tr style=\"text-align: right;\">\n",
              "      <th></th>\n",
              "      <th>sample text</th>\n",
              "    </tr>\n",
              "  </thead>\n",
              "  <tbody>\n",
              "    <tr>\n",
              "      <th>text_cleaned</th>\n",
              "      <td>washington reuters district court judge ruled ...</td>\n",
              "    </tr>\n",
              "    <tr>\n",
              "      <th>label</th>\n",
              "      <td>0</td>\n",
              "    </tr>\n",
              "  </tbody>\n",
              "</table>\n",
              "</div>\n",
              "      <button class=\"colab-df-convert\" onclick=\"convertToInteractive('df-bcb5d357-b5cd-41de-98bd-a973262b7940')\"\n",
              "              title=\"Convert this dataframe to an interactive table.\"\n",
              "              style=\"display:none;\">\n",
              "        \n",
              "  <svg xmlns=\"http://www.w3.org/2000/svg\" height=\"24px\"viewBox=\"0 0 24 24\"\n",
              "       width=\"24px\">\n",
              "    <path d=\"M0 0h24v24H0V0z\" fill=\"none\"/>\n",
              "    <path d=\"M18.56 5.44l.94 2.06.94-2.06 2.06-.94-2.06-.94-.94-2.06-.94 2.06-2.06.94zm-11 1L8.5 8.5l.94-2.06 2.06-.94-2.06-.94L8.5 2.5l-.94 2.06-2.06.94zm10 10l.94 2.06.94-2.06 2.06-.94-2.06-.94-.94-2.06-.94 2.06-2.06.94z\"/><path d=\"M17.41 7.96l-1.37-1.37c-.4-.4-.92-.59-1.43-.59-.52 0-1.04.2-1.43.59L10.3 9.45l-7.72 7.72c-.78.78-.78 2.05 0 2.83L4 21.41c.39.39.9.59 1.41.59.51 0 1.02-.2 1.41-.59l7.78-7.78 2.81-2.81c.8-.78.8-2.07 0-2.86zM5.41 20L4 18.59l7.72-7.72 1.47 1.35L5.41 20z\"/>\n",
              "  </svg>\n",
              "      </button>\n",
              "      \n",
              "  <style>\n",
              "    .colab-df-container {\n",
              "      display:flex;\n",
              "      flex-wrap:wrap;\n",
              "      gap: 12px;\n",
              "    }\n",
              "\n",
              "    .colab-df-convert {\n",
              "      background-color: #E8F0FE;\n",
              "      border: none;\n",
              "      border-radius: 50%;\n",
              "      cursor: pointer;\n",
              "      display: none;\n",
              "      fill: #1967D2;\n",
              "      height: 32px;\n",
              "      padding: 0 0 0 0;\n",
              "      width: 32px;\n",
              "    }\n",
              "\n",
              "    .colab-df-convert:hover {\n",
              "      background-color: #E2EBFA;\n",
              "      box-shadow: 0px 1px 2px rgba(60, 64, 67, 0.3), 0px 1px 3px 1px rgba(60, 64, 67, 0.15);\n",
              "      fill: #174EA6;\n",
              "    }\n",
              "\n",
              "    [theme=dark] .colab-df-convert {\n",
              "      background-color: #3B4455;\n",
              "      fill: #D2E3FC;\n",
              "    }\n",
              "\n",
              "    [theme=dark] .colab-df-convert:hover {\n",
              "      background-color: #434B5C;\n",
              "      box-shadow: 0px 1px 3px 1px rgba(0, 0, 0, 0.15);\n",
              "      filter: drop-shadow(0px 1px 2px rgba(0, 0, 0, 0.3));\n",
              "      fill: #FFFFFF;\n",
              "    }\n",
              "  </style>\n",
              "\n",
              "      <script>\n",
              "        const buttonEl =\n",
              "          document.querySelector('#df-bcb5d357-b5cd-41de-98bd-a973262b7940 button.colab-df-convert');\n",
              "        buttonEl.style.display =\n",
              "          google.colab.kernel.accessAllowed ? 'block' : 'none';\n",
              "\n",
              "        async function convertToInteractive(key) {\n",
              "          const element = document.querySelector('#df-bcb5d357-b5cd-41de-98bd-a973262b7940');\n",
              "          const dataTable =\n",
              "            await google.colab.kernel.invokeFunction('convertToInteractive',\n",
              "                                                     [key], {});\n",
              "          if (!dataTable) return;\n",
              "\n",
              "          const docLinkHtml = 'Like what you see? Visit the ' +\n",
              "            '<a target=\"_blank\" href=https://colab.research.google.com/notebooks/data_table.ipynb>data table notebook</a>'\n",
              "            + ' to learn more about interactive tables.';\n",
              "          element.innerHTML = '';\n",
              "          dataTable['output_type'] = 'display_data';\n",
              "          await google.colab.output.renderOutput(dataTable, element);\n",
              "          const docLink = document.createElement('div');\n",
              "          docLink.innerHTML = docLinkHtml;\n",
              "          element.appendChild(docLink);\n",
              "        }\n",
              "      </script>\n",
              "    </div>\n",
              "  </div>\n",
              "  "
            ]
          },
          "metadata": {},
          "execution_count": 178
        }
      ]
    },
    {
      "cell_type": "code",
      "source": [
        "t = df_cleaned.loc[ROW, 'text_cleaned']\n",
        "t = tokenizer.texts_to_sequences([t])\n",
        "t = tf.keras.preprocessing.sequence.pad_sequences(t, maxlen=MAX_LENGTH, padding=PADDING, truncating=TRUNCATING)\n",
        "print(f\"prediction: {label_dict[model.predict(t).argmax(axis=-1)[0]].upper()}\")"
      ],
      "metadata": {
        "colab": {
          "base_uri": "https://localhost:8080/"
        },
        "id": "SJwygpwjkGpg",
        "outputId": "5b51d34f-408b-490a-f1a1-8c16fd2b6343"
      },
      "execution_count": null,
      "outputs": [
        {
          "output_type": "stream",
          "name": "stdout",
          "text": [
            "prediction: REAL NEWS\n"
          ]
        }
      ]
    }
  ]
}